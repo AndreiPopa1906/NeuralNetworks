{
  "nbformat": 4,
  "nbformat_minor": 0,
  "metadata": {
    "colab": {
      "provenance": [],
      "authorship_tag": "ABX9TyOZe3JLsQFhvcb8++odSmYu",
      "include_colab_link": true
    },
    "kernelspec": {
      "name": "python3",
      "display_name": "Python 3"
    },
    "language_info": {
      "name": "python"
    },
    "widgets": {
      "application/vnd.jupyter.widget-state+json": {
        "07e83f98a7934352a3c931e8b88414ab": {
          "model_module": "@jupyter-widgets/controls",
          "model_name": "HBoxModel",
          "model_module_version": "1.5.0",
          "state": {
            "_dom_classes": [],
            "_model_module": "@jupyter-widgets/controls",
            "_model_module_version": "1.5.0",
            "_model_name": "HBoxModel",
            "_view_count": null,
            "_view_module": "@jupyter-widgets/controls",
            "_view_module_version": "1.5.0",
            "_view_name": "HBoxView",
            "box_style": "",
            "children": [
              "IPY_MODEL_73e0cac6eb39478d9f62c6133842e3a4",
              "IPY_MODEL_bdae204835304ec78fb431151cafc522",
              "IPY_MODEL_ba765c3527924712b10f48d9e98e07da"
            ],
            "layout": "IPY_MODEL_aa746b485bde4a90a76c78d51b2316f7"
          }
        },
        "73e0cac6eb39478d9f62c6133842e3a4": {
          "model_module": "@jupyter-widgets/controls",
          "model_name": "HTMLModel",
          "model_module_version": "1.5.0",
          "state": {
            "_dom_classes": [],
            "_model_module": "@jupyter-widgets/controls",
            "_model_module_version": "1.5.0",
            "_model_name": "HTMLModel",
            "_view_count": null,
            "_view_module": "@jupyter-widgets/controls",
            "_view_module_version": "1.5.0",
            "_view_name": "HTMLView",
            "description": "",
            "description_tooltip": null,
            "layout": "IPY_MODEL_3aef10843cbb47af8fb46847cb8c9bbf",
            "placeholder": "​",
            "style": "IPY_MODEL_4482a43b276943d0996d7b3f9dea92f6",
            "value": "100%"
          }
        },
        "bdae204835304ec78fb431151cafc522": {
          "model_module": "@jupyter-widgets/controls",
          "model_name": "FloatProgressModel",
          "model_module_version": "1.5.0",
          "state": {
            "_dom_classes": [],
            "_model_module": "@jupyter-widgets/controls",
            "_model_module_version": "1.5.0",
            "_model_name": "FloatProgressModel",
            "_view_count": null,
            "_view_module": "@jupyter-widgets/controls",
            "_view_module_version": "1.5.0",
            "_view_name": "ProgressView",
            "bar_style": "success",
            "description": "",
            "description_tooltip": null,
            "layout": "IPY_MODEL_d328233b240140d6a5fb18467fd33640",
            "max": 3,
            "min": 0,
            "orientation": "horizontal",
            "style": "IPY_MODEL_b80902933f704fc6a5a2935962b85e1e",
            "value": 3
          }
        },
        "ba765c3527924712b10f48d9e98e07da": {
          "model_module": "@jupyter-widgets/controls",
          "model_name": "HTMLModel",
          "model_module_version": "1.5.0",
          "state": {
            "_dom_classes": [],
            "_model_module": "@jupyter-widgets/controls",
            "_model_module_version": "1.5.0",
            "_model_name": "HTMLModel",
            "_view_count": null,
            "_view_module": "@jupyter-widgets/controls",
            "_view_module_version": "1.5.0",
            "_view_name": "HTMLView",
            "description": "",
            "description_tooltip": null,
            "layout": "IPY_MODEL_b7628ddf7bec48e3b6ad796e87db2d28",
            "placeholder": "​",
            "style": "IPY_MODEL_9481d391739c481180d9108a9776cf03",
            "value": " 3/3 [00:40&lt;00:00, 13.46s/it]"
          }
        },
        "aa746b485bde4a90a76c78d51b2316f7": {
          "model_module": "@jupyter-widgets/base",
          "model_name": "LayoutModel",
          "model_module_version": "1.2.0",
          "state": {
            "_model_module": "@jupyter-widgets/base",
            "_model_module_version": "1.2.0",
            "_model_name": "LayoutModel",
            "_view_count": null,
            "_view_module": "@jupyter-widgets/base",
            "_view_module_version": "1.2.0",
            "_view_name": "LayoutView",
            "align_content": null,
            "align_items": null,
            "align_self": null,
            "border": null,
            "bottom": null,
            "display": null,
            "flex": null,
            "flex_flow": null,
            "grid_area": null,
            "grid_auto_columns": null,
            "grid_auto_flow": null,
            "grid_auto_rows": null,
            "grid_column": null,
            "grid_gap": null,
            "grid_row": null,
            "grid_template_areas": null,
            "grid_template_columns": null,
            "grid_template_rows": null,
            "height": null,
            "justify_content": null,
            "justify_items": null,
            "left": null,
            "margin": null,
            "max_height": null,
            "max_width": null,
            "min_height": null,
            "min_width": null,
            "object_fit": null,
            "object_position": null,
            "order": null,
            "overflow": null,
            "overflow_x": null,
            "overflow_y": null,
            "padding": null,
            "right": null,
            "top": null,
            "visibility": null,
            "width": null
          }
        },
        "3aef10843cbb47af8fb46847cb8c9bbf": {
          "model_module": "@jupyter-widgets/base",
          "model_name": "LayoutModel",
          "model_module_version": "1.2.0",
          "state": {
            "_model_module": "@jupyter-widgets/base",
            "_model_module_version": "1.2.0",
            "_model_name": "LayoutModel",
            "_view_count": null,
            "_view_module": "@jupyter-widgets/base",
            "_view_module_version": "1.2.0",
            "_view_name": "LayoutView",
            "align_content": null,
            "align_items": null,
            "align_self": null,
            "border": null,
            "bottom": null,
            "display": null,
            "flex": null,
            "flex_flow": null,
            "grid_area": null,
            "grid_auto_columns": null,
            "grid_auto_flow": null,
            "grid_auto_rows": null,
            "grid_column": null,
            "grid_gap": null,
            "grid_row": null,
            "grid_template_areas": null,
            "grid_template_columns": null,
            "grid_template_rows": null,
            "height": null,
            "justify_content": null,
            "justify_items": null,
            "left": null,
            "margin": null,
            "max_height": null,
            "max_width": null,
            "min_height": null,
            "min_width": null,
            "object_fit": null,
            "object_position": null,
            "order": null,
            "overflow": null,
            "overflow_x": null,
            "overflow_y": null,
            "padding": null,
            "right": null,
            "top": null,
            "visibility": null,
            "width": null
          }
        },
        "4482a43b276943d0996d7b3f9dea92f6": {
          "model_module": "@jupyter-widgets/controls",
          "model_name": "DescriptionStyleModel",
          "model_module_version": "1.5.0",
          "state": {
            "_model_module": "@jupyter-widgets/controls",
            "_model_module_version": "1.5.0",
            "_model_name": "DescriptionStyleModel",
            "_view_count": null,
            "_view_module": "@jupyter-widgets/base",
            "_view_module_version": "1.2.0",
            "_view_name": "StyleView",
            "description_width": ""
          }
        },
        "d328233b240140d6a5fb18467fd33640": {
          "model_module": "@jupyter-widgets/base",
          "model_name": "LayoutModel",
          "model_module_version": "1.2.0",
          "state": {
            "_model_module": "@jupyter-widgets/base",
            "_model_module_version": "1.2.0",
            "_model_name": "LayoutModel",
            "_view_count": null,
            "_view_module": "@jupyter-widgets/base",
            "_view_module_version": "1.2.0",
            "_view_name": "LayoutView",
            "align_content": null,
            "align_items": null,
            "align_self": null,
            "border": null,
            "bottom": null,
            "display": null,
            "flex": null,
            "flex_flow": null,
            "grid_area": null,
            "grid_auto_columns": null,
            "grid_auto_flow": null,
            "grid_auto_rows": null,
            "grid_column": null,
            "grid_gap": null,
            "grid_row": null,
            "grid_template_areas": null,
            "grid_template_columns": null,
            "grid_template_rows": null,
            "height": null,
            "justify_content": null,
            "justify_items": null,
            "left": null,
            "margin": null,
            "max_height": null,
            "max_width": null,
            "min_height": null,
            "min_width": null,
            "object_fit": null,
            "object_position": null,
            "order": null,
            "overflow": null,
            "overflow_x": null,
            "overflow_y": null,
            "padding": null,
            "right": null,
            "top": null,
            "visibility": null,
            "width": null
          }
        },
        "b80902933f704fc6a5a2935962b85e1e": {
          "model_module": "@jupyter-widgets/controls",
          "model_name": "ProgressStyleModel",
          "model_module_version": "1.5.0",
          "state": {
            "_model_module": "@jupyter-widgets/controls",
            "_model_module_version": "1.5.0",
            "_model_name": "ProgressStyleModel",
            "_view_count": null,
            "_view_module": "@jupyter-widgets/base",
            "_view_module_version": "1.2.0",
            "_view_name": "StyleView",
            "bar_color": null,
            "description_width": ""
          }
        },
        "b7628ddf7bec48e3b6ad796e87db2d28": {
          "model_module": "@jupyter-widgets/base",
          "model_name": "LayoutModel",
          "model_module_version": "1.2.0",
          "state": {
            "_model_module": "@jupyter-widgets/base",
            "_model_module_version": "1.2.0",
            "_model_name": "LayoutModel",
            "_view_count": null,
            "_view_module": "@jupyter-widgets/base",
            "_view_module_version": "1.2.0",
            "_view_name": "LayoutView",
            "align_content": null,
            "align_items": null,
            "align_self": null,
            "border": null,
            "bottom": null,
            "display": null,
            "flex": null,
            "flex_flow": null,
            "grid_area": null,
            "grid_auto_columns": null,
            "grid_auto_flow": null,
            "grid_auto_rows": null,
            "grid_column": null,
            "grid_gap": null,
            "grid_row": null,
            "grid_template_areas": null,
            "grid_template_columns": null,
            "grid_template_rows": null,
            "height": null,
            "justify_content": null,
            "justify_items": null,
            "left": null,
            "margin": null,
            "max_height": null,
            "max_width": null,
            "min_height": null,
            "min_width": null,
            "object_fit": null,
            "object_position": null,
            "order": null,
            "overflow": null,
            "overflow_x": null,
            "overflow_y": null,
            "padding": null,
            "right": null,
            "top": null,
            "visibility": null,
            "width": null
          }
        },
        "9481d391739c481180d9108a9776cf03": {
          "model_module": "@jupyter-widgets/controls",
          "model_name": "DescriptionStyleModel",
          "model_module_version": "1.5.0",
          "state": {
            "_model_module": "@jupyter-widgets/controls",
            "_model_module_version": "1.5.0",
            "_model_name": "DescriptionStyleModel",
            "_view_count": null,
            "_view_module": "@jupyter-widgets/base",
            "_view_module_version": "1.2.0",
            "_view_name": "StyleView",
            "description_width": ""
          }
        },
        "80fa66ca17844d82b63a83932a83b216": {
          "model_module": "@jupyter-widgets/controls",
          "model_name": "HBoxModel",
          "model_module_version": "1.5.0",
          "state": {
            "_dom_classes": [],
            "_model_module": "@jupyter-widgets/controls",
            "_model_module_version": "1.5.0",
            "_model_name": "HBoxModel",
            "_view_count": null,
            "_view_module": "@jupyter-widgets/controls",
            "_view_module_version": "1.5.0",
            "_view_name": "HBoxView",
            "box_style": "",
            "children": [
              "IPY_MODEL_dafaaf2a4d594e518d69cc25ae795fc6",
              "IPY_MODEL_680dccb9258148a786a6c5a755ecb39d",
              "IPY_MODEL_8ed2203af9cc40fea5d952af5491400f"
            ],
            "layout": "IPY_MODEL_875af1dff98b4d11a2bcc77cebcf2e21"
          }
        },
        "dafaaf2a4d594e518d69cc25ae795fc6": {
          "model_module": "@jupyter-widgets/controls",
          "model_name": "HTMLModel",
          "model_module_version": "1.5.0",
          "state": {
            "_dom_classes": [],
            "_model_module": "@jupyter-widgets/controls",
            "_model_module_version": "1.5.0",
            "_model_name": "HTMLModel",
            "_view_count": null,
            "_view_module": "@jupyter-widgets/controls",
            "_view_module_version": "1.5.0",
            "_view_name": "HTMLView",
            "description": "",
            "description_tooltip": null,
            "layout": "IPY_MODEL_3731a50eba874127b2c35e21765d6406",
            "placeholder": "​",
            "style": "IPY_MODEL_05365736ba86415292aa0b9f484a45b0",
            "value": "100%"
          }
        },
        "680dccb9258148a786a6c5a755ecb39d": {
          "model_module": "@jupyter-widgets/controls",
          "model_name": "FloatProgressModel",
          "model_module_version": "1.5.0",
          "state": {
            "_dom_classes": [],
            "_model_module": "@jupyter-widgets/controls",
            "_model_module_version": "1.5.0",
            "_model_name": "FloatProgressModel",
            "_view_count": null,
            "_view_module": "@jupyter-widgets/controls",
            "_view_module_version": "1.5.0",
            "_view_name": "ProgressView",
            "bar_style": "success",
            "description": "",
            "description_tooltip": null,
            "layout": "IPY_MODEL_064f6c643d1c467ca62a93ea038c5da1",
            "max": 3,
            "min": 0,
            "orientation": "horizontal",
            "style": "IPY_MODEL_f3ac5d59c468411e9c613fe8359b9b7f",
            "value": 3
          }
        },
        "8ed2203af9cc40fea5d952af5491400f": {
          "model_module": "@jupyter-widgets/controls",
          "model_name": "HTMLModel",
          "model_module_version": "1.5.0",
          "state": {
            "_dom_classes": [],
            "_model_module": "@jupyter-widgets/controls",
            "_model_module_version": "1.5.0",
            "_model_name": "HTMLModel",
            "_view_count": null,
            "_view_module": "@jupyter-widgets/controls",
            "_view_module_version": "1.5.0",
            "_view_name": "HTMLView",
            "description": "",
            "description_tooltip": null,
            "layout": "IPY_MODEL_c4295acf5bc9492d8a20a0297da386e7",
            "placeholder": "​",
            "style": "IPY_MODEL_4ae93e56ef124980a8a9766204eaa3d6",
            "value": " 3/3 [00:42&lt;00:00, 14.39s/it]"
          }
        },
        "875af1dff98b4d11a2bcc77cebcf2e21": {
          "model_module": "@jupyter-widgets/base",
          "model_name": "LayoutModel",
          "model_module_version": "1.2.0",
          "state": {
            "_model_module": "@jupyter-widgets/base",
            "_model_module_version": "1.2.0",
            "_model_name": "LayoutModel",
            "_view_count": null,
            "_view_module": "@jupyter-widgets/base",
            "_view_module_version": "1.2.0",
            "_view_name": "LayoutView",
            "align_content": null,
            "align_items": null,
            "align_self": null,
            "border": null,
            "bottom": null,
            "display": null,
            "flex": null,
            "flex_flow": null,
            "grid_area": null,
            "grid_auto_columns": null,
            "grid_auto_flow": null,
            "grid_auto_rows": null,
            "grid_column": null,
            "grid_gap": null,
            "grid_row": null,
            "grid_template_areas": null,
            "grid_template_columns": null,
            "grid_template_rows": null,
            "height": null,
            "justify_content": null,
            "justify_items": null,
            "left": null,
            "margin": null,
            "max_height": null,
            "max_width": null,
            "min_height": null,
            "min_width": null,
            "object_fit": null,
            "object_position": null,
            "order": null,
            "overflow": null,
            "overflow_x": null,
            "overflow_y": null,
            "padding": null,
            "right": null,
            "top": null,
            "visibility": null,
            "width": null
          }
        },
        "3731a50eba874127b2c35e21765d6406": {
          "model_module": "@jupyter-widgets/base",
          "model_name": "LayoutModel",
          "model_module_version": "1.2.0",
          "state": {
            "_model_module": "@jupyter-widgets/base",
            "_model_module_version": "1.2.0",
            "_model_name": "LayoutModel",
            "_view_count": null,
            "_view_module": "@jupyter-widgets/base",
            "_view_module_version": "1.2.0",
            "_view_name": "LayoutView",
            "align_content": null,
            "align_items": null,
            "align_self": null,
            "border": null,
            "bottom": null,
            "display": null,
            "flex": null,
            "flex_flow": null,
            "grid_area": null,
            "grid_auto_columns": null,
            "grid_auto_flow": null,
            "grid_auto_rows": null,
            "grid_column": null,
            "grid_gap": null,
            "grid_row": null,
            "grid_template_areas": null,
            "grid_template_columns": null,
            "grid_template_rows": null,
            "height": null,
            "justify_content": null,
            "justify_items": null,
            "left": null,
            "margin": null,
            "max_height": null,
            "max_width": null,
            "min_height": null,
            "min_width": null,
            "object_fit": null,
            "object_position": null,
            "order": null,
            "overflow": null,
            "overflow_x": null,
            "overflow_y": null,
            "padding": null,
            "right": null,
            "top": null,
            "visibility": null,
            "width": null
          }
        },
        "05365736ba86415292aa0b9f484a45b0": {
          "model_module": "@jupyter-widgets/controls",
          "model_name": "DescriptionStyleModel",
          "model_module_version": "1.5.0",
          "state": {
            "_model_module": "@jupyter-widgets/controls",
            "_model_module_version": "1.5.0",
            "_model_name": "DescriptionStyleModel",
            "_view_count": null,
            "_view_module": "@jupyter-widgets/base",
            "_view_module_version": "1.2.0",
            "_view_name": "StyleView",
            "description_width": ""
          }
        },
        "064f6c643d1c467ca62a93ea038c5da1": {
          "model_module": "@jupyter-widgets/base",
          "model_name": "LayoutModel",
          "model_module_version": "1.2.0",
          "state": {
            "_model_module": "@jupyter-widgets/base",
            "_model_module_version": "1.2.0",
            "_model_name": "LayoutModel",
            "_view_count": null,
            "_view_module": "@jupyter-widgets/base",
            "_view_module_version": "1.2.0",
            "_view_name": "LayoutView",
            "align_content": null,
            "align_items": null,
            "align_self": null,
            "border": null,
            "bottom": null,
            "display": null,
            "flex": null,
            "flex_flow": null,
            "grid_area": null,
            "grid_auto_columns": null,
            "grid_auto_flow": null,
            "grid_auto_rows": null,
            "grid_column": null,
            "grid_gap": null,
            "grid_row": null,
            "grid_template_areas": null,
            "grid_template_columns": null,
            "grid_template_rows": null,
            "height": null,
            "justify_content": null,
            "justify_items": null,
            "left": null,
            "margin": null,
            "max_height": null,
            "max_width": null,
            "min_height": null,
            "min_width": null,
            "object_fit": null,
            "object_position": null,
            "order": null,
            "overflow": null,
            "overflow_x": null,
            "overflow_y": null,
            "padding": null,
            "right": null,
            "top": null,
            "visibility": null,
            "width": null
          }
        },
        "f3ac5d59c468411e9c613fe8359b9b7f": {
          "model_module": "@jupyter-widgets/controls",
          "model_name": "ProgressStyleModel",
          "model_module_version": "1.5.0",
          "state": {
            "_model_module": "@jupyter-widgets/controls",
            "_model_module_version": "1.5.0",
            "_model_name": "ProgressStyleModel",
            "_view_count": null,
            "_view_module": "@jupyter-widgets/base",
            "_view_module_version": "1.2.0",
            "_view_name": "StyleView",
            "bar_color": null,
            "description_width": ""
          }
        },
        "c4295acf5bc9492d8a20a0297da386e7": {
          "model_module": "@jupyter-widgets/base",
          "model_name": "LayoutModel",
          "model_module_version": "1.2.0",
          "state": {
            "_model_module": "@jupyter-widgets/base",
            "_model_module_version": "1.2.0",
            "_model_name": "LayoutModel",
            "_view_count": null,
            "_view_module": "@jupyter-widgets/base",
            "_view_module_version": "1.2.0",
            "_view_name": "LayoutView",
            "align_content": null,
            "align_items": null,
            "align_self": null,
            "border": null,
            "bottom": null,
            "display": null,
            "flex": null,
            "flex_flow": null,
            "grid_area": null,
            "grid_auto_columns": null,
            "grid_auto_flow": null,
            "grid_auto_rows": null,
            "grid_column": null,
            "grid_gap": null,
            "grid_row": null,
            "grid_template_areas": null,
            "grid_template_columns": null,
            "grid_template_rows": null,
            "height": null,
            "justify_content": null,
            "justify_items": null,
            "left": null,
            "margin": null,
            "max_height": null,
            "max_width": null,
            "min_height": null,
            "min_width": null,
            "object_fit": null,
            "object_position": null,
            "order": null,
            "overflow": null,
            "overflow_x": null,
            "overflow_y": null,
            "padding": null,
            "right": null,
            "top": null,
            "visibility": null,
            "width": null
          }
        },
        "4ae93e56ef124980a8a9766204eaa3d6": {
          "model_module": "@jupyter-widgets/controls",
          "model_name": "DescriptionStyleModel",
          "model_module_version": "1.5.0",
          "state": {
            "_model_module": "@jupyter-widgets/controls",
            "_model_module_version": "1.5.0",
            "_model_name": "DescriptionStyleModel",
            "_view_count": null,
            "_view_module": "@jupyter-widgets/base",
            "_view_module_version": "1.2.0",
            "_view_name": "StyleView",
            "description_width": ""
          }
        },
        "f3c5c1c071f34f9fbe54b6924668d200": {
          "model_module": "@jupyter-widgets/controls",
          "model_name": "HBoxModel",
          "model_module_version": "1.5.0",
          "state": {
            "_dom_classes": [],
            "_model_module": "@jupyter-widgets/controls",
            "_model_module_version": "1.5.0",
            "_model_name": "HBoxModel",
            "_view_count": null,
            "_view_module": "@jupyter-widgets/controls",
            "_view_module_version": "1.5.0",
            "_view_name": "HBoxView",
            "box_style": "",
            "children": [
              "IPY_MODEL_9a2812c94ec7479cb08e6294ea7f4d2b",
              "IPY_MODEL_8d122e7372e04b1abea172c0e2d24472",
              "IPY_MODEL_cdd4e29ea8e04e438ebe6e7c65af10c9"
            ],
            "layout": "IPY_MODEL_fec67c60a9d14917bc29d353ea81bf6c"
          }
        },
        "9a2812c94ec7479cb08e6294ea7f4d2b": {
          "model_module": "@jupyter-widgets/controls",
          "model_name": "HTMLModel",
          "model_module_version": "1.5.0",
          "state": {
            "_dom_classes": [],
            "_model_module": "@jupyter-widgets/controls",
            "_model_module_version": "1.5.0",
            "_model_name": "HTMLModel",
            "_view_count": null,
            "_view_module": "@jupyter-widgets/controls",
            "_view_module_version": "1.5.0",
            "_view_name": "HTMLView",
            "description": "",
            "description_tooltip": null,
            "layout": "IPY_MODEL_12abcb19b012484a913451bc31c54d8d",
            "placeholder": "​",
            "style": "IPY_MODEL_8357ef6863fe45d1b80770cfed7363b7",
            "value": "100%"
          }
        },
        "8d122e7372e04b1abea172c0e2d24472": {
          "model_module": "@jupyter-widgets/controls",
          "model_name": "FloatProgressModel",
          "model_module_version": "1.5.0",
          "state": {
            "_dom_classes": [],
            "_model_module": "@jupyter-widgets/controls",
            "_model_module_version": "1.5.0",
            "_model_name": "FloatProgressModel",
            "_view_count": null,
            "_view_module": "@jupyter-widgets/controls",
            "_view_module_version": "1.5.0",
            "_view_name": "ProgressView",
            "bar_style": "success",
            "description": "",
            "description_tooltip": null,
            "layout": "IPY_MODEL_d4eb3c4ec3d84d3781fa65a6947fd16a",
            "max": 3,
            "min": 0,
            "orientation": "horizontal",
            "style": "IPY_MODEL_0bd2170695c94211a9fd302edb8687ff",
            "value": 3
          }
        },
        "cdd4e29ea8e04e438ebe6e7c65af10c9": {
          "model_module": "@jupyter-widgets/controls",
          "model_name": "HTMLModel",
          "model_module_version": "1.5.0",
          "state": {
            "_dom_classes": [],
            "_model_module": "@jupyter-widgets/controls",
            "_model_module_version": "1.5.0",
            "_model_name": "HTMLModel",
            "_view_count": null,
            "_view_module": "@jupyter-widgets/controls",
            "_view_module_version": "1.5.0",
            "_view_name": "HTMLView",
            "description": "",
            "description_tooltip": null,
            "layout": "IPY_MODEL_191dc145672b4a9fa0797e4c8a29eb1a",
            "placeholder": "​",
            "style": "IPY_MODEL_7efd3ce96d884a32a6e9f75e26f7ccc1",
            "value": " 3/3 [04:07&lt;00:00, 84.61s/it]"
          }
        },
        "fec67c60a9d14917bc29d353ea81bf6c": {
          "model_module": "@jupyter-widgets/base",
          "model_name": "LayoutModel",
          "model_module_version": "1.2.0",
          "state": {
            "_model_module": "@jupyter-widgets/base",
            "_model_module_version": "1.2.0",
            "_model_name": "LayoutModel",
            "_view_count": null,
            "_view_module": "@jupyter-widgets/base",
            "_view_module_version": "1.2.0",
            "_view_name": "LayoutView",
            "align_content": null,
            "align_items": null,
            "align_self": null,
            "border": null,
            "bottom": null,
            "display": null,
            "flex": null,
            "flex_flow": null,
            "grid_area": null,
            "grid_auto_columns": null,
            "grid_auto_flow": null,
            "grid_auto_rows": null,
            "grid_column": null,
            "grid_gap": null,
            "grid_row": null,
            "grid_template_areas": null,
            "grid_template_columns": null,
            "grid_template_rows": null,
            "height": null,
            "justify_content": null,
            "justify_items": null,
            "left": null,
            "margin": null,
            "max_height": null,
            "max_width": null,
            "min_height": null,
            "min_width": null,
            "object_fit": null,
            "object_position": null,
            "order": null,
            "overflow": null,
            "overflow_x": null,
            "overflow_y": null,
            "padding": null,
            "right": null,
            "top": null,
            "visibility": null,
            "width": null
          }
        },
        "12abcb19b012484a913451bc31c54d8d": {
          "model_module": "@jupyter-widgets/base",
          "model_name": "LayoutModel",
          "model_module_version": "1.2.0",
          "state": {
            "_model_module": "@jupyter-widgets/base",
            "_model_module_version": "1.2.0",
            "_model_name": "LayoutModel",
            "_view_count": null,
            "_view_module": "@jupyter-widgets/base",
            "_view_module_version": "1.2.0",
            "_view_name": "LayoutView",
            "align_content": null,
            "align_items": null,
            "align_self": null,
            "border": null,
            "bottom": null,
            "display": null,
            "flex": null,
            "flex_flow": null,
            "grid_area": null,
            "grid_auto_columns": null,
            "grid_auto_flow": null,
            "grid_auto_rows": null,
            "grid_column": null,
            "grid_gap": null,
            "grid_row": null,
            "grid_template_areas": null,
            "grid_template_columns": null,
            "grid_template_rows": null,
            "height": null,
            "justify_content": null,
            "justify_items": null,
            "left": null,
            "margin": null,
            "max_height": null,
            "max_width": null,
            "min_height": null,
            "min_width": null,
            "object_fit": null,
            "object_position": null,
            "order": null,
            "overflow": null,
            "overflow_x": null,
            "overflow_y": null,
            "padding": null,
            "right": null,
            "top": null,
            "visibility": null,
            "width": null
          }
        },
        "8357ef6863fe45d1b80770cfed7363b7": {
          "model_module": "@jupyter-widgets/controls",
          "model_name": "DescriptionStyleModel",
          "model_module_version": "1.5.0",
          "state": {
            "_model_module": "@jupyter-widgets/controls",
            "_model_module_version": "1.5.0",
            "_model_name": "DescriptionStyleModel",
            "_view_count": null,
            "_view_module": "@jupyter-widgets/base",
            "_view_module_version": "1.2.0",
            "_view_name": "StyleView",
            "description_width": ""
          }
        },
        "d4eb3c4ec3d84d3781fa65a6947fd16a": {
          "model_module": "@jupyter-widgets/base",
          "model_name": "LayoutModel",
          "model_module_version": "1.2.0",
          "state": {
            "_model_module": "@jupyter-widgets/base",
            "_model_module_version": "1.2.0",
            "_model_name": "LayoutModel",
            "_view_count": null,
            "_view_module": "@jupyter-widgets/base",
            "_view_module_version": "1.2.0",
            "_view_name": "LayoutView",
            "align_content": null,
            "align_items": null,
            "align_self": null,
            "border": null,
            "bottom": null,
            "display": null,
            "flex": null,
            "flex_flow": null,
            "grid_area": null,
            "grid_auto_columns": null,
            "grid_auto_flow": null,
            "grid_auto_rows": null,
            "grid_column": null,
            "grid_gap": null,
            "grid_row": null,
            "grid_template_areas": null,
            "grid_template_columns": null,
            "grid_template_rows": null,
            "height": null,
            "justify_content": null,
            "justify_items": null,
            "left": null,
            "margin": null,
            "max_height": null,
            "max_width": null,
            "min_height": null,
            "min_width": null,
            "object_fit": null,
            "object_position": null,
            "order": null,
            "overflow": null,
            "overflow_x": null,
            "overflow_y": null,
            "padding": null,
            "right": null,
            "top": null,
            "visibility": null,
            "width": null
          }
        },
        "0bd2170695c94211a9fd302edb8687ff": {
          "model_module": "@jupyter-widgets/controls",
          "model_name": "ProgressStyleModel",
          "model_module_version": "1.5.0",
          "state": {
            "_model_module": "@jupyter-widgets/controls",
            "_model_module_version": "1.5.0",
            "_model_name": "ProgressStyleModel",
            "_view_count": null,
            "_view_module": "@jupyter-widgets/base",
            "_view_module_version": "1.2.0",
            "_view_name": "StyleView",
            "bar_color": null,
            "description_width": ""
          }
        },
        "191dc145672b4a9fa0797e4c8a29eb1a": {
          "model_module": "@jupyter-widgets/base",
          "model_name": "LayoutModel",
          "model_module_version": "1.2.0",
          "state": {
            "_model_module": "@jupyter-widgets/base",
            "_model_module_version": "1.2.0",
            "_model_name": "LayoutModel",
            "_view_count": null,
            "_view_module": "@jupyter-widgets/base",
            "_view_module_version": "1.2.0",
            "_view_name": "LayoutView",
            "align_content": null,
            "align_items": null,
            "align_self": null,
            "border": null,
            "bottom": null,
            "display": null,
            "flex": null,
            "flex_flow": null,
            "grid_area": null,
            "grid_auto_columns": null,
            "grid_auto_flow": null,
            "grid_auto_rows": null,
            "grid_column": null,
            "grid_gap": null,
            "grid_row": null,
            "grid_template_areas": null,
            "grid_template_columns": null,
            "grid_template_rows": null,
            "height": null,
            "justify_content": null,
            "justify_items": null,
            "left": null,
            "margin": null,
            "max_height": null,
            "max_width": null,
            "min_height": null,
            "min_width": null,
            "object_fit": null,
            "object_position": null,
            "order": null,
            "overflow": null,
            "overflow_x": null,
            "overflow_y": null,
            "padding": null,
            "right": null,
            "top": null,
            "visibility": null,
            "width": null
          }
        },
        "7efd3ce96d884a32a6e9f75e26f7ccc1": {
          "model_module": "@jupyter-widgets/controls",
          "model_name": "DescriptionStyleModel",
          "model_module_version": "1.5.0",
          "state": {
            "_model_module": "@jupyter-widgets/controls",
            "_model_module_version": "1.5.0",
            "_model_name": "DescriptionStyleModel",
            "_view_count": null,
            "_view_module": "@jupyter-widgets/base",
            "_view_module_version": "1.2.0",
            "_view_name": "StyleView",
            "description_width": ""
          }
        },
        "84780a6220a44843965cab2d66822fdd": {
          "model_module": "@jupyter-widgets/controls",
          "model_name": "HBoxModel",
          "model_module_version": "1.5.0",
          "state": {
            "_dom_classes": [],
            "_model_module": "@jupyter-widgets/controls",
            "_model_module_version": "1.5.0",
            "_model_name": "HBoxModel",
            "_view_count": null,
            "_view_module": "@jupyter-widgets/controls",
            "_view_module_version": "1.5.0",
            "_view_name": "HBoxView",
            "box_style": "",
            "children": [
              "IPY_MODEL_ff643120a91c4a8bafd67d92a3610576",
              "IPY_MODEL_51a416044cc844e7a5cc75cf6d9fc974",
              "IPY_MODEL_f60f40b7c6ca4bdc913abc2a6b478f55"
            ],
            "layout": "IPY_MODEL_b23fdf26289f46c9b12875c371a19f7b"
          }
        },
        "ff643120a91c4a8bafd67d92a3610576": {
          "model_module": "@jupyter-widgets/controls",
          "model_name": "HTMLModel",
          "model_module_version": "1.5.0",
          "state": {
            "_dom_classes": [],
            "_model_module": "@jupyter-widgets/controls",
            "_model_module_version": "1.5.0",
            "_model_name": "HTMLModel",
            "_view_count": null,
            "_view_module": "@jupyter-widgets/controls",
            "_view_module_version": "1.5.0",
            "_view_name": "HTMLView",
            "description": "",
            "description_tooltip": null,
            "layout": "IPY_MODEL_07adc52766ed482aa95ebd0c36ca07c0",
            "placeholder": "​",
            "style": "IPY_MODEL_e59783388b734fd986e69d186a9413fb",
            "value": "Making predictions...: 100%"
          }
        },
        "51a416044cc844e7a5cc75cf6d9fc974": {
          "model_module": "@jupyter-widgets/controls",
          "model_name": "FloatProgressModel",
          "model_module_version": "1.5.0",
          "state": {
            "_dom_classes": [],
            "_model_module": "@jupyter-widgets/controls",
            "_model_module_version": "1.5.0",
            "_model_name": "FloatProgressModel",
            "_view_count": null,
            "_view_module": "@jupyter-widgets/controls",
            "_view_module_version": "1.5.0",
            "_view_name": "ProgressView",
            "bar_style": "success",
            "description": "",
            "description_tooltip": null,
            "layout": "IPY_MODEL_c7eb696350d84bca8bc6df3cf7757a9b",
            "max": 313,
            "min": 0,
            "orientation": "horizontal",
            "style": "IPY_MODEL_13b01b03c2b140c28ee9948f98d799dc",
            "value": 313
          }
        },
        "f60f40b7c6ca4bdc913abc2a6b478f55": {
          "model_module": "@jupyter-widgets/controls",
          "model_name": "HTMLModel",
          "model_module_version": "1.5.0",
          "state": {
            "_dom_classes": [],
            "_model_module": "@jupyter-widgets/controls",
            "_model_module_version": "1.5.0",
            "_model_name": "HTMLModel",
            "_view_count": null,
            "_view_module": "@jupyter-widgets/controls",
            "_view_module_version": "1.5.0",
            "_view_name": "HTMLView",
            "description": "",
            "description_tooltip": null,
            "layout": "IPY_MODEL_071cbba45d2b4fe696817699174e10e6",
            "placeholder": "​",
            "style": "IPY_MODEL_4906c925517c4786adf2be2379b71e95",
            "value": " 313/313 [00:05&lt;00:00, 58.48it/s]"
          }
        },
        "b23fdf26289f46c9b12875c371a19f7b": {
          "model_module": "@jupyter-widgets/base",
          "model_name": "LayoutModel",
          "model_module_version": "1.2.0",
          "state": {
            "_model_module": "@jupyter-widgets/base",
            "_model_module_version": "1.2.0",
            "_model_name": "LayoutModel",
            "_view_count": null,
            "_view_module": "@jupyter-widgets/base",
            "_view_module_version": "1.2.0",
            "_view_name": "LayoutView",
            "align_content": null,
            "align_items": null,
            "align_self": null,
            "border": null,
            "bottom": null,
            "display": null,
            "flex": null,
            "flex_flow": null,
            "grid_area": null,
            "grid_auto_columns": null,
            "grid_auto_flow": null,
            "grid_auto_rows": null,
            "grid_column": null,
            "grid_gap": null,
            "grid_row": null,
            "grid_template_areas": null,
            "grid_template_columns": null,
            "grid_template_rows": null,
            "height": null,
            "justify_content": null,
            "justify_items": null,
            "left": null,
            "margin": null,
            "max_height": null,
            "max_width": null,
            "min_height": null,
            "min_width": null,
            "object_fit": null,
            "object_position": null,
            "order": null,
            "overflow": null,
            "overflow_x": null,
            "overflow_y": null,
            "padding": null,
            "right": null,
            "top": null,
            "visibility": null,
            "width": null
          }
        },
        "07adc52766ed482aa95ebd0c36ca07c0": {
          "model_module": "@jupyter-widgets/base",
          "model_name": "LayoutModel",
          "model_module_version": "1.2.0",
          "state": {
            "_model_module": "@jupyter-widgets/base",
            "_model_module_version": "1.2.0",
            "_model_name": "LayoutModel",
            "_view_count": null,
            "_view_module": "@jupyter-widgets/base",
            "_view_module_version": "1.2.0",
            "_view_name": "LayoutView",
            "align_content": null,
            "align_items": null,
            "align_self": null,
            "border": null,
            "bottom": null,
            "display": null,
            "flex": null,
            "flex_flow": null,
            "grid_area": null,
            "grid_auto_columns": null,
            "grid_auto_flow": null,
            "grid_auto_rows": null,
            "grid_column": null,
            "grid_gap": null,
            "grid_row": null,
            "grid_template_areas": null,
            "grid_template_columns": null,
            "grid_template_rows": null,
            "height": null,
            "justify_content": null,
            "justify_items": null,
            "left": null,
            "margin": null,
            "max_height": null,
            "max_width": null,
            "min_height": null,
            "min_width": null,
            "object_fit": null,
            "object_position": null,
            "order": null,
            "overflow": null,
            "overflow_x": null,
            "overflow_y": null,
            "padding": null,
            "right": null,
            "top": null,
            "visibility": null,
            "width": null
          }
        },
        "e59783388b734fd986e69d186a9413fb": {
          "model_module": "@jupyter-widgets/controls",
          "model_name": "DescriptionStyleModel",
          "model_module_version": "1.5.0",
          "state": {
            "_model_module": "@jupyter-widgets/controls",
            "_model_module_version": "1.5.0",
            "_model_name": "DescriptionStyleModel",
            "_view_count": null,
            "_view_module": "@jupyter-widgets/base",
            "_view_module_version": "1.2.0",
            "_view_name": "StyleView",
            "description_width": ""
          }
        },
        "c7eb696350d84bca8bc6df3cf7757a9b": {
          "model_module": "@jupyter-widgets/base",
          "model_name": "LayoutModel",
          "model_module_version": "1.2.0",
          "state": {
            "_model_module": "@jupyter-widgets/base",
            "_model_module_version": "1.2.0",
            "_model_name": "LayoutModel",
            "_view_count": null,
            "_view_module": "@jupyter-widgets/base",
            "_view_module_version": "1.2.0",
            "_view_name": "LayoutView",
            "align_content": null,
            "align_items": null,
            "align_self": null,
            "border": null,
            "bottom": null,
            "display": null,
            "flex": null,
            "flex_flow": null,
            "grid_area": null,
            "grid_auto_columns": null,
            "grid_auto_flow": null,
            "grid_auto_rows": null,
            "grid_column": null,
            "grid_gap": null,
            "grid_row": null,
            "grid_template_areas": null,
            "grid_template_columns": null,
            "grid_template_rows": null,
            "height": null,
            "justify_content": null,
            "justify_items": null,
            "left": null,
            "margin": null,
            "max_height": null,
            "max_width": null,
            "min_height": null,
            "min_width": null,
            "object_fit": null,
            "object_position": null,
            "order": null,
            "overflow": null,
            "overflow_x": null,
            "overflow_y": null,
            "padding": null,
            "right": null,
            "top": null,
            "visibility": null,
            "width": null
          }
        },
        "13b01b03c2b140c28ee9948f98d799dc": {
          "model_module": "@jupyter-widgets/controls",
          "model_name": "ProgressStyleModel",
          "model_module_version": "1.5.0",
          "state": {
            "_model_module": "@jupyter-widgets/controls",
            "_model_module_version": "1.5.0",
            "_model_name": "ProgressStyleModel",
            "_view_count": null,
            "_view_module": "@jupyter-widgets/base",
            "_view_module_version": "1.2.0",
            "_view_name": "StyleView",
            "bar_color": null,
            "description_width": ""
          }
        },
        "071cbba45d2b4fe696817699174e10e6": {
          "model_module": "@jupyter-widgets/base",
          "model_name": "LayoutModel",
          "model_module_version": "1.2.0",
          "state": {
            "_model_module": "@jupyter-widgets/base",
            "_model_module_version": "1.2.0",
            "_model_name": "LayoutModel",
            "_view_count": null,
            "_view_module": "@jupyter-widgets/base",
            "_view_module_version": "1.2.0",
            "_view_name": "LayoutView",
            "align_content": null,
            "align_items": null,
            "align_self": null,
            "border": null,
            "bottom": null,
            "display": null,
            "flex": null,
            "flex_flow": null,
            "grid_area": null,
            "grid_auto_columns": null,
            "grid_auto_flow": null,
            "grid_auto_rows": null,
            "grid_column": null,
            "grid_gap": null,
            "grid_row": null,
            "grid_template_areas": null,
            "grid_template_columns": null,
            "grid_template_rows": null,
            "height": null,
            "justify_content": null,
            "justify_items": null,
            "left": null,
            "margin": null,
            "max_height": null,
            "max_width": null,
            "min_height": null,
            "min_width": null,
            "object_fit": null,
            "object_position": null,
            "order": null,
            "overflow": null,
            "overflow_x": null,
            "overflow_y": null,
            "padding": null,
            "right": null,
            "top": null,
            "visibility": null,
            "width": null
          }
        },
        "4906c925517c4786adf2be2379b71e95": {
          "model_module": "@jupyter-widgets/controls",
          "model_name": "DescriptionStyleModel",
          "model_module_version": "1.5.0",
          "state": {
            "_model_module": "@jupyter-widgets/controls",
            "_model_module_version": "1.5.0",
            "_model_name": "DescriptionStyleModel",
            "_view_count": null,
            "_view_module": "@jupyter-widgets/base",
            "_view_module_version": "1.2.0",
            "_view_name": "StyleView",
            "description_width": ""
          }
        }
      }
    }
  },
  "cells": [
    {
      "cell_type": "markdown",
      "metadata": {
        "id": "view-in-github",
        "colab_type": "text"
      },
      "source": [
        "<a href=\"https://colab.research.google.com/github/AndreiPopa1906/NeuralNetworks/blob/main/Computer_Vision.ipynb\" target=\"_parent\"><img src=\"https://colab.research.google.com/assets/colab-badge.svg\" alt=\"Open In Colab\"/></a>"
      ]
    },
    {
      "cell_type": "markdown",
      "source": [
        "# Computer vision libraries\n",
        "\n",
        "\n",
        "\n",
        "*   torchvision\n",
        "*   torchvision.datasets\n",
        "*   torchvision.models\n",
        "*   torchvision.transforms\n",
        "*   torch.utils.data.Dataset\n",
        "*   torch.utils.data.DataLoader\n",
        "\n",
        "\n",
        "\n",
        "\n",
        "\n"
      ],
      "metadata": {
        "id": "r5_z14iFFvEm"
      }
    },
    {
      "cell_type": "code",
      "execution_count": null,
      "metadata": {
        "id": "LA223pcnFecn"
      },
      "outputs": [],
      "source": [
        "import torch\n",
        "from torch import nn\n",
        "\n",
        "import torchvision\n",
        "from torchvision import datasets\n",
        "from torchvision import models\n",
        "from torchvision import transforms\n",
        "from torchvision.transforms import ToTensor\n",
        "\n",
        "from torch.utils.data import Dataset\n",
        "from torch.utils.data import DataLoader\n",
        "\n",
        "import matplotlib.pyplot as plt\n",
        "import numpy as np\n",
        "import cv2\n",
        "import os"
      ]
    },
    {
      "cell_type": "markdown",
      "source": [
        "# 1. Getting a dataset"
      ],
      "metadata": {
        "id": "EJzx4cwWHnYA"
      }
    },
    {
      "cell_type": "code",
      "source": [
        "train_data = datasets.FashionMNIST(\n",
        "    root=\"data\", # where to download data to?\n",
        "    train=True, # do we want the training set?\n",
        "    download=True, # do we want to download yes/no?\n",
        "    transform=ToTensor(), # how do we want to transform the data?\n",
        "    target_transform=None # how do we want to transform the labels/targets?\n",
        ")\n",
        "\n",
        "test_data = datasets.FashionMNIST(\n",
        "    root=\"data\", # where to download data to?\n",
        "    train=False , # do we want the training set?\n",
        "    download=True, # do we want to download yes/no?\n",
        "    transform=ToTensor(), # how do we want to transform the data?\n",
        "    target_transform=None # how do we want to transform the labels/targets?\n",
        ")\n",
        "\n"
      ],
      "metadata": {
        "id": "IGIOtUuYHmxp"
      },
      "execution_count": null,
      "outputs": []
    },
    {
      "cell_type": "code",
      "source": [
        "class_to_idx = train_data.class_to_idx\n",
        "class_to_idx"
      ],
      "metadata": {
        "colab": {
          "base_uri": "https://localhost:8080/"
        },
        "id": "N6RTSlfv3CN8",
        "outputId": "40f8e246-61ba-4fd1-87e8-572d769066cd"
      },
      "execution_count": null,
      "outputs": [
        {
          "output_type": "execute_result",
          "data": {
            "text/plain": [
              "{'T-shirt/top': 0,\n",
              " 'Trouser': 1,\n",
              " 'Pullover': 2,\n",
              " 'Dress': 3,\n",
              " 'Coat': 4,\n",
              " 'Sandal': 5,\n",
              " 'Shirt': 6,\n",
              " 'Sneaker': 7,\n",
              " 'Bag': 8,\n",
              " 'Ankle boot': 9}"
            ]
          },
          "metadata": {},
          "execution_count": 69
        }
      ]
    },
    {
      "cell_type": "code",
      "source": [
        "image, label = train_data[0]\n",
        "image.shape, label"
      ],
      "metadata": {
        "colab": {
          "base_uri": "https://localhost:8080/"
        },
        "id": "gOYaLw2bEi7K",
        "outputId": "c5e7dc50-5897-43d4-cb9e-e829f41c824c"
      },
      "execution_count": null,
      "outputs": [
        {
          "output_type": "execute_result",
          "data": {
            "text/plain": [
              "(torch.Size([1, 28, 28]), 9)"
            ]
          },
          "metadata": {},
          "execution_count": 70
        }
      ]
    },
    {
      "cell_type": "code",
      "source": [
        "class_name = train_data.classes\n",
        "class_name"
      ],
      "metadata": {
        "colab": {
          "base_uri": "https://localhost:8080/"
        },
        "id": "r6ET7YV7hpPU",
        "outputId": "8a7ffe74-39d5-408e-8090-9e75b9e0154f"
      },
      "execution_count": null,
      "outputs": [
        {
          "output_type": "execute_result",
          "data": {
            "text/plain": [
              "['T-shirt/top',\n",
              " 'Trouser',\n",
              " 'Pullover',\n",
              " 'Dress',\n",
              " 'Coat',\n",
              " 'Sandal',\n",
              " 'Shirt',\n",
              " 'Sneaker',\n",
              " 'Bag',\n",
              " 'Ankle boot']"
            ]
          },
          "metadata": {},
          "execution_count": 71
        }
      ]
    },
    {
      "cell_type": "code",
      "source": [
        "import matplotlib.pyplot as plt\n",
        "image, label = train_data[0]\n",
        "plt.imshow(image.squeeze(), cmap=\"gray\")\n",
        "plt.title(class_name[label])\n",
        "plt.axis(\"off\")"
      ],
      "metadata": {
        "colab": {
          "base_uri": "https://localhost:8080/",
          "height": 446
        },
        "id": "ZYPQdtdGEqbq",
        "outputId": "672e4b59-3fae-4689-a218-51bbb795ff32"
      },
      "execution_count": null,
      "outputs": [
        {
          "output_type": "execute_result",
          "data": {
            "text/plain": [
              "(-0.5, 27.5, 27.5, -0.5)"
            ]
          },
          "metadata": {},
          "execution_count": 72
        },
        {
          "output_type": "display_data",
          "data": {
            "text/plain": [
              "<Figure size 640x480 with 1 Axes>"
            ],
            "image/png": "[encoded data removed]"
          },
          "metadata": {}
        }
      ]
    },
    {
      "cell_type": "code",
      "source": [
        "torch.manual_seed(42)\n",
        "torch.cuda.manual_seed(42)\n",
        "\n",
        "fig = plt.figure(figsize=(9, 9))\n",
        "rows, cols = 4, 4\n",
        "for i in range(1, 1+rows*cols):\n",
        "  random_idx = torch.randint(0, len(train_data), size=[1]).item()\n",
        "  image, label = train_data[random_idx]\n",
        "  fig.add_subplot(rows, cols, i)\n",
        "  plt.imshow(image.squeeze(), cmap=\"gray\")\n",
        "  plt.title(class_name[label])\n",
        "  plt.axis(\"off\")"
      ],
      "metadata": {
        "colab": {
          "base_uri": "https://localhost:8080/",
          "height": 752
        },
        "id": "UxSgvImSFcfk",
        "outputId": "f623b48b-510c-4f0b-e5d5-7de7d42ff03c"
      },
      "execution_count": null,
      "outputs": [
        {
          "output_type": "display_data",
          "data": {
            "text/plain": [
              "<Figure size 900x900 with 16 Axes>"
            ],
            "image/png": "[encoded data removed]"
          },
          "metadata": {}
        }
      ]
    },
    {
      "cell_type": "markdown",
      "source": [
        "# 2. Preparing DataLoader"
      ],
      "metadata": {
        "id": "45AQ09OtjISj"
      }
    },
    {
      "cell_type": "code",
      "source": [
        "from torch.utils.data import DataLoader\n",
        "\n",
        "train_dataloader = DataLoader(\n",
        "    dataset=train_data,\n",
        "    batch_size=32,\n",
        "    shuffle=True\n",
        ")\n",
        "\n",
        "test_dataloader = DataLoader(\n",
        "    dataset=test_data,\n",
        "    batch_size=32,\n",
        "    shuffle=False\n",
        ")"
      ],
      "metadata": {
        "id": "PSlo8KxgjHmf"
      },
      "execution_count": null,
      "outputs": []
    },
    {
      "cell_type": "code",
      "source": [
        "print(f\"Dataloader: {train_dataloader}\\nLength: {len(train_dataloader)}\\nType: {type(train_dataloader)}\")\n",
        "print(f\"Dataloader: {test_dataloader}\\nLength: {len(test_dataloader)}\\nType: {type(test_dataloader)}\")"
      ],
      "metadata": {
        "colab": {
          "base_uri": "https://localhost:8080/"
        },
        "id": "KrIf_zt8jHj-",
        "outputId": "6d769034-958f-44f7-f0d8-2c17b554c525"
      },
      "execution_count": null,
      "outputs": [
        {
          "output_type": "stream",
          "name": "stdout",
          "text": [
            "Dataloader: <torch.utils.data.dataloader.DataLoader object at 0x7ac031c44d90>\n",
            "Length: 1875\n",
            "Type: <class 'torch.utils.data.dataloader.DataLoader'>\n",
            "Dataloader: <torch.utils.data.dataloader.DataLoader object at 0x7ac031c47a60>\n",
            "Length: 313\n",
            "Type: <class 'torch.utils.data.dataloader.DataLoader'>\n"
          ]
        }
      ]
    },
    {
      "cell_type": "code",
      "source": [
        "train_features_batch, train_labels_batch = next(iter(train_dataloader))\n",
        "train_features_batch.shape, train_labels_batch.shape"
      ],
      "metadata": {
        "colab": {
          "base_uri": "https://localhost:8080/"
        },
        "id": "X69trEdjjHhP",
        "outputId": "17e7f63a-d384-4784-bef7-826b5d27de65"
      },
      "execution_count": null,
      "outputs": [
        {
          "output_type": "execute_result",
          "data": {
            "text/plain": [
              "(torch.Size([32, 1, 28, 28]), torch.Size([32]))"
            ]
          },
          "metadata": {},
          "execution_count": 76
        }
      ]
    },
    {
      "cell_type": "code",
      "source": [
        "torch.manual_seed(42)\n",
        "random_idx = torch.randint(0, len(train_features_batch), size=[1]).item()\n",
        "img, label = train_features_batch[random_idx], train_labels_batch[random_idx]\n",
        "plt.imshow(img.squeeze(), cmap=\"gray\")\n",
        "plt.title(f\"Label: {label}, Pred: {class_name[label]}\")\n",
        "plt.axis(\"off\")"
      ],
      "metadata": {
        "colab": {
          "base_uri": "https://localhost:8080/",
          "height": 446
        },
        "id": "NtAbHLTNjHee",
        "outputId": "93f1e845-a1c7-4cbf-f9ce-0bf03ced3e55"
      },
      "execution_count": null,
      "outputs": [
        {
          "output_type": "execute_result",
          "data": {
            "text/plain": [
              "(-0.5, 27.5, 27.5, -0.5)"
            ]
          },
          "metadata": {},
          "execution_count": 77
        },
        {
          "output_type": "display_data",
          "data": {
            "text/plain": [
              "<Figure size 640x480 with 1 Axes>"
            ],
            "image/png": "[encoded data removed]"
          },
          "metadata": {}
        }
      ]
    },
    {
      "cell_type": "markdown",
      "source": [
        "# 3. Building a baseline model"
      ],
      "metadata": {
        "id": "xy7s93xa49Al"
      }
    },
    {
      "cell_type": "code",
      "source": [
        "flatten_model = nn.Flatten()\n",
        "\n",
        "x = train_features_batch[0]\n",
        "\n",
        "output = flatten_model(x)\n",
        "print(f\"Shape before flattening: {x.shape}\\nShape after flattening: {output.shape}\")"
      ],
      "metadata": {
        "colab": {
          "base_uri": "https://localhost:8080/"
        },
        "id": "1aFCWhs8jHb1",
        "outputId": "9d02b074-d1b9-42d2-81c4-e6c44890456f"
      },
      "execution_count": null,
      "outputs": [
        {
          "output_type": "stream",
          "name": "stdout",
          "text": [
            "Shape before flattening: torch.Size([1, 28, 28])\n",
            "Shape after flattening: torch.Size([1, 784])\n"
          ]
        }
      ]
    },
    {
      "cell_type": "code",
      "source": [
        "from torch import nn\n",
        "class FashionMNISTModelV0(nn.Module):\n",
        "    def __init__(self,\n",
        "                 input_shape: int,\n",
        "                 hidden_units: int,\n",
        "                 output_shape: int):\n",
        "        super().__init__()\n",
        "        self.layer_stack = nn.Sequential(\n",
        "            nn.Flatten(),\n",
        "            nn.Linear(in_features=input_shape, out_features=hidden_units),\n",
        "            nn.Linear(in_features=hidden_units, out_features=output_shape)\n",
        "        )\n",
        "\n",
        "    def forward(self, x):\n",
        "        return self.layer_stack(x)\n",
        "\n",
        "\n",
        "\n",
        "\n",
        "model_0 = FashionMNISTModelV0(input_shape=784, hidden_units=10, output_shape=len(class_name)).to(\"cpu\")\n",
        "model_0"
      ],
      "metadata": {
        "colab": {
          "base_uri": "https://localhost:8080/"
        },
        "id": "40_8NJRd5fT4",
        "outputId": "0453c1a3-d9e9-4be3-bcb3-19d205f6c9dc"
      },
      "execution_count": null,
      "outputs": [
        {
          "output_type": "execute_result",
          "data": {
            "text/plain": [
              "FashionMNISTModelV0(\n",
              "  (layer_stack): Sequential(\n",
              "    (0): Flatten(start_dim=1, end_dim=-1)\n",
              "    (1): Linear(in_features=784, out_features=10, bias=True)\n",
              "    (2): Linear(in_features=10, out_features=10, bias=True)\n",
              "  )\n",
              ")"
            ]
          },
          "metadata": {},
          "execution_count": 79
        }
      ]
    },
    {
      "cell_type": "code",
      "source": [
        "dummy_x = torch.rand([1,1,28,28])\n",
        "model_0(dummy_x).shape"
      ],
      "metadata": {
        "colab": {
          "base_uri": "https://localhost:8080/"
        },
        "id": "DtpaTy2g7Bxi",
        "outputId": "6680f944-ae6b-460e-ba78-8e7efccb8ca8"
      },
      "execution_count": null,
      "outputs": [
        {
          "output_type": "execute_result",
          "data": {
            "text/plain": [
              "torch.Size([1, 10])"
            ]
          },
          "metadata": {},
          "execution_count": 80
        }
      ]
    },
    {
      "cell_type": "code",
      "source": [
        "import requests\n",
        "from pathlib import Path\n",
        "\n",
        "if(Path(\"helper_functions.py\").is_file()):\n",
        "    print(\"File already exists\")\n",
        "else:\n",
        "    print(\"Downloading file\")\n",
        "    request = requests.get(\"https://raw.githubusercontent.com/mrdbourke/pytorch-deep-learning/main/helper_functions.py\")\n",
        "    with open(\"helper_functions.py\", \"wb\") as f:\n",
        "        f.write(request.content)\n",
        "        print(\"File downloaded\")"
      ],
      "metadata": {
        "colab": {
          "base_uri": "https://localhost:8080/"
        },
        "id": "xI68I5IbLUcl",
        "outputId": "26c6a074-f301-479b-e377-f6d6f3a6c652"
      },
      "execution_count": null,
      "outputs": [
        {
          "output_type": "stream",
          "name": "stdout",
          "text": [
            "File already exists\n"
          ]
        }
      ]
    },
    {
      "cell_type": "code",
      "source": [
        "from helper_functions import accuracy_fn\n",
        "loss_fn = nn.CrossEntropyLoss()\n",
        "optimizer = torch.optim.SGD(params=model_0.parameters(), lr=0.01)"
      ],
      "metadata": {
        "id": "9EPUtrZO8E3S"
      },
      "execution_count": null,
      "outputs": []
    },
    {
      "cell_type": "code",
      "source": [
        "from timeit import default_timer as timer\n",
        "def print_train_time(start: float, end: float, device: torch.device = None):\n",
        "    total_time = end - start\n",
        "    print(f\"Train time on {device}: {total_time:.3f} seconds\")\n",
        "    return total_time"
      ],
      "metadata": {
        "id": "Q2TL3Rt4L9cv"
      },
      "execution_count": null,
      "outputs": []
    },
    {
      "cell_type": "code",
      "source": [
        "from tqdm.auto import tqdm\n",
        "\n",
        "epoch = 3\n",
        "\n",
        "start_train_time_on_cpu = timer()\n",
        "\n",
        "for epoch in tqdm(range(epoch)):\n",
        "    print(f\"Epoch: {epoch}\\n-------\")\n",
        "\n",
        "    train_loss = 0\n",
        "    train_acc = 0\n",
        "\n",
        "    for batch, (X,y) in enumerate(train_dataloader):\n",
        "        model_0.train()\n",
        "        y_pred = model_0(X)\n",
        "        loss = loss_fn(y_pred, y)\n",
        "        train_loss += loss.item()\n",
        "        optimizer.zero_grad()\n",
        "        loss.backward()\n",
        "        optimizer.step()\n",
        "\n",
        "        if batch % 400 == 0:\n",
        "            print(f\"Looking at {batch * len(X)}/{len(train_dataloader.dataset)} samples.\")\n",
        "\n",
        "    train_loss /= len(train_dataloader)\n",
        "    print(f\"Train loss: {train_loss:.5f}\")\n",
        "\n",
        "    ### Testing\n",
        "    test_loss, test_acc = 0, 0\n",
        "    model_0.eval()\n",
        "\n",
        "    model_0.eval()\n",
        "    with torch.inference_mode():\n",
        "        for X_test, y_test in test_dataloader:\n",
        "            test_pred = model_0(X_test)\n",
        "            test_loss += loss_fn(test_pred, y_test)\n",
        "            test_acc += accuracy_fn(y_true=y_test, y_pred=test_pred.argmax(dim=1))\n",
        "        test_loss /= len(test_dataloader)\n",
        "        test_acc /= len(test_dataloader)\n",
        "\n",
        "    print(f\"Test loss: {test_loss:.5f}, Test accuracy: {test_acc:.5f}\")\n",
        "\n",
        "    train_time_end_on_cpu = timer()\n",
        "    print_train_time(start=train_time_end_on_cpu, end=timer(),\n",
        "                     device=str(next(model_0.parameters()).device))\n"
      ],
      "metadata": {
        "colab": {
          "base_uri": "https://localhost:8080/",
          "height": 586,
          "referenced_widgets": [
            "07e83f98a7934352a3c931e8b88414ab",
            "73e0cac6eb39478d9f62c6133842e3a4",
            "bdae204835304ec78fb431151cafc522",
            "ba765c3527924712b10f48d9e98e07da",
            "aa746b485bde4a90a76c78d51b2316f7",
            "3aef10843cbb47af8fb46847cb8c9bbf",
            "4482a43b276943d0996d7b3f9dea92f6",
            "d328233b240140d6a5fb18467fd33640",
            "b80902933f704fc6a5a2935962b85e1e",
            "b7628ddf7bec48e3b6ad796e87db2d28",
            "9481d391739c481180d9108a9776cf03"
          ]
        },
        "id": "LzMVqdDnMq88",
        "outputId": "349b7b08-ea71-46f2-f81c-34eebbf42242"
      },
      "execution_count": null,
      "outputs": [
        {
          "output_type": "display_data",
          "data": {
            "text/plain": [
              "  0%|          | 0/3 [00:00<?, ?it/s]"
            ],
            "application/vnd.jupyter.widget-view+json": {
              "version_major": 2,
              "version_minor": 0,
              "model_id": "07e83f98a7934352a3c931e8b88414ab"
            }
          },
          "metadata": {}
        },
        {
          "output_type": "stream",
          "name": "stdout",
          "text": [
            "Epoch: 0\n",
            "-------\n",
            "Looking at 0/60000 samples.\n",
            "Looking at 12800/60000 samples.\n",
            "Looking at 25600/60000 samples.\n",
            "Looking at 38400/60000 samples.\n",
            "Looking at 51200/60000 samples.\n",
            "Train loss: 0.91325\n",
            "Test loss: 0.63561, Test accuracy: 78.15495\n",
            "Train time on cpu: 0.000 seconds\n",
            "Epoch: 1\n",
            "-------\n",
            "Looking at 0/60000 samples.\n",
            "Looking at 12800/60000 samples.\n",
            "Looking at 25600/60000 samples.\n",
            "Looking at 38400/60000 samples.\n",
            "Looking at 51200/60000 samples.\n",
            "Train loss: 0.56485\n",
            "Test loss: 0.54889, Test accuracy: 81.29992\n",
            "Train time on cpu: 0.000 seconds\n",
            "Epoch: 2\n",
            "-------\n",
            "Looking at 0/60000 samples.\n",
            "Looking at 12800/60000 samples.\n",
            "Looking at 25600/60000 samples.\n",
            "Looking at 38400/60000 samples.\n",
            "Looking at 51200/60000 samples.\n",
            "Train loss: 0.50799\n",
            "Test loss: 0.51917, Test accuracy: 81.79912\n",
            "Train time on cpu: 0.000 seconds\n"
          ]
        }
      ]
    },
    {
      "cell_type": "markdown",
      "source": [
        "# 4. Making predictions"
      ],
      "metadata": {
        "id": "3gAAsaptpjne"
      }
    },
    {
      "cell_type": "code",
      "source": [
        "torch.manual_seed(42)\n",
        "def eval_model(model: nn.Module,\n",
        "               data_loader: DataLoader,\n",
        "               loss_fn: nn.Module,\n",
        "               accuracy_fn):\n",
        "    loss, acc = 0, 0\n",
        "    model.eval()\n",
        "    with torch.inference_mode():\n",
        "        for X, y in data_loader:\n",
        "            y_pred = model(X)\n",
        "\n",
        "            loss += loss_fn(y_pred, y)\n",
        "            acc += accuracy_fn(y_true=y, y_pred=y_pred.argmax(dim=1))\n",
        "        loss /= len(data_loader)\n",
        "        acc /= len(data_loader)\n",
        "    return {\"model_name\": model.__class__.__name__,\n",
        "            \"model_loss\": loss.item(),\n",
        "            \"model_acc\": acc}\n",
        "\n",
        "\n",
        "model_0_results = eval_model(model=model_0,\n",
        "                             data_loader=test_dataloader,\n",
        "                             loss_fn=loss_fn,\n",
        "                              accuracy_fn=accuracy_fn)\n",
        "model_0_results"
      ],
      "metadata": {
        "colab": {
          "base_uri": "https://localhost:8080/"
        },
        "id": "8yxkQsf5Mq65",
        "outputId": "cf225191-16f0-4eb9-daab-fc91eb42fd95"
      },
      "execution_count": null,
      "outputs": [
        {
          "output_type": "execute_result",
          "data": {
            "text/plain": [
              "{'model_name': 'FashionMNISTModelV0',\n",
              " 'model_loss': 0.519170880317688,\n",
              " 'model_acc': 81.7991214057508}"
            ]
          },
          "metadata": {},
          "execution_count": 85
        }
      ]
    },
    {
      "cell_type": "markdown",
      "source": [
        "#5. Building a better model using non-linearity"
      ],
      "metadata": {
        "id": "wC8c6iar0ro7"
      }
    },
    {
      "cell_type": "code",
      "source": [
        "device = \"cuda\" if torch.cuda.is_available() else \"cpu\"\n",
        "device"
      ],
      "metadata": {
        "colab": {
          "base_uri": "https://localhost:8080/",
          "height": 36
        },
        "id": "YWqYMYsD1tSa",
        "outputId": "3a1962c1-6cff-465b-9d1d-876f3215ddfd"
      },
      "execution_count": null,
      "outputs": [
        {
          "output_type": "execute_result",
          "data": {
            "text/plain": [
              "'cpu'"
            ],
            "application/vnd.google.colaboratory.intrinsic+json": {
              "type": "string"
            }
          },
          "metadata": {},
          "execution_count": 86
        }
      ]
    },
    {
      "cell_type": "code",
      "source": [
        "class FashionMNISTModelV1(nn.Module):\n",
        "    def __init__(self,\n",
        "                 input_shape: int,\n",
        "                 hidden_units: int,\n",
        "                 output_shape: int):\n",
        "        super().__init__()\n",
        "        self.layer_stack = nn.Sequential(\n",
        "            nn.Flatten(), # flatten inputs in a single vector\n",
        "            nn.Linear(in_features=input_shape, out_features=hidden_units),\n",
        "            nn.ReLU(),\n",
        "            nn.Linear(in_features=hidden_units, out_features=output_shape),\n",
        "            nn.ReLU()\n",
        "        )\n",
        "\n",
        "    def forward(self, x):\n",
        "        return self.layer_stack(x)\n",
        "\n",
        "\n",
        "model_1 = FashionMNISTModelV1(input_shape=784, hidden_units=10, output_shape=len(class_name)).to(device)\n",
        "model_1"
      ],
      "metadata": {
        "colab": {
          "base_uri": "https://localhost:8080/"
        },
        "id": "4humkSnuMq4Z",
        "outputId": "d46f4e0e-7cc2-4a17-bc3a-9b029004e9c5"
      },
      "execution_count": null,
      "outputs": [
        {
          "output_type": "execute_result",
          "data": {
            "text/plain": [
              "FashionMNISTModelV1(\n",
              "  (layer_stack): Sequential(\n",
              "    (0): Flatten(start_dim=1, end_dim=-1)\n",
              "    (1): Linear(in_features=784, out_features=10, bias=True)\n",
              "    (2): ReLU()\n",
              "    (3): Linear(in_features=10, out_features=10, bias=True)\n",
              "    (4): ReLU()\n",
              "  )\n",
              ")"
            ]
          },
          "metadata": {},
          "execution_count": 87
        }
      ]
    },
    {
      "cell_type": "code",
      "source": [
        "from helper_functions import accuracy_fn\n",
        "loss_fn = nn.CrossEntropyLoss()\n",
        "optimizer = torch.optim.SGD(params=model_1.parameters(), lr=0.1)"
      ],
      "metadata": {
        "id": "LvfuTMN4Mq1p"
      },
      "execution_count": null,
      "outputs": []
    },
    {
      "cell_type": "markdown",
      "source": [
        "# Training\n",
        "\n",
        "\n",
        "*   training - train_step()\n",
        "*   testing - test_step()\n",
        "\n"
      ],
      "metadata": {
        "id": "MLOV076QtF1t"
      }
    },
    {
      "cell_type": "code",
      "source": [
        "def train_step(model: nn.Module,\n",
        "              data_loader: DataLoader,\n",
        "              loss_fn: nn.Module,\n",
        "              optimizer: torch.optim.Optimizer,\n",
        "              accuracy_fn,\n",
        "              device: torch.device = device):\n",
        "    train_loss, train_acc = 0, 0\n",
        "\n",
        "    model.train()\n",
        "    for batch, (X, y) in enumerate(data_loader):\n",
        "        X, y = X.to(device), y.to(device)\n",
        "        y_pred = model(X)\n",
        "        loss = loss_fn(y_pred, y)\n",
        "        train_loss += loss\n",
        "        train_acc += accuracy_fn(y_true=y, y_pred=y_pred.argmax(dim=1))\n",
        "        optimizer.zero_grad()\n",
        "        loss.backward()\n",
        "        optimizer.step()\n",
        "    train_loss /= len(data_loader)\n",
        "    train_acc /= len(data_loader)\n",
        "    print(f\"Train loss: {train_loss:.5f}, Train accuracy: {train_acc:.2f}%\\n\")"
      ],
      "metadata": {
        "id": "MgJQEUmIMqy5"
      },
      "execution_count": null,
      "outputs": []
    },
    {
      "cell_type": "code",
      "source": [
        "def test_step(model:nn.Module,\n",
        "              data_loader: DataLoader,\n",
        "              loss_fn: nn.Module,\n",
        "              accuracy_fn,\n",
        "              device: torch.device = device):\n",
        "    test_loss, test_acc = 0, 0\n",
        "    model.eval()\n",
        "    with torch.inference_mode():\n",
        "        for X, y in data_loader:\n",
        "            X, y = X.to(device), y.to(device)\n",
        "            test_pred = model(X)\n",
        "            test_loss += loss_fn(test_pred, y)\n",
        "            test_acc += accuracy_fn(y_true=y, y_pred=test_pred.argmax(dim=1))\n",
        "        test_loss /= len(data_loader)\n",
        "        test_acc /= len(data_loader)\n",
        "        print(f\"Test loss: {test_loss:.5f}, Test accuracy: {test_acc:.2f}%\\n\")\n"
      ],
      "metadata": {
        "id": "DTf06BTSJjnb"
      },
      "execution_count": null,
      "outputs": []
    },
    {
      "cell_type": "code",
      "source": [
        "torch.manual_seed(42)\n",
        "torch.cuda.manual_seed(42)\n",
        "\n",
        "from timeit import default_timer as timer\n",
        "train_time_start = timer()\n",
        "\n",
        "epochs = 3\n",
        "\n",
        "for epoch in tqdm(range(epochs)):\n",
        "    print(f\"Epoch: {epoch}\\n-------\")\n",
        "    train_step(model=model_1,\n",
        "              data_loader=train_dataloader,\n",
        "              loss_fn=loss_fn,\n",
        "              optimizer=optimizer,\n",
        "              accuracy_fn=accuracy_fn)\n",
        "    test_step(model=model_1,\n",
        "              data_loader=test_dataloader,\n",
        "              loss_fn=loss_fn,\n",
        "              accuracy_fn=accuracy_fn)\n",
        "\n",
        "train_time_end = timer()\n",
        "print_train_time(start=train_time_start, end=train_time_end, device=device)"
      ],
      "metadata": {
        "colab": {
          "base_uri": "https://localhost:8080/",
          "height": 407,
          "referenced_widgets": [
            "80fa66ca17844d82b63a83932a83b216",
            "dafaaf2a4d594e518d69cc25ae795fc6",
            "680dccb9258148a786a6c5a755ecb39d",
            "8ed2203af9cc40fea5d952af5491400f",
            "875af1dff98b4d11a2bcc77cebcf2e21",
            "3731a50eba874127b2c35e21765d6406",
            "05365736ba86415292aa0b9f484a45b0",
            "064f6c643d1c467ca62a93ea038c5da1",
            "f3ac5d59c468411e9c613fe8359b9b7f",
            "c4295acf5bc9492d8a20a0297da386e7",
            "4ae93e56ef124980a8a9766204eaa3d6"
          ]
        },
        "id": "JNdn6m3fM6Hp",
        "outputId": "4606a665-094c-421c-bb3e-f10d8b59c2d5"
      },
      "execution_count": null,
      "outputs": [
        {
          "output_type": "display_data",
          "data": {
            "text/plain": [
              "  0%|          | 0/3 [00:00<?, ?it/s]"
            ],
            "application/vnd.jupyter.widget-view+json": {
              "version_major": 2,
              "version_minor": 0,
              "model_id": "80fa66ca17844d82b63a83932a83b216"
            }
          },
          "metadata": {}
        },
        {
          "output_type": "stream",
          "name": "stdout",
          "text": [
            "Epoch: 0\n",
            "-------\n",
            "Train loss: 0.98248, Train accuracy: 65.06%\n",
            "\n",
            "Test loss: 0.76060, Test accuracy: 72.80%\n",
            "\n",
            "Epoch: 1\n",
            "-------\n",
            "Train loss: 0.70366, Train accuracy: 74.48%\n",
            "\n",
            "Test loss: 0.71731, Test accuracy: 73.67%\n",
            "\n",
            "Epoch: 2\n",
            "-------\n",
            "Train loss: 0.67375, Train accuracy: 75.31%\n",
            "\n",
            "Test loss: 0.69170, Test accuracy: 74.81%\n",
            "\n",
            "Train time on cpu: 42.375 seconds\n"
          ]
        },
        {
          "output_type": "execute_result",
          "data": {
            "text/plain": [
              "42.37530243299989"
            ]
          },
          "metadata": {},
          "execution_count": 91
        }
      ]
    },
    {
      "cell_type": "markdown",
      "source": [
        "# Concolutional Neural Network"
      ],
      "metadata": {
        "id": "01wdaDrrtuWC"
      }
    },
    {
      "cell_type": "code",
      "source": [
        "class FasihionMNISTModelV2(nn.Module):\n",
        "    def __init__(self,\n",
        "                 input_shape: int,\n",
        "                 hidden_units: int,\n",
        "                 output_shape: int):\n",
        "        super().__init__()\n",
        "        self.conv_block_1 = nn.Sequential(\n",
        "            nn.Conv2d(in_channels=input_shape,\n",
        "                      out_channels=hidden_units,\n",
        "                      kernel_size=3,\n",
        "                      stride=1,\n",
        "                      padding=1),\n",
        "            nn.ReLU(),\n",
        "            nn.Conv2d(in_channels=hidden_units,\n",
        "                      out_channels=hidden_units,\n",
        "                      kernel_size=3,\n",
        "                      stride=1,\n",
        "                      padding=1),\n",
        "            nn.ReLU(),\n",
        "            nn.MaxPool2d(kernel_size=2, stride=2)\n",
        "        )\n",
        "        self.conv_block_2 = nn.Sequential(\n",
        "            nn.Conv2d(in_channels=hidden_units,\n",
        "                      out_channels=hidden_units,\n",
        "                      kernel_size=3,\n",
        "                      stride=1,\n",
        "                      padding=1),\n",
        "            nn.ReLU(),\n",
        "            nn.Conv2d(in_channels=hidden_units,\n",
        "                      out_channels=hidden_units,\n",
        "                      kernel_size=3,\n",
        "                      stride=1,\n",
        "                      padding=1),\n",
        "            nn.ReLU(),\n",
        "            nn.MaxPool2d(kernel_size=2, stride=2)\n",
        "        )\n",
        "        self.classifier = nn.Sequential(\n",
        "            nn.Flatten(),\n",
        "            nn.Linear(in_features=hidden_units*7*7, out_features=output_shape)\n",
        "        )\n",
        "\n",
        "    def forward(self, x):\n",
        "        x = self.conv_block_1(x)\n",
        "        x = self.conv_block_2(x)\n",
        "        x = self.classifier(x)\n",
        "        return x\n"
      ],
      "metadata": {
        "id": "aIrQwtyDtrIx"
      },
      "execution_count": null,
      "outputs": []
    },
    {
      "cell_type": "code",
      "source": [
        "torch.manual_seed(42)\n",
        "torch.cuda.manual_seed(42)\n",
        "model_2 = FasihionMNISTModelV2(input_shape=1, hidden_units=10, output_shape=len(class_name)).to(device)\n",
        "model_2"
      ],
      "metadata": {
        "colab": {
          "base_uri": "https://localhost:8080/"
        },
        "id": "RqIpSXlPyMcV",
        "outputId": "c66b2b1a-9001-4188-81c9-88a787891cc1"
      },
      "execution_count": null,
      "outputs": [
        {
          "output_type": "execute_result",
          "data": {
            "text/plain": [
              "FasihionMNISTModelV2(\n",
              "  (conv_block_1): Sequential(\n",
              "    (0): Conv2d(1, 10, kernel_size=(3, 3), stride=(1, 1), padding=(1, 1))\n",
              "    (1): ReLU()\n",
              "    (2): Conv2d(10, 10, kernel_size=(3, 3), stride=(1, 1), padding=(1, 1))\n",
              "    (3): ReLU()\n",
              "    (4): MaxPool2d(kernel_size=2, stride=2, padding=0, dilation=1, ceil_mode=False)\n",
              "  )\n",
              "  (conv_block_2): Sequential(\n",
              "    (0): Conv2d(10, 10, kernel_size=(3, 3), stride=(1, 1), padding=(1, 1))\n",
              "    (1): ReLU()\n",
              "    (2): Conv2d(10, 10, kernel_size=(3, 3), stride=(1, 1), padding=(1, 1))\n",
              "    (3): ReLU()\n",
              "    (4): MaxPool2d(kernel_size=2, stride=2, padding=0, dilation=1, ceil_mode=False)\n",
              "  )\n",
              "  (classifier): Sequential(\n",
              "    (0): Flatten(start_dim=1, end_dim=-1)\n",
              "    (1): Linear(in_features=490, out_features=10, bias=True)\n",
              "  )\n",
              ")"
            ]
          },
          "metadata": {},
          "execution_count": 93
        }
      ]
    },
    {
      "cell_type": "code",
      "source": [
        "torch.manual_seed(42)\n",
        "\n",
        "images = torch.randn(size=(32, 1, 64, 64)).to(device)\n",
        "test_image = images[0]\n",
        "print(f\"Image shape: {test_image.shape}\")\n",
        "print(f\"Image batch shape: {image.shape}\")\n"
      ],
      "metadata": {
        "colab": {
          "base_uri": "https://localhost:8080/"
        },
        "id": "7kGtwW3M4pL8",
        "outputId": "a8fbcd45-a3f7-4f05-8cc6-b902ed1bcd0c"
      },
      "execution_count": null,
      "outputs": [
        {
          "output_type": "stream",
          "name": "stdout",
          "text": [
            "Image shape: torch.Size([1, 64, 64])\n",
            "Image batch shape: torch.Size([1, 28, 28])\n"
          ]
        }
      ]
    },
    {
      "cell_type": "code",
      "source": [
        "conv_layer = nn.Conv2d(in_channels=3, out_channels=10, kernel_size=(3, 3), stride=1, padding=0)\n",
        "conv_output = conv_layer(test_image.repeat(1,3,1,1))\n",
        "conv_output"
      ],
      "metadata": {
        "colab": {
          "base_uri": "https://localhost:8080/"
        },
        "id": "47M7lmyQ5KCo",
        "outputId": "dba90d61-fca0-4434-932a-d772a71284be"
      },
      "execution_count": null,
      "outputs": [
        {
          "output_type": "execute_result",
          "data": {
            "text/plain": [
              "tensor([[[[-0.9424, -1.1567, -0.9239,  ..., -0.4870,  0.1111, -0.3643],\n",
              "          [-0.1264,  1.2597,  0.5318,  ...,  0.1628,  0.0823,  0.0857],\n",
              "          [-0.1820, -0.8547, -0.0418,  ...,  0.2093, -0.0512, -0.0883],\n",
              "          ...,\n",
              "          [-0.0076, -0.0755, -0.2041,  ...,  0.5116, -0.8521, -0.4792],\n",
              "          [ 0.3775,  0.4520,  0.1766,  ..., -1.0749,  0.3327,  0.8099],\n",
              "          [ 0.1458,  0.3880,  0.1478,  ...,  0.3011, -0.0388,  0.2293]],\n",
              "\n",
              "         [[ 0.6602, -0.4147, -0.0703,  ...,  0.2355, -0.5261,  0.6059],\n",
              "          [-0.6043, -0.4837,  0.7138,  ..., -0.2706,  0.2151,  0.3179],\n",
              "          [-0.0318,  0.0324, -0.8772,  ..., -0.1346,  0.2874, -0.1971],\n",
              "          ...,\n",
              "          [ 0.4844,  0.0119, -0.5715,  ..., -0.0383,  0.4616, -0.4240],\n",
              "          [ 0.3017,  0.2213, -0.1000,  ..., -0.1496, -0.9923,  0.0219],\n",
              "          [-0.0684,  0.0141,  0.4461,  ..., -0.6956, -0.3121, -0.0247]],\n",
              "\n",
              "         [[ 0.4730,  0.0246, -0.0153,  ...,  0.6081,  1.0986,  0.1938],\n",
              "          [ 1.0682,  0.4595, -1.6606,  ...,  0.8450,  0.3828,  0.4759],\n",
              "          [-0.3664, -1.6489, -0.5941,  ...,  0.5950,  0.6080,  0.6524],\n",
              "          ...,\n",
              "          [-0.2555,  0.7352,  0.7020,  ..., -0.1384, -1.6972, -0.1221],\n",
              "          [-0.1555,  0.5912,  0.8024,  ..., -0.3652,  0.4125, -0.5544],\n",
              "          [-0.0200,  0.4529,  0.7344,  ...,  0.7669, -0.5259, -0.6471]],\n",
              "\n",
              "         ...,\n",
              "\n",
              "         [[ 0.0387, -0.2743, -0.4781,  ...,  0.1324, -0.4747, -0.0593],\n",
              "          [-0.8720,  0.1750, -0.0786,  ..., -0.0536, -0.2797,  0.0096],\n",
              "          [ 0.1814, -0.2094, -0.2627,  ..., -0.1089, -0.2718,  0.3061],\n",
              "          ...,\n",
              "          [-0.2560,  0.0854, -0.3152,  ...,  0.0211, -0.0387, -0.3512],\n",
              "          [-0.1992, -0.0961, -0.0981,  ...,  0.4220, -0.9284,  0.3090],\n",
              "          [ 0.1348, -0.3839,  0.0609,  ...,  0.8127, -0.9244,  0.2993]],\n",
              "\n",
              "         [[-0.3159,  0.9011, -0.3326,  ..., -0.3023,  0.2750, -0.4248],\n",
              "          [-0.5244,  0.1790,  0.2864,  ...,  0.1802, -0.4554,  0.1313],\n",
              "          [ 0.2814,  0.7022,  0.4638,  ...,  0.5603, -0.2065,  0.0847],\n",
              "          ...,\n",
              "          [ 0.0067,  0.2478, -0.1567,  ...,  0.2089,  0.4537,  0.0351],\n",
              "          [-0.0110,  0.1023,  0.2176,  ..., -0.0431,  0.0869,  0.4798],\n",
              "          [ 0.2164,  0.1582, -0.0605,  ...,  0.5549, -0.6986,  0.4759]],\n",
              "\n",
              "         [[ 0.1831,  0.5441,  0.8201,  ...,  0.9286, -0.3257,  0.8291],\n",
              "          [ 2.2906,  0.1244,  0.1500,  ...,  0.7779,  0.0242,  0.0854],\n",
              "          [-0.7406,  0.5255,  0.3368,  ..., -0.0602,  0.4792,  0.1045],\n",
              "          ...,\n",
              "          [ 0.1288, -0.5317,  1.2314,  ..., -1.0663,  0.0687,  0.1046],\n",
              "          [-0.1670,  0.4145, -0.5608,  ...,  0.6973,  0.5628, -0.0821],\n",
              "          [-0.0229, -0.0928,  0.0840,  ...,  0.8265, -0.6309, -0.1473]]]],\n",
              "       grad_fn=<ConvolutionBackward0>)"
            ]
          },
          "metadata": {},
          "execution_count": 95
        }
      ]
    },
    {
      "cell_type": "code",
      "source": [
        "rand_image_tensor = torch.randn(size=(1,28,28))\n",
        "rand_image_tensor.shape"
      ],
      "metadata": {
        "colab": {
          "base_uri": "https://localhost:8080/"
        },
        "id": "tWW2GJ75mNV8",
        "outputId": "8f9897f9-c3f8-44f6-c4e8-69baf5d14fac"
      },
      "execution_count": null,
      "outputs": [
        {
          "output_type": "execute_result",
          "data": {
            "text/plain": [
              "torch.Size([1, 28, 28])"
            ]
          },
          "metadata": {},
          "execution_count": 96
        }
      ]
    },
    {
      "cell_type": "code",
      "source": [
        "model_2(rand_image_tensor.unsqueeze(dim=0).to(device))"
      ],
      "metadata": {
        "colab": {
          "base_uri": "https://localhost:8080/"
        },
        "id": "Z5GsOn8WmNTd",
        "outputId": "4d855e9b-2427-455f-9dd7-dbefb1c1a4c1"
      },
      "execution_count": null,
      "outputs": [
        {
          "output_type": "execute_result",
          "data": {
            "text/plain": [
              "tensor([[ 0.0382, -0.0892,  0.0799, -0.0317,  0.0130,  0.0409,  0.0114, -0.0052,\n",
              "         -0.0011, -0.0307]], grad_fn=<AddmmBackward0>)"
            ]
          },
          "metadata": {},
          "execution_count": 97
        }
      ]
    },
    {
      "cell_type": "code",
      "source": [
        "loss_fn = nn.CrossEntropyLoss()\n",
        "optimizer = torch.optim.SGD(params=model_2.parameters(), lr=0.1)"
      ],
      "metadata": {
        "id": "ZuKSN-mgmNRN"
      },
      "execution_count": null,
      "outputs": []
    },
    {
      "cell_type": "code",
      "source": [],
      "metadata": {
        "id": "Txg767ljtEee"
      },
      "execution_count": null,
      "outputs": []
    },
    {
      "cell_type": "code",
      "source": [
        "torch.manual_seed(42)\n",
        "torch.cuda.manual_seed(42)\n",
        "\n",
        "from timeit import default_timer as timer\n",
        "train_time_start_model_2 = timer()\n",
        "\n",
        "epochs = 3\n",
        "\n",
        "for epoch in tqdm(range(epochs)):\n",
        "    print(f\"Epoch: {epoch}\\n-------\")\n",
        "    train_step(model=model_2,\n",
        "               data_loader=train_dataloader,\n",
        "               loss_fn=loss_fn,\n",
        "               optimizer=optimizer,\n",
        "               accuracy_fn=accuracy_fn,\n",
        "               device=device)\n",
        "    test_step(model=model_2,\n",
        "              data_loader=test_dataloader,\n",
        "              loss_fn=loss_fn,\n",
        "              accuracy_fn=accuracy_fn,\n",
        "              device=device)\n",
        "\n",
        "train_time_end_model_2 = timer()\n",
        "total_train_time_model_2 = print_train_time(start=train_time_start_model_2, end=train_time_end_model_2, device=device)"
      ],
      "metadata": {
        "colab": {
          "base_uri": "https://localhost:8080/",
          "height": 389,
          "referenced_widgets": [
            "f3c5c1c071f34f9fbe54b6924668d200",
            "9a2812c94ec7479cb08e6294ea7f4d2b",
            "8d122e7372e04b1abea172c0e2d24472",
            "cdd4e29ea8e04e438ebe6e7c65af10c9",
            "fec67c60a9d14917bc29d353ea81bf6c",
            "12abcb19b012484a913451bc31c54d8d",
            "8357ef6863fe45d1b80770cfed7363b7",
            "d4eb3c4ec3d84d3781fa65a6947fd16a",
            "0bd2170695c94211a9fd302edb8687ff",
            "191dc145672b4a9fa0797e4c8a29eb1a",
            "7efd3ce96d884a32a6e9f75e26f7ccc1"
          ]
        },
        "id": "OVXWkPJqmNOt",
        "outputId": "354c2e50-5a3c-4770-9c35-814ab9c46852"
      },
      "execution_count": null,
      "outputs": [
        {
          "output_type": "display_data",
          "data": {
            "text/plain": [
              "  0%|          | 0/3 [00:00<?, ?it/s]"
            ],
            "application/vnd.jupyter.widget-view+json": {
              "version_major": 2,
              "version_minor": 0,
              "model_id": "f3c5c1c071f34f9fbe54b6924668d200"
            }
          },
          "metadata": {}
        },
        {
          "output_type": "stream",
          "name": "stdout",
          "text": [
            "Epoch: 0\n",
            "-------\n",
            "Train loss: 0.59518, Train accuracy: 78.38%\n",
            "\n",
            "Test loss: 0.39500, Test accuracy: 85.99%\n",
            "\n",
            "Epoch: 1\n",
            "-------\n",
            "Train loss: 0.36536, Train accuracy: 86.90%\n",
            "\n",
            "Test loss: 0.35244, Test accuracy: 86.91%\n",
            "\n",
            "Epoch: 2\n",
            "-------\n",
            "Train loss: 0.32588, Train accuracy: 88.13%\n",
            "\n",
            "Test loss: 0.32719, Test accuracy: 88.07%\n",
            "\n",
            "Train time on cpu: 247.944 seconds\n"
          ]
        }
      ]
    },
    {
      "cell_type": "code",
      "source": [
        "model_2_results = eval_model(model=model_2,\n",
        "                             data_loader=test_dataloader,\n",
        "                             loss_fn=loss_fn,\n",
        "                             accuracy_fn=accuracy_fn)"
      ],
      "metadata": {
        "id": "BgvWBHlwtEjc"
      },
      "execution_count": null,
      "outputs": []
    },
    {
      "cell_type": "code",
      "source": [
        "model_2_results"
      ],
      "metadata": {
        "colab": {
          "base_uri": "https://localhost:8080/"
        },
        "id": "AIQh7F0emNLv",
        "outputId": "c1b90134-29cb-48b8-9991-678ec23041ba"
      },
      "execution_count": null,
      "outputs": [
        {
          "output_type": "execute_result",
          "data": {
            "text/plain": [
              "{'model_name': 'FasihionMNISTModelV2',\n",
              " 'model_loss': 0.32718968391418457,\n",
              " 'model_acc': 88.06908945686901}"
            ]
          },
          "metadata": {},
          "execution_count": 101
        }
      ]
    },
    {
      "cell_type": "code",
      "source": [
        "import pandas as pd\n",
        "compare_results = pd.DataFrame(data=[model_0_results,  model_2_results])\n",
        "compare_results"
      ],
      "metadata": {
        "colab": {
          "base_uri": "https://localhost:8080/",
          "height": 125
        },
        "id": "BQme8-NbuBvk",
        "outputId": "d53fcffe-3bdf-40f8-ee23-01cf387189a2"
      },
      "execution_count": null,
      "outputs": [
        {
          "output_type": "execute_result",
          "data": {
            "text/plain": [
              "             model_name  model_loss  model_acc\n",
              "0   FashionMNISTModelV0    0.519171  81.799121\n",
              "1  FasihionMNISTModelV2    0.327190  88.069089"
            ],
            "text/html": [
              "\n",
              "  <div id=\"df-cfa53750-f02f-4d3c-bdf5-531f7a8fff15\" class=\"colab-df-container\">\n",
              "    <div>\n",
              "<style scoped>\n",
              "    .dataframe tbody tr th:only-of-type {\n",
              "        vertical-align: middle;\n",
              "    }\n",
              "\n",
              "    .dataframe tbody tr th {\n",
              "        vertical-align: top;\n",
              "    }\n",
              "\n",
              "    .dataframe thead th {\n",
              "        text-align: right;\n",
              "    }\n",
              "</style>\n",
              "<table border=\"1\" class=\"dataframe\">\n",
              "  <thead>\n",
              "    <tr style=\"text-align: right;\">\n",
              "      <th></th>\n",
              "      <th>model_name</th>\n",
              "      <th>model_loss</th>\n",
              "      <th>model_acc</th>\n",
              "    </tr>\n",
              "  </thead>\n",
              "  <tbody>\n",
              "    <tr>\n",
              "      <th>0</th>\n",
              "      <td>FashionMNISTModelV0</td>\n",
              "      <td>0.519171</td>\n",
              "      <td>81.799121</td>\n",
              "    </tr>\n",
              "    <tr>\n",
              "      <th>1</th>\n",
              "      <td>FasihionMNISTModelV2</td>\n",
              "      <td>0.327190</td>\n",
              "      <td>88.069089</td>\n",
              "    </tr>\n",
              "  </tbody>\n",
              "</table>\n",
              "</div>\n",
              "    <div class=\"colab-df-buttons\">\n",
              "\n",
              "  <div class=\"colab-df-container\">\n",
              "    <button class=\"colab-df-convert\" onclick=\"convertToInteractive('df-cfa53750-f02f-4d3c-bdf5-531f7a8fff15')\"\n",
              "            title=\"Convert this dataframe to an interactive table.\"\n",
              "            style=\"display:none;\">\n",
              "\n",
              "  <svg xmlns=\"http://www.w3.org/2000/svg\" height=\"24px\" viewBox=\"0 -960 960 960\">\n",
              "    <path d=\"M120-120v-720h720v720H120Zm60-500h600v-160H180v160Zm220 220h160v-160H400v160Zm0 220h160v-160H400v160ZM180-400h160v-160H180v160Zm440 0h160v-160H620v160ZM180-180h160v-160H180v160Zm440 0h160v-160H620v160Z\"/>\n",
              "  </svg>\n",
              "    </button>\n",
              "\n",
              "  <style>\n",
              "    .colab-df-container {\n",
              "      display:flex;\n",
              "      gap: 12px;\n",
              "    }\n",
              "\n",
              "    .colab-df-convert {\n",
              "      background-color: #E8F0FE;\n",
              "      border: none;\n",
              "      border-radius: 50%;\n",
              "      cursor: pointer;\n",
              "      display: none;\n",
              "      fill: #1967D2;\n",
              "      height: 32px;\n",
              "      padding: 0 0 0 0;\n",
              "      width: 32px;\n",
              "    }\n",
              "\n",
              "    .colab-df-convert:hover {\n",
              "      background-color: #E2EBFA;\n",
              "      box-shadow: 0px 1px 2px rgba(60, 64, 67, 0.3), 0px 1px 3px 1px rgba(60, 64, 67, 0.15);\n",
              "      fill: #174EA6;\n",
              "    }\n",
              "\n",
              "    .colab-df-buttons div {\n",
              "      margin-bottom: 4px;\n",
              "    }\n",
              "\n",
              "    [theme=dark] .colab-df-convert {\n",
              "      background-color: #3B4455;\n",
              "      fill: #D2E3FC;\n",
              "    }\n",
              "\n",
              "    [theme=dark] .colab-df-convert:hover {\n",
              "      background-color: #434B5C;\n",
              "      box-shadow: 0px 1px 3px 1px rgba(0, 0, 0, 0.15);\n",
              "      filter: drop-shadow(0px 1px 2px rgba(0, 0, 0, 0.3));\n",
              "      fill: #FFFFFF;\n",
              "    }\n",
              "  </style>\n",
              "\n",
              "    <script>\n",
              "      const buttonEl =\n",
              "        document.querySelector('#df-cfa53750-f02f-4d3c-bdf5-531f7a8fff15 button.colab-df-convert');\n",
              "      buttonEl.style.display =\n",
              "        google.colab.kernel.accessAllowed ? 'block' : 'none';\n",
              "\n",
              "      async function convertToInteractive(key) {\n",
              "        const element = document.querySelector('#df-cfa53750-f02f-4d3c-bdf5-531f7a8fff15');\n",
              "        const dataTable =\n",
              "          await google.colab.kernel.invokeFunction('convertToInteractive',\n",
              "                                                    [key], {});\n",
              "        if (!dataTable) return;\n",
              "\n",
              "        const docLinkHtml = 'Like what you see? Visit the ' +\n",
              "          '<a target=\"_blank\" href=https://colab.research.google.com/notebooks/data_table.ipynb>data table notebook</a>'\n",
              "          + ' to learn more about interactive tables.';\n",
              "        element.innerHTML = '';\n",
              "        dataTable['output_type'] = 'display_data';\n",
              "        await google.colab.output.renderOutput(dataTable, element);\n",
              "        const docLink = document.createElement('div');\n",
              "        docLink.innerHTML = docLinkHtml;\n",
              "        element.appendChild(docLink);\n",
              "      }\n",
              "    </script>\n",
              "  </div>\n",
              "\n",
              "\n",
              "<div id=\"df-fae25bba-b86f-40dc-8cba-1974485f11f3\">\n",
              "  <button class=\"colab-df-quickchart\" onclick=\"quickchart('df-fae25bba-b86f-40dc-8cba-1974485f11f3')\"\n",
              "            title=\"Suggest charts\"\n",
              "            style=\"display:none;\">\n",
              "\n",
              "<svg xmlns=\"http://www.w3.org/2000/svg\" height=\"24px\"viewBox=\"0 0 24 24\"\n",
              "     width=\"24px\">\n",
              "    <g>\n",
              "        <path d=\"M19 3H5c-1.1 0-2 .9-2 2v14c0 1.1.9 2 2 2h14c1.1 0 2-.9 2-2V5c0-1.1-.9-2-2-2zM9 17H7v-7h2v7zm4 0h-2V7h2v10zm4 0h-2v-4h2v4z\"/>\n",
              "    </g>\n",
              "</svg>\n",
              "  </button>\n",
              "\n",
              "<style>\n",
              "  .colab-df-quickchart {\n",
              "      --bg-color: #E8F0FE;\n",
              "      --fill-color: #1967D2;\n",
              "      --hover-bg-color: #E2EBFA;\n",
              "      --hover-fill-color: #174EA6;\n",
              "      --disabled-fill-color: #AAA;\n",
              "      --disabled-bg-color: #DDD;\n",
              "  }\n",
              "\n",
              "  [theme=dark] .colab-df-quickchart {\n",
              "      --bg-color: #3B4455;\n",
              "      --fill-color: #D2E3FC;\n",
              "      --hover-bg-color: #434B5C;\n",
              "      --hover-fill-color: #FFFFFF;\n",
              "      --disabled-bg-color: #3B4455;\n",
              "      --disabled-fill-color: #666;\n",
              "  }\n",
              "\n",
              "  .colab-df-quickchart {\n",
              "    background-color: var(--bg-color);\n",
              "    border: none;\n",
              "    border-radius: 50%;\n",
              "    cursor: pointer;\n",
              "    display: none;\n",
              "    fill: var(--fill-color);\n",
              "    height: 32px;\n",
              "    padding: 0;\n",
              "    width: 32px;\n",
              "  }\n",
              "\n",
              "  .colab-df-quickchart:hover {\n",
              "    background-color: var(--hover-bg-color);\n",
              "    box-shadow: 0 1px 2px rgba(60, 64, 67, 0.3), 0 1px 3px 1px rgba(60, 64, 67, 0.15);\n",
              "    fill: var(--button-hover-fill-color);\n",
              "  }\n",
              "\n",
              "  .colab-df-quickchart-complete:disabled,\n",
              "  .colab-df-quickchart-complete:disabled:hover {\n",
              "    background-color: var(--disabled-bg-color);\n",
              "    fill: var(--disabled-fill-color);\n",
              "    box-shadow: none;\n",
              "  }\n",
              "\n",
              "  .colab-df-spinner {\n",
              "    border: 2px solid var(--fill-color);\n",
              "    border-color: transparent;\n",
              "    border-bottom-color: var(--fill-color);\n",
              "    animation:\n",
              "      spin 1s steps(1) infinite;\n",
              "  }\n",
              "\n",
              "  @keyframes spin {\n",
              "    0% {\n",
              "      border-color: transparent;\n",
              "      border-bottom-color: var(--fill-color);\n",
              "      border-left-color: var(--fill-color);\n",
              "    }\n",
              "    20% {\n",
              "      border-color: transparent;\n",
              "      border-left-color: var(--fill-color);\n",
              "      border-top-color: var(--fill-color);\n",
              "    }\n",
              "    30% {\n",
              "      border-color: transparent;\n",
              "      border-left-color: var(--fill-color);\n",
              "      border-top-color: var(--fill-color);\n",
              "      border-right-color: var(--fill-color);\n",
              "    }\n",
              "    40% {\n",
              "      border-color: transparent;\n",
              "      border-right-color: var(--fill-color);\n",
              "      border-top-color: var(--fill-color);\n",
              "    }\n",
              "    60% {\n",
              "      border-color: transparent;\n",
              "      border-right-color: var(--fill-color);\n",
              "    }\n",
              "    80% {\n",
              "      border-color: transparent;\n",
              "      border-right-color: var(--fill-color);\n",
              "      border-bottom-color: var(--fill-color);\n",
              "    }\n",
              "    90% {\n",
              "      border-color: transparent;\n",
              "      border-bottom-color: var(--fill-color);\n",
              "    }\n",
              "  }\n",
              "</style>\n",
              "\n",
              "  <script>\n",
              "    async function quickchart(key) {\n",
              "      const quickchartButtonEl =\n",
              "        document.querySelector('#' + key + ' button');\n",
              "      quickchartButtonEl.disabled = true;  // To prevent multiple clicks.\n",
              "      quickchartButtonEl.classList.add('colab-df-spinner');\n",
              "      try {\n",
              "        const charts = await google.colab.kernel.invokeFunction(\n",
              "            'suggestCharts', [key], {});\n",
              "      } catch (error) {\n",
              "        console.error('Error during call to suggestCharts:', error);\n",
              "      }\n",
              "      quickchartButtonEl.classList.remove('colab-df-spinner');\n",
              "      quickchartButtonEl.classList.add('colab-df-quickchart-complete');\n",
              "    }\n",
              "    (() => {\n",
              "      let quickchartButtonEl =\n",
              "        document.querySelector('#df-fae25bba-b86f-40dc-8cba-1974485f11f3 button');\n",
              "      quickchartButtonEl.style.display =\n",
              "        google.colab.kernel.accessAllowed ? 'block' : 'none';\n",
              "    })();\n",
              "  </script>\n",
              "</div>\n",
              "\n",
              "  <div id=\"id_bf954714-4c42-4ccf-93ef-fcd878a835da\">\n",
              "    <style>\n",
              "      .colab-df-generate {\n",
              "        background-color: #E8F0FE;\n",
              "        border: none;\n",
              "        border-radius: 50%;\n",
              "        cursor: pointer;\n",
              "        display: none;\n",
              "        fill: #1967D2;\n",
              "        height: 32px;\n",
              "        padding: 0 0 0 0;\n",
              "        width: 32px;\n",
              "      }\n",
              "\n",
              "      .colab-df-generate:hover {\n",
              "        background-color: #E2EBFA;\n",
              "        box-shadow: 0px 1px 2px rgba(60, 64, 67, 0.3), 0px 1px 3px 1px rgba(60, 64, 67, 0.15);\n",
              "        fill: #174EA6;\n",
              "      }\n",
              "\n",
              "      [theme=dark] .colab-df-generate {\n",
              "        background-color: #3B4455;\n",
              "        fill: #D2E3FC;\n",
              "      }\n",
              "\n",
              "      [theme=dark] .colab-df-generate:hover {\n",
              "        background-color: #434B5C;\n",
              "        box-shadow: 0px 1px 3px 1px rgba(0, 0, 0, 0.15);\n",
              "        filter: drop-shadow(0px 1px 2px rgba(0, 0, 0, 0.3));\n",
              "        fill: #FFFFFF;\n",
              "      }\n",
              "    </style>\n",
              "    <button class=\"colab-df-generate\" onclick=\"generateWithVariable('compare_results')\"\n",
              "            title=\"Generate code using this dataframe.\"\n",
              "            style=\"display:none;\">\n",
              "\n",
              "  <svg xmlns=\"http://www.w3.org/2000/svg\" height=\"24px\"viewBox=\"0 0 24 24\"\n",
              "       width=\"24px\">\n",
              "    <path d=\"M7,19H8.4L18.45,9,17,7.55,7,17.6ZM5,21V16.75L18.45,3.32a2,2,0,0,1,2.83,0l1.4,1.43a1.91,1.91,0,0,1,.58,1.4,1.91,1.91,0,0,1-.58,1.4L9.25,21ZM18.45,9,17,7.55Zm-12,3A5.31,5.31,0,0,0,4.9,8.1,5.31,5.31,0,0,0,1,6.5,5.31,5.31,0,0,0,4.9,4.9,5.31,5.31,0,0,0,6.5,1,5.31,5.31,0,0,0,8.1,4.9,5.31,5.31,0,0,0,12,6.5,5.46,5.46,0,0,0,6.5,12Z\"/>\n",
              "  </svg>\n",
              "    </button>\n",
              "    <script>\n",
              "      (() => {\n",
              "      const buttonEl =\n",
              "        document.querySelector('#id_bf954714-4c42-4ccf-93ef-fcd878a835da button.colab-df-generate');\n",
              "      buttonEl.style.display =\n",
              "        google.colab.kernel.accessAllowed ? 'block' : 'none';\n",
              "\n",
              "      buttonEl.onclick = () => {\n",
              "        google.colab.notebook.generateWithVariable('compare_results');\n",
              "      }\n",
              "      })();\n",
              "    </script>\n",
              "  </div>\n",
              "\n",
              "    </div>\n",
              "  </div>\n"
            ],
            "application/vnd.google.colaboratory.intrinsic+json": {
              "type": "dataframe",
              "variable_name": "compare_results",
              "summary": "{\n  \"name\": \"compare_results\",\n  \"rows\": 2,\n  \"fields\": [\n    {\n      \"column\": \"model_name\",\n      \"properties\": {\n        \"dtype\": \"string\",\n        \"num_unique_values\": 2,\n        \"samples\": [\n          \"FasihionMNISTModelV2\",\n          \"FashionMNISTModelV0\"\n        ],\n        \"semantic_type\": \"\",\n        \"description\": \"\"\n      }\n    },\n    {\n      \"column\": \"model_loss\",\n      \"properties\": {\n        \"dtype\": \"number\",\n        \"std\": 0.1357512058372237,\n        \"min\": 0.32718968391418457,\n        \"max\": 0.519170880317688,\n        \"num_unique_values\": 2,\n        \"samples\": [\n          0.32718968391418457,\n          0.519170880317688\n        ],\n        \"semantic_type\": \"\",\n        \"description\": \"\"\n      }\n    },\n    {\n      \"column\": \"model_acc\",\n      \"properties\": {\n        \"dtype\": \"number\",\n        \"std\": 4.4335369267686895,\n        \"min\": 81.7991214057508,\n        \"max\": 88.06908945686901,\n        \"num_unique_values\": 2,\n        \"samples\": [\n          88.06908945686901,\n          81.7991214057508\n        ],\n        \"semantic_type\": \"\",\n        \"description\": \"\"\n      }\n    }\n  ]\n}"
            }
          },
          "metadata": {},
          "execution_count": 102
        }
      ]
    },
    {
      "cell_type": "code",
      "source": [
        "def make_predictions(model: nn.Module,\n",
        "                    data: list,\n",
        "                    device: torch.device = device):\n",
        "    pred_probs = []\n",
        "    model.eval()\n",
        "    with torch.inference_mode():\n",
        "        for sample in data:\n",
        "            sample = torch.unsqueeze(sample, dim=0).to(device)\n",
        "            sample = sample.to(device)\n",
        "\n",
        "            pred_logits = model(sample)\n",
        "            pred_prob = torch.softmax(pred_logits.squeeze(), dim=0)\n",
        "            pred_probs.append(pred_prob.cpu())\n",
        "    return torch.stack(pred_probs)"
      ],
      "metadata": {
        "id": "3KisdxckuKN2"
      },
      "execution_count": null,
      "outputs": []
    },
    {
      "cell_type": "code",
      "source": [
        "import random\n",
        "random.seed(42)\n",
        "test_samples = []\n",
        "test_labels = []\n",
        "for sample, label in random.sample(list(test_data), k=9):\n",
        "    test_samples.append(sample)\n",
        "    test_labels.append(label)\n",
        "\n",
        "\n",
        "test_samples[0].shape\n"
      ],
      "metadata": {
        "colab": {
          "base_uri": "https://localhost:8080/"
        },
        "id": "V-3zUtc-wJWj",
        "outputId": "8f3eefec-b230-4ff5-ab5c-14c6a88589f0"
      },
      "execution_count": null,
      "outputs": [
        {
          "output_type": "execute_result",
          "data": {
            "text/plain": [
              "torch.Size([1, 28, 28])"
            ]
          },
          "metadata": {},
          "execution_count": 104
        }
      ]
    },
    {
      "cell_type": "code",
      "source": [
        "plt.imshow(test_samples[0].squeeze(), cmap=\"gray\")\n",
        "plt.title(class_name[test_labels[0]])\n",
        "plt.axis(\"off\")"
      ],
      "metadata": {
        "colab": {
          "base_uri": "https://localhost:8080/",
          "height": 446
        },
        "id": "2zoQRW-RwwCD",
        "outputId": "1226d2a7-0463-47d7-84f1-233e5470e717"
      },
      "execution_count": null,
      "outputs": [
        {
          "output_type": "execute_result",
          "data": {
            "text/plain": [
              "(-0.5, 27.5, 27.5, -0.5)"
            ]
          },
          "metadata": {},
          "execution_count": 105
        },
        {
          "output_type": "display_data",
          "data": {
            "text/plain": [
              "<Figure size 640x480 with 1 Axes>"
            ],
            "image/png": "[encoded data removed]"
          },
          "metadata": {}
        }
      ]
    },
    {
      "cell_type": "code",
      "source": [
        "pred_probs = make_predictions(model=model_2, data=test_samples)\n",
        "pred_probs"
      ],
      "metadata": {
        "colab": {
          "base_uri": "https://localhost:8080/"
        },
        "id": "q1cI7E2lw_Pv",
        "outputId": "bec93fd3-dfd5-43d3-d258-8f8eb06d03b0"
      },
      "execution_count": null,
      "outputs": [
        {
          "output_type": "execute_result",
          "data": {
            "text/plain": [
              "tensor([[1.4021e-06, 1.7343e-07, 4.4511e-07, 1.2103e-05, 5.4026e-07, 9.9938e-01,\n",
              "         3.7154e-06, 2.1650e-04, 1.4199e-04, 2.4416e-04],\n",
              "        [1.0080e-01, 5.6287e-01, 7.4506e-04, 1.1212e-01, 6.3881e-02, 3.0674e-04,\n",
              "         1.5560e-01, 1.6463e-03, 1.0169e-03, 1.0133e-03],\n",
              "        [3.8239e-05, 1.2338e-06, 3.2391e-05, 6.0269e-05, 1.5860e-05, 1.9636e-03,\n",
              "         7.6249e-06, 7.8097e-01, 1.9226e-03, 2.1498e-01],\n",
              "        [7.8742e-04, 1.3270e-04, 1.6981e-01, 1.3967e-03, 8.2655e-01, 3.1661e-06,\n",
              "         1.0841e-03, 1.2137e-05, 2.1172e-04, 1.7749e-05],\n",
              "        [8.6987e-02, 5.9945e-05, 2.1540e-04, 8.9260e-01, 5.0072e-04, 4.4561e-07,\n",
              "         1.9359e-02, 2.6450e-05, 2.3960e-04, 7.3933e-06],\n",
              "        [8.5208e-01, 5.0843e-05, 1.6163e-03, 9.2852e-03, 7.7607e-03, 9.1815e-07,\n",
              "         1.2845e-01, 2.6501e-06, 7.5505e-04, 6.0906e-07],\n",
              "        [5.2980e-04, 3.9070e-05, 3.2348e-02, 2.5166e-05, 9.5285e-01, 5.1364e-06,\n",
              "         1.3197e-02, 1.5579e-06, 9.7135e-04, 3.7291e-05],\n",
              "        [6.0402e-06, 6.1119e-06, 1.1776e-05, 1.4188e-04, 4.1955e-06, 6.0428e-03,\n",
              "         3.7210e-06, 9.9210e-01, 5.1638e-04, 1.1698e-03],\n",
              "        [1.7614e-05, 9.9972e-01, 5.7784e-07, 2.2402e-04, 1.7686e-05, 2.3683e-06,\n",
              "         6.1800e-06, 3.6548e-06, 7.8608e-06, 2.4753e-06]])"
            ]
          },
          "metadata": {},
          "execution_count": 106
        }
      ]
    },
    {
      "cell_type": "code",
      "source": [
        "pred_classes = pred_probs.argmax(dim=1)\n",
        "pred_classes"
      ],
      "metadata": {
        "colab": {
          "base_uri": "https://localhost:8080/"
        },
        "id": "dhVzbwpNxFz7",
        "outputId": "a30b4f0e-dcfa-4ff9-d3df-b6689f883aea"
      },
      "execution_count": null,
      "outputs": [
        {
          "output_type": "execute_result",
          "data": {
            "text/plain": [
              "tensor([5, 1, 7, 4, 3, 0, 4, 7, 1])"
            ]
          },
          "metadata": {},
          "execution_count": 107
        }
      ]
    },
    {
      "cell_type": "code",
      "source": [
        "test_labels"
      ],
      "metadata": {
        "colab": {
          "base_uri": "https://localhost:8080/"
        },
        "id": "JvnsAaoaxonn",
        "outputId": "d0c4dfb6-4edb-492f-9058-0b5b1415e959"
      },
      "execution_count": null,
      "outputs": [
        {
          "output_type": "execute_result",
          "data": {
            "text/plain": [
              "[5, 1, 7, 4, 3, 0, 4, 7, 1]"
            ]
          },
          "metadata": {},
          "execution_count": 108
        }
      ]
    },
    {
      "cell_type": "code",
      "source": [
        "plt.figure(figsize=(9, 9))\n",
        "nrows = 3\n",
        "ncols = 3\n",
        "for i, sample in enumerate(test_samples):\n",
        "    plt.subplot(nrows, ncols, i+1)\n",
        "\n",
        "    plt.imshow(sample.squeeze(), cmap=\"gray\")\n",
        "\n",
        "    color = \"green\" if pred_classes[i] == test_labels[i] else \"red\"\n",
        "    plt.title(f\"Pred: {pred_classes[i]} | Truth: {test_labels[i]}\", color=color)\n",
        "    plt.axis(\"off\")\n",
        "    plt.tight_layout()"
      ],
      "metadata": {
        "colab": {
          "base_uri": "https://localhost:8080/",
          "height": 806
        },
        "id": "G8gTfN8axt3e",
        "outputId": "f170bc08-84da-4c98-aad1-aff68f5a40a0"
      },
      "execution_count": null,
      "outputs": [
        {
          "output_type": "display_data",
          "data": {
            "text/plain": [
              "<Figure size 900x900 with 9 Axes>"
            ],
            "image/png": "[encoded data removed]"
          },
          "metadata": {}
        }
      ]
    },
    {
      "cell_type": "code",
      "source": [
        "# Make a confusion matrix\n",
        "\n",
        "from sklearn.metrics import confusion_matrix\n",
        "cm = confusion_matrix(y_true=test_labels, y_pred=pred_classes)\n",
        "cm"
      ],
      "metadata": {
        "colab": {
          "base_uri": "https://localhost:8080/"
        },
        "id": "GRZrYjRT1I0_",
        "outputId": "0d0164eb-fa1b-4c7c-f59c-c65a2b3e91bc"
      },
      "execution_count": null,
      "outputs": [
        {
          "output_type": "execute_result",
          "data": {
            "text/plain": [
              "array([[1, 0, 0, 0, 0, 0],\n",
              "       [0, 2, 0, 0, 0, 0],\n",
              "       [0, 0, 1, 0, 0, 0],\n",
              "       [0, 0, 0, 2, 0, 0],\n",
              "       [0, 0, 0, 0, 1, 0],\n",
              "       [0, 0, 0, 0, 0, 2]])"
            ]
          },
          "metadata": {},
          "execution_count": 110
        }
      ]
    },
    {
      "cell_type": "code",
      "source": [
        "from tqdm.auto import tqdm\n",
        "\n",
        "y_preds = []\n",
        "model_2.eval()\n",
        "with torch.inference_mode():\n",
        "    for X, y in tqdm(test_dataloader, desc = \"Making predictions...\"):\n",
        "        X, y = X.to(device), y.to(device)\n",
        "        y_logit = model_2(X)\n",
        "        y_pred = torch.softmax(y_logit.squeeze(), dim=0).argmax(dim=1)\n",
        "        y_preds.append(y_pred.cpu())\n",
        "\n",
        "print(y_preds)\n",
        "y_pred_tensor = torch.cat(y_preds)\n",
        "y_pred_tensor[:10]\n"
      ],
      "metadata": {
        "colab": {
          "base_uri": "https://localhost:8080/",
          "height": 1000,
          "referenced_widgets": [
            "84780a6220a44843965cab2d66822fdd",
            "ff643120a91c4a8bafd67d92a3610576",
            "51a416044cc844e7a5cc75cf6d9fc974",
            "f60f40b7c6ca4bdc913abc2a6b478f55",
            "b23fdf26289f46c9b12875c371a19f7b",
            "07adc52766ed482aa95ebd0c36ca07c0",
            "e59783388b734fd986e69d186a9413fb",
            "c7eb696350d84bca8bc6df3cf7757a9b",
            "13b01b03c2b140c28ee9948f98d799dc",
            "071cbba45d2b4fe696817699174e10e6",
            "4906c925517c4786adf2be2379b71e95"
          ]
        },
        "id": "FJqE43zu1W0O",
        "outputId": "4fcccf14-fcd6-44e1-e237-fe480337376a"
      },
      "execution_count": null,
      "outputs": [
        {
          "output_type": "display_data",
          "data": {
            "text/plain": [
              "Making predictions...:   0%|          | 0/313 [00:00<?, ?it/s]"
            ],
            "application/vnd.jupyter.widget-view+json": {
              "version_major": 2,
              "version_minor": 0,
              "model_id": "84780a6220a44843965cab2d66822fdd"
            }
          },
          "metadata": {}
        },
        {
          "output_type": "stream",
          "name": "stdout",
          "text": [
            "[tensor([9, 2, 1, 1, 6, 1, 4, 6, 5, 7, 4, 5, 5, 3, 4, 1, 2, 4, 8, 0, 2, 9, 7, 5,\n",
            "        1, 2, 6, 3, 9, 3, 8, 8]), tensor([3, 3, 8, 0, 7, 5, 7, 9, 6, 1, 3, 9, 6, 7, 2, 1, 4, 6, 4, 4, 5, 8, 2, 2,\n",
            "        8, 4, 8, 0, 7, 7, 8, 5]), tensor([1, 3, 3, 3, 7, 8, 7, 0, 2, 6, 2, 3, 1, 2, 8, 4, 3, 8, 5, 9, 5, 0, 3, 2,\n",
            "        0, 2, 5, 3, 6, 7, 1, 8]), tensor([6, 1, 6, 2, 3, 6, 7, 6, 7, 8, 5, 9, 9, 4, 2, 5, 7, 6, 5, 2, 8, 6, 7, 8,\n",
            "        0, 0, 9, 9, 3, 0, 8, 4]), tensor([1, 5, 4, 1, 9, 1, 8, 6, 6, 1, 2, 5, 1, 6, 0, 0, 1, 6, 1, 3, 2, 2, 2, 4,\n",
            "        1, 4, 5, 6, 4, 7, 9, 3]), tensor([8, 2, 3, 8, 0, 9, 4, 8, 4, 2, 6, 5, 6, 1, 2, 1, 3, 6, 8, 1, 0, 9, 3, 6,\n",
            "        7, 9, 9, 4, 4, 7, 1, 2]), tensor([3, 6, 3, 6, 8, 3, 6, 1, 1, 6, 2, 9, 2, 4, 0, 7, 9, 8, 4, 1, 6, 4, 1, 3,\n",
            "        1, 6, 7, 2, 8, 5, 6, 0]), tensor([7, 7, 6, 3, 7, 0, 7, 8, 9, 2, 9, 0, 5, 1, 3, 2, 5, 4, 9, 2, 2, 8, 6, 4,\n",
            "        6, 2, 9, 7, 3, 5, 5, 4]), tensor([8, 5, 2, 3, 0, 4, 8, 6, 0, 6, 3, 8, 9, 6, 1, 3, 0, 2, 3, 0, 8, 3, 7, 2,\n",
            "        0, 1, 6, 3, 6, 2, 6, 7]), tensor([8, 3, 8, 9, 5, 6, 5, 5, 1, 9, 8, 3, 3, 3, 6, 8, 0, 0, 2, 9, 7, 7, 1, 3,\n",
            "        8, 6, 2, 4, 7, 1, 6, 4]), tensor([8, 2, 6, 5, 6, 2, 8, 7, 7, 3, 3, 8, 0, 7, 1, 3, 7, 2, 2, 3, 4, 0, 0, 1,\n",
            "        0, 1, 9, 4, 9, 9, 1, 7]), tensor([8, 3, 6, 0, 2, 4, 8, 6, 1, 2, 2, 4, 4, 7, 3, 2, 2, 8, 0, 7, 9, 4, 0, 9,\n",
            "        3, 9, 8, 2, 5, 6, 0, 3]), tensor([5, 8, 1, 6, 2, 2, 6, 4, 9, 5, 2, 0, 6, 6, 1, 2, 0, 9, 7, 0, 3, 4, 3, 6,\n",
            "        2, 3, 3, 6, 7, 3, 9, 4]), tensor([2, 1, 5, 4, 5, 3, 6, 5, 8, 4, 4, 8, 9, 8, 6, 2, 4, 2, 2, 4, 1, 6, 1, 3,\n",
            "        0, 7, 8, 8, 6, 5, 3, 1]), tensor([9, 5, 3, 3, 6, 1, 6, 2, 9, 4, 6, 6, 1, 4, 2, 0, 0, 3, 3, 8, 2, 8, 9, 4,\n",
            "        0, 7, 6, 4, 6, 9, 2, 9]), tensor([7, 9, 3, 7, 5, 7, 8, 1, 6, 0, 6, 6, 8, 9, 7, 9, 1, 2, 7, 3, 2, 0, 5, 9,\n",
            "        1, 8, 2, 2, 2, 2, 4, 4]), tensor([6, 0, 9, 0, 7, 1, 9, 0, 6, 8, 3, 0, 7, 2, 6, 6, 8, 0, 2, 0, 5, 0, 7, 5,\n",
            "        0, 9, 4, 3, 6, 2, 7, 1]), tensor([3, 1, 2, 6, 2, 9, 6, 3, 5, 1, 3, 1, 9, 3, 4, 5, 3, 6, 2, 6, 4, 6, 0, 5,\n",
            "        8, 3, 3, 4, 6, 7, 7, 8]), tensor([9, 0, 3, 8, 7, 6, 7, 9, 3, 2, 6, 3, 8, 0, 1, 3, 5, 9, 4, 2, 5, 7, 8, 1,\n",
            "        4, 9, 8, 7, 1, 0, 9, 3]), tensor([4, 9, 0, 5, 1, 8, 2, 7, 1, 2, 3, 8, 2, 4, 6, 9, 3, 0, 7, 8, 8, 2, 9, 4,\n",
            "        1, 6, 4, 1, 0, 1, 4, 1]), tensor([7, 5, 8, 3, 9, 1, 0, 5, 4, 4, 4, 6, 0, 4, 5, 6, 0, 3, 5, 2, 1, 3, 1, 3,\n",
            "        6, 2, 3, 8, 2, 8, 6, 7]), tensor([0, 4, 1, 8, 5, 0, 8, 2, 7, 2, 8, 9, 6, 4, 2, 9, 2, 4, 5, 0, 9, 5, 3, 4,\n",
            "        6, 2, 3, 1, 8, 1, 4, 0]), tensor([9, 7, 7, 4, 8, 9, 1, 3, 7, 3, 0, 2, 4, 7, 1, 0, 6, 8, 7, 2, 4, 4, 4, 4,\n",
            "        1, 5, 9, 3, 2, 1, 6, 5]), tensor([0, 6, 4, 3, 3, 8, 1, 1, 8, 5, 7, 9, 8, 7, 2, 0, 7, 3, 8, 0, 9, 7, 6, 1,\n",
            "        6, 2, 4, 8, 6, 6, 3, 6]), tensor([8, 6, 0, 8, 9, 2, 4, 5, 9, 1, 6, 4, 9, 2, 3, 7, 9, 7, 8, 3, 7, 7, 3, 1,\n",
            "        1, 6, 9, 5, 3, 8, 4, 2]), tensor([9, 0, 8, 3, 2, 2, 4, 7, 1, 4, 9, 0, 5, 8, 5, 4, 7, 2, 8, 5, 9, 0, 3, 6,\n",
            "        7, 1, 7, 0, 7, 4, 6, 8]), tensor([8, 3, 9, 1, 2, 6, 1, 9, 3, 2, 7, 1, 3, 7, 5, 9, 9, 1, 8, 4, 5, 7, 1, 9,\n",
            "        6, 1, 0, 0, 2, 1, 7, 1]), tensor([1, 8, 7, 1, 5, 2, 2, 3, 3, 1, 1, 4, 9, 4, 3, 7, 7, 0, 8, 9, 9, 6, 1, 3,\n",
            "        4, 0, 3, 5, 9, 2, 0, 5]), tensor([5, 1, 5, 7, 8, 7, 9, 3, 6, 4, 0, 4, 0, 2, 0, 2, 5, 5, 1, 2, 0, 9, 3, 7,\n",
            "        8, 4, 8, 3, 4, 7, 0, 7]), tensor([4, 8, 6, 3, 4, 2, 3, 4, 9, 6, 2, 4, 9, 1, 8, 1, 7, 5, 5, 6, 3, 2, 1, 6,\n",
            "        5, 4, 0, 0, 2, 7, 8, 0]), tensor([2, 5, 9, 4, 8, 6, 3, 3, 6, 2, 9, 3, 7, 7, 1, 4, 4, 0, 5, 0, 9, 9, 8, 8,\n",
            "        2, 0, 2, 4, 6, 6, 3, 2]), tensor([3, 7, 4, 9, 3, 4, 7, 7, 0, 3, 9, 5, 6, 4, 5, 9, 6, 3, 7, 5, 1, 9, 8, 8,\n",
            "        9, 9, 2, 9, 2, 2, 3, 8]), tensor([7, 4, 4, 5, 2, 8, 6, 1, 4, 9, 3, 1, 6, 8, 0, 5, 7, 8, 2, 3, 3, 9, 6, 3,\n",
            "        6, 0, 6, 8, 0, 2, 8, 2]), tensor([6, 3, 4, 7, 0, 2, 1, 1, 3, 6, 6, 5, 9, 0, 1, 6, 5, 1, 4, 4, 8, 4, 7, 7,\n",
            "        3, 8, 3, 1, 9, 8, 1, 3]), tensor([3, 7, 5, 0, 5, 7, 8, 9, 2, 0, 5, 8, 4, 6, 3, 8, 6, 0, 5, 2, 9, 1, 0, 0,\n",
            "        5, 4, 8, 6, 2, 1, 1, 7]), tensor([9, 1, 2, 7, 1, 1, 8, 2, 2, 0, 1, 4, 4, 9, 6, 8, 4, 5, 9, 0, 3, 9, 6, 9,\n",
            "        8, 7, 4, 2, 2, 5, 1, 7]), tensor([0, 7, 2, 9, 3, 7, 0, 9, 3, 8, 4, 4, 7, 2, 3, 6, 2, 0, 7, 8, 4, 2, 4, 5,\n",
            "        5, 6, 3, 5, 5, 8, 1, 3]), tensor([7, 4, 4, 9, 6, 8, 7, 2, 2, 1, 2, 7, 7, 4, 9, 8, 5, 1, 3, 3, 2, 3, 9, 3,\n",
            "        1, 9, 3, 5, 5, 3, 0, 7]), tensor([0, 2, 3, 1, 3, 1, 3, 6, 7, 2, 4, 9, 5, 2, 9, 6, 3, 4, 4, 0, 8, 5, 2, 2,\n",
            "        8, 6, 1, 8, 2, 7, 4, 4]), tensor([8, 3, 2, 4, 0, 6, 3, 6, 8, 3, 8, 2, 0, 4, 3, 8, 8, 4, 5, 2, 2, 3, 0, 1,\n",
            "        7, 0, 9, 1, 7, 3, 5, 2]), tensor([2, 7, 3, 8, 9, 6, 8, 0, 7, 5, 5, 9, 5, 0, 6, 0, 3, 2, 4, 4, 2, 7, 1, 3,\n",
            "        4, 2, 6, 5, 1, 6, 7, 3]), tensor([4, 8, 8, 4, 8, 9, 4, 1, 6, 5, 2, 7, 8, 5, 3, 8, 5, 2, 2, 8, 9, 8, 3, 3,\n",
            "        0, 8, 8, 3, 0, 9, 4, 4]), tensor([8, 1, 3, 6, 1, 9, 2, 1, 6, 2, 7, 9, 2, 6, 3, 4, 4, 2, 4, 5, 6, 2, 8, 3,\n",
            "        7, 4, 4, 0, 0, 5, 4, 8]), tensor([2, 6, 2, 0, 2, 1, 7, 9, 5, 4, 7, 2, 2, 9, 3, 3, 1, 3, 6, 6, 6, 1, 9, 6,\n",
            "        4, 7, 1, 0, 6, 5, 8, 4]), tensor([2, 7, 9, 8, 0, 7, 9, 5, 1, 2, 9, 8, 8, 3, 9, 9, 1, 2, 7, 8, 0, 1, 7, 2,\n",
            "        7, 1, 1, 8, 5, 6, 4, 2]), tensor([9, 5, 5, 2, 3, 9, 3, 8, 5, 4, 6, 3, 6, 5, 7, 6, 8, 2, 6, 4, 6, 7, 6, 0,\n",
            "        5, 1, 7, 2, 3, 6, 8, 9]), tensor([8, 7, 1, 2, 3, 2, 9, 7, 5, 6, 0, 0, 7, 1, 2, 4, 9, 3, 6, 4, 4, 3, 0, 0,\n",
            "        2, 3, 6, 1, 3, 5, 2, 5]), tensor([0, 9, 1, 1, 8, 2, 9, 5, 0, 5, 4, 6, 7, 1, 1, 5, 3, 8, 7, 8, 3, 8, 9, 2,\n",
            "        2, 1, 1, 3, 5, 6, 7, 1]), tensor([9, 9, 2, 2, 7, 0, 1, 3, 9, 6, 3, 5, 2, 8, 1, 8, 0, 7, 9, 8, 5, 8, 2, 6,\n",
            "        4, 6, 6, 5, 8, 3, 8, 5]), tensor([5, 7, 3, 7, 6, 7, 0, 2, 2, 5, 3, 5, 1, 1, 7, 7, 6, 6, 6, 4, 2, 8, 6, 3,\n",
            "        8, 4, 9, 9, 4, 5, 2, 2]), tensor([7, 8, 6, 7, 9, 1, 2, 9, 4, 9, 3, 6, 3, 3, 1, 8, 8, 5, 3, 8, 0, 6, 6, 3,\n",
            "        6, 0, 2, 7, 3, 2, 8, 3]), tensor([9, 7, 3, 1, 7, 5, 8, 8, 6, 3, 8, 4, 4, 8, 5, 7, 0, 6, 2, 7, 7, 3, 9, 4,\n",
            "        5, 9, 7, 3, 7, 2, 4, 5]), tensor([1, 6, 7, 4, 5, 0, 2, 2, 1, 4, 4, 8, 6, 7, 9, 4, 1, 1, 7, 2, 3, 8, 6, 3,\n",
            "        9, 7, 5, 3, 8, 8, 8, 7]), tensor([1, 1, 6, 4, 1, 4, 3, 4, 9, 5, 6, 0, 6, 9, 4, 9, 6, 6, 3, 8, 9, 2, 5, 4,\n",
            "        8, 0, 7, 2, 3, 6, 4, 5]), tensor([6, 1, 9, 6, 2, 2, 5, 9, 0, 8, 3, 2, 6, 6, 0, 4, 2, 4, 6, 5, 0, 2, 7, 8,\n",
            "        7, 4, 3, 6, 0, 5, 2, 4]), tensor([2, 9, 5, 2, 6, 7, 0, 1, 9, 5, 5, 6, 3, 7, 5, 0, 5, 3, 3, 4, 7, 9, 8, 2,\n",
            "        4, 7, 3, 3, 7, 7, 7, 8]), tensor([4, 9, 8, 7, 6, 8, 8, 5, 1, 3, 0, 4, 9, 9, 8, 3, 7, 0, 3, 4, 9, 3, 3, 1,\n",
            "        8, 9, 1, 8, 7, 2, 8, 4]), tensor([5, 7, 6, 7, 5, 5, 4, 0, 7, 6, 3, 2, 0, 2, 9, 9, 0, 6, 6, 8, 3, 8, 6, 4,\n",
            "        4, 1, 8, 2, 6, 5, 0, 4]), tensor([4, 3, 0, 0, 1, 6, 8, 4, 9, 0, 7, 6, 7, 7, 1, 5, 8, 7, 2, 9, 9, 1, 2, 6,\n",
            "        1, 1, 1, 8, 8, 1, 4, 7]), tensor([5, 2, 0, 8, 4, 8, 9, 4, 1, 3, 3, 9, 8, 3, 3, 3, 8, 6, 9, 5, 7, 6, 0, 3,\n",
            "        2, 1, 1, 7, 9, 2, 2, 0]), tensor([3, 6, 4, 8, 1, 9, 2, 4, 2, 2, 3, 8, 7, 1, 8, 5, 5, 9, 9, 6, 6, 2, 9, 3,\n",
            "        4, 3, 5, 5, 3, 6, 1, 0]), tensor([3, 7, 7, 3, 7, 4, 5, 7, 9, 8, 9, 1, 4, 8, 3, 2, 3, 6, 0, 8, 3, 8, 3, 8,\n",
            "        6, 0, 8, 8, 4, 2, 9, 3]), tensor([2, 0, 8, 5, 9, 0, 3, 1, 1, 9, 5, 1, 3, 3, 6, 0, 8, 4, 1, 3, 8, 8, 6, 7,\n",
            "        5, 6, 6, 7, 3, 3, 2, 4]), tensor([6, 5, 5, 6, 2, 3, 9, 1, 1, 7, 3, 8, 7, 2, 2, 9, 3, 9, 9, 0, 1, 7, 1, 2,\n",
            "        8, 1, 6, 9, 3, 4, 0, 6]), tensor([5, 6, 9, 9, 5, 5, 7, 0, 9, 3, 3, 6, 9, 8, 4, 2, 6, 3, 9, 2, 3, 6, 7, 4,\n",
            "        0, 6, 8, 1, 8, 7, 4, 4]), tensor([5, 2, 2, 9, 1, 9, 4, 9, 1, 3, 2, 8, 8, 7, 7, 7, 7, 2, 6, 0, 7, 5, 8, 5,\n",
            "        3, 0, 2, 4, 9, 2, 6, 3]), tensor([1, 9, 3, 1, 2, 2, 2, 3, 8, 5, 7, 6, 4, 8, 1, 2, 8, 5, 4, 2, 8, 1, 5, 9,\n",
            "        3, 6, 6, 4, 0, 1, 8, 7]), tensor([6, 6, 7, 7, 6, 6, 4, 3, 4, 7, 8, 7, 2, 8, 0, 8, 7, 6, 4, 2, 7, 0, 9, 9,\n",
            "        3, 1, 5, 9, 3, 1, 6, 3]), tensor([3, 8, 9, 7, 9, 8, 3, 8, 9, 3, 7, 9, 3, 6, 0, 0, 5, 7, 7, 2, 4, 8, 3, 1,\n",
            "        1, 9, 4, 3, 9, 5, 8, 7]), tensor([2, 4, 9, 0, 2, 1, 9, 7, 1, 5, 0, 5, 5, 3, 3, 0, 6, 3, 3, 7, 4, 2, 6, 8,\n",
            "        5, 9, 2, 1, 3, 5, 5, 8]), tensor([5, 3, 7, 4, 4, 3, 9, 6, 0, 3, 9, 1, 4, 3, 1, 5, 3, 8, 5, 1, 1, 2, 9, 4,\n",
            "        0, 5, 2, 8, 6, 2, 9, 8]), tensor([2, 4, 8, 3, 8, 0, 4, 2, 6, 4, 8, 5, 2, 9, 0, 9, 5, 8, 0, 9, 1, 2, 7, 2,\n",
            "        1, 6, 3, 3, 4, 5, 2, 4]), tensor([8, 7, 5, 2, 6, 6, 8, 3, 3, 1, 9, 2, 9, 7, 2, 6, 4, 8, 3, 4, 8, 5, 6, 8,\n",
            "        3, 3, 1, 4, 2, 0, 4, 9]), tensor([6, 4, 1, 9, 9, 8, 1, 4, 8, 3, 3, 3, 8, 5, 9, 2, 4, 8, 7, 6, 3, 6, 4, 4,\n",
            "        5, 7, 5, 0, 7, 9, 1, 2]), tensor([4, 8, 9, 3, 5, 2, 2, 4, 6, 7, 8, 9, 1, 8, 2, 5, 5, 3, 1, 1, 8, 8, 3, 6,\n",
            "        7, 0, 1, 8, 2, 6, 2, 9]), tensor([8, 9, 8, 8, 6, 9, 1, 8, 2, 2, 7, 7, 6, 5, 1, 1, 0, 6, 2, 3, 0, 2, 3, 5,\n",
            "        1, 2, 3, 3, 4, 6, 5, 6]), tensor([9, 8, 3, 3, 1, 0, 2, 1, 4, 4, 6, 8, 2, 7, 0, 2, 9, 5, 3, 6, 0, 7, 0, 3,\n",
            "        9, 7, 3, 6, 1, 9, 4, 1]), tensor([0, 4, 5, 4, 1, 2, 8, 5, 7, 4, 5, 3, 3, 8, 3, 6, 6, 8, 9, 0, 5, 6, 2, 6,\n",
            "        7, 3, 2, 2, 8, 7, 7, 2]), tensor([3, 1, 6, 3, 6, 2, 7, 4, 1, 2, 6, 3, 3, 4, 8, 5, 6, 8, 5, 2, 7, 8, 1, 5,\n",
            "        9, 8, 6, 9, 0, 9, 3, 7]), tensor([5, 7, 9, 6, 0, 7, 1, 5, 5, 9, 5, 4, 4, 2, 4, 5, 9, 7, 3, 2, 6, 9, 9, 3,\n",
            "        2, 1, 3, 7, 1, 8, 7, 7]), tensor([1, 8, 9, 3, 7, 7, 7, 1, 7, 4, 4, 6, 2, 4, 5, 2, 8, 9, 6, 8, 0, 0, 7, 7,\n",
            "        5, 0, 1, 9, 2, 6, 4, 9]), tensor([2, 2, 6, 9, 1, 0, 5, 8, 9, 2, 8, 2, 3, 6, 0, 7, 4, 8, 7, 4, 1, 7, 8, 2,\n",
            "        0, 6, 4, 4, 1, 8, 6, 9]), tensor([2, 9, 6, 5, 2, 3, 3, 8, 6, 2, 0, 7, 2, 4, 0, 3, 1, 3, 8, 1, 7, 7, 2, 6,\n",
            "        3, 1, 2, 7, 2, 6, 6, 3]), tensor([2, 7, 2, 2, 3, 2, 3, 0, 9, 7, 3, 5, 4, 9, 2, 4, 5, 0, 6, 8, 4, 0, 4, 4,\n",
            "        0, 6, 1, 6, 4, 6, 7, 1]), tensor([0, 4, 4, 1, 1, 5, 6, 3, 8, 3, 4, 1, 7, 4, 9, 8, 8, 4, 5, 5, 6, 7, 2, 9,\n",
            "        1, 0, 5, 3, 7, 2, 1, 1]), tensor([8, 6, 2, 0, 5, 9, 6, 3, 8, 3, 6, 4, 6, 6, 2, 8, 3, 4, 2, 3, 9, 2, 7, 9,\n",
            "        2, 7, 2, 1, 8, 8, 8, 2]), tensor([6, 4, 6, 3, 1, 2, 4, 0, 3, 9, 8, 4, 0, 3, 4, 3, 9, 7, 1, 1, 7, 5, 1, 9,\n",
            "        2, 4, 2, 3, 8, 6, 7, 1]), tensor([3, 0, 7, 3, 5, 8, 1, 4, 2, 3, 4, 8, 8, 8, 4, 6, 1, 8, 9, 3, 0, 6, 6, 2,\n",
            "        9, 7, 3, 7, 0, 1, 2, 5]), tensor([9, 4, 0, 5, 0, 5, 8, 7, 4, 6, 2, 8, 6, 4, 9, 3, 0, 5, 8, 1, 1, 2, 6, 6,\n",
            "        4, 7, 6, 2, 3, 3, 9, 7]), tensor([4, 3, 3, 1, 8, 1, 5, 4, 0, 6, 7, 9, 3, 2, 7, 1, 7, 6, 1, 6, 2, 8, 6, 7,\n",
            "        6, 4, 9, 3, 2, 5, 2, 8]), tensor([6, 2, 6, 7, 2, 2, 1, 1, 0, 3, 5, 5, 2, 6, 4, 1, 8, 8, 3, 4, 3, 4, 2, 9,\n",
            "        2, 3, 9, 6, 2, 6, 8, 4]), tensor([5, 4, 9, 8, 3, 6, 3, 2, 2, 9, 4, 3, 5, 1, 2, 6, 0, 1, 1, 0, 2, 6, 5, 7,\n",
            "        0, 1, 2, 4, 3, 7, 2, 1]), tensor([1, 7, 7, 8, 7, 6, 5, 3, 7, 2, 0, 9, 6, 1, 4, 2, 2, 5, 8, 5, 4, 7, 8, 4,\n",
            "        6, 9, 0, 8, 1, 3, 8, 2]), tensor([8, 2, 0, 2, 3, 8, 7, 8, 2, 2, 6, 6, 0, 4, 5, 3, 4, 3, 1, 9, 7, 3, 6, 6,\n",
            "        1, 4, 2, 7, 7, 1, 8, 3]), tensor([3, 7, 9, 8, 7, 2, 7, 9, 7, 2, 2, 6, 6, 3, 3, 9, 1, 1, 4, 8, 0, 9, 5, 5,\n",
            "        4, 8, 8, 3, 6, 3, 2, 4]), tensor([6, 2, 9, 9, 2, 4, 8, 3, 2, 8, 3, 3, 2, 1, 3, 0, 1, 8, 4, 1, 5, 2, 1, 5,\n",
            "        8, 2, 7, 7, 7, 5, 6, 5]), tensor([5, 3, 6, 7, 8, 1, 5, 1, 6, 2, 2, 4, 3, 7, 7, 9, 9, 2, 5, 8, 5, 8, 5, 3,\n",
            "        0, 9, 7, 2, 0, 6, 8, 2]), tensor([0, 5, 4, 7, 6, 8, 4, 7, 0, 0, 4, 0, 2, 9, 8, 1, 3, 8, 1, 5, 3, 6, 1, 1,\n",
            "        6, 6, 9, 8, 2, 8, 2, 7]), tensor([7, 1, 3, 6, 3, 0, 7, 8, 7, 6, 5, 2, 6, 7, 5, 5, 6, 9, 7, 3, 2, 4, 8, 3,\n",
            "        9, 5, 7, 6, 2, 6, 7, 3]), tensor([8, 5, 1, 8, 9, 2, 2, 1, 2, 2, 7, 4, 0, 4, 4, 8, 5, 7, 9, 2, 2, 8, 2, 6,\n",
            "        0, 6, 3, 3, 1, 5, 2, 7]), tensor([5, 3, 7, 6, 2, 3, 5, 1, 1, 2, 7, 3, 8, 8, 7, 5, 6, 9, 5, 5, 4, 0, 7, 1,\n",
            "        4, 2, 0, 9, 9, 6, 6, 8]), tensor([6, 5, 7, 8, 2, 2, 9, 6, 6, 4, 8, 1, 6, 4, 2, 0, 7, 5, 8, 9, 9, 7, 5, 6,\n",
            "        7, 6, 2, 2, 6, 3, 4, 2]), tensor([0, 8, 9, 4, 5, 4, 3, 1, 2, 8, 9, 0, 5, 2, 2, 5, 6, 3, 8, 6, 8, 7, 2, 7,\n",
            "        2, 3, 2, 5, 1, 2, 3, 4]), tensor([2, 4, 3, 9, 9, 6, 8, 0, 4, 0, 6, 1, 9, 3, 9, 6, 8, 6, 9, 4, 7, 9, 1, 5,\n",
            "        8, 1, 3, 6, 2, 6, 8, 3]), tensor([3, 3, 0, 0, 4, 3, 3, 1, 4, 8, 4, 9, 3, 0, 2, 5, 8, 8, 8, 6, 1, 0, 8, 9,\n",
            "        8, 5, 8, 7, 0, 7, 2, 7]), tensor([3, 5, 5, 8, 3, 2, 8, 5, 9, 9, 2, 0, 4, 7, 1, 8, 8, 8, 7, 2, 0, 9, 7, 9,\n",
            "        6, 9, 2, 1, 4, 7, 2, 5]), tensor([2, 6, 2, 9, 0, 7, 1, 9, 7, 2, 5, 3, 8, 4, 9, 3, 7, 5, 7, 5, 1, 3, 3, 2,\n",
            "        6, 7, 5, 3, 5, 5, 8, 7]), tensor([9, 4, 6, 5, 5, 3, 4, 8, 3, 0, 9, 2, 3, 2, 2, 9, 4, 3, 9, 1, 3, 8, 1, 4,\n",
            "        9, 8, 2, 6, 7, 2, 6, 2]), tensor([2, 3, 6, 3, 0, 5, 2, 3, 2, 2, 5, 0, 7, 4, 6, 4, 8, 3, 5, 1, 3, 9, 1, 2,\n",
            "        9, 3, 7, 4, 2, 0, 2, 5]), tensor([6, 3, 6, 6, 5, 1, 7, 9, 4, 6, 7, 3, 0, 2, 8, 1, 0, 9, 9, 7, 8, 4, 6, 9,\n",
            "        7, 7, 5, 8, 6, 7, 5, 3]), tensor([5, 5, 0, 8, 9, 7, 2, 1, 4, 7, 1, 3, 4, 3, 2, 2, 9, 4, 7, 7, 6, 5, 0, 8,\n",
            "        8, 6, 8, 5, 6, 0, 7, 3]), tensor([6, 6, 4, 5, 2, 0, 7, 7, 7, 1, 8, 2, 1, 8, 5, 4, 4, 8, 7, 7, 6, 7, 1, 6,\n",
            "        9, 5, 3, 9, 3, 5, 0, 7]), tensor([4, 6, 6, 1, 2, 5, 9, 3, 2, 8, 5, 7, 3, 1, 4, 6, 8, 1, 8, 5, 6, 9, 3, 3,\n",
            "        6, 6, 4, 2, 0, 6, 4, 2]), tensor([3, 6, 5, 9, 1, 1, 9, 4, 7, 0, 3, 1, 6, 0, 7, 7, 0, 7, 8, 0, 5, 6, 4, 3,\n",
            "        8, 9, 7, 2, 9, 5, 3, 9]), tensor([2, 6, 1, 9, 7, 8, 1, 3, 9, 3, 6, 7, 8, 6, 5, 6, 7, 9, 9, 7, 0, 4, 2, 3,\n",
            "        4, 0, 7, 5, 3, 9, 2, 8]), tensor([8, 0, 0, 4, 1, 9, 3, 3, 5, 1, 5, 5, 9, 2, 8, 5, 5, 9, 5, 6, 0, 7, 3, 8,\n",
            "        4, 2, 0, 9, 6, 8, 1, 9]), tensor([2, 6, 2, 4, 6, 8, 7, 7, 3, 9, 3, 9, 6, 8, 2, 6, 9, 0, 3, 2, 5, 5, 0, 4,\n",
            "        6, 4, 1, 3, 1, 2, 7, 8]), tensor([8, 9, 7, 6, 5, 9, 3, 6, 0, 4, 2, 3, 6, 8, 8, 8, 0, 2, 3, 2, 8, 2, 1, 4,\n",
            "        1, 1, 6, 3, 2, 2, 6, 0]), tensor([0, 4, 1, 3, 2, 5, 0, 2, 7, 9, 9, 2, 5, 2, 9, 9, 8, 4, 8, 3, 2, 0, 9, 6,\n",
            "        2, 4, 3, 8, 2, 3, 6, 5]), tensor([6, 2, 7, 3, 5, 8, 8, 2, 4, 8, 8, 0, 1, 5, 8, 9, 8, 7, 2, 0, 3, 0, 0, 0,\n",
            "        9, 3, 9, 9, 1, 5, 9, 4]), tensor([1, 7, 6, 1, 0, 5, 3, 8, 6, 4, 1, 7, 0, 5, 0, 4, 1, 7, 1, 7, 9, 6, 3, 9,\n",
            "        2, 2, 9, 3, 5, 0, 8, 4]), tensor([4, 7, 7, 4, 2, 0, 5, 5, 3, 6, 2, 5, 6, 8, 5, 6, 9, 1, 3, 1, 4, 5, 9, 3,\n",
            "        7, 0, 3, 5, 6, 1, 5, 8]), tensor([5, 6, 6, 9, 1, 9, 1, 7, 1, 8, 0, 3, 4, 0, 2, 0, 3, 3, 4, 8, 0, 3, 4, 8,\n",
            "        1, 1, 3, 3, 2, 2, 1, 8]), tensor([0, 2, 6, 6, 4, 2, 0, 9, 2, 3, 0, 4, 5, 7, 1, 6, 1, 8, 0, 0, 8, 5, 1, 6,\n",
            "        5, 2, 8, 1, 7, 1, 6, 4]), tensor([7, 4, 6, 1, 5, 3, 3, 5, 8, 7, 7, 7, 2, 7, 5, 6, 2, 2, 0, 6, 6, 9, 9, 3,\n",
            "        8, 0, 4, 4, 1, 3, 7, 3]), tensor([6, 0, 9, 8, 5, 3, 6, 7, 1, 9, 7, 8, 4, 6, 9, 9, 1, 2, 2, 2, 2, 4, 5, 1,\n",
            "        6, 4, 8, 3, 4, 8, 3, 4]), tensor([0, 0, 3, 6, 7, 4, 4, 1, 7, 3, 6, 7, 9, 9, 1, 8, 8, 9, 1, 4, 6, 1, 2, 8,\n",
            "        2, 5, 9, 8, 0, 6, 2, 7]), tensor([2, 9, 5, 6, 8, 7, 8, 1, 4, 9, 2, 5, 5, 9, 9, 4, 4, 2, 1, 6, 3, 8, 7, 6,\n",
            "        1, 7, 5, 2, 7, 0, 3, 4]), tensor([4, 8, 4, 0, 2, 7, 3, 7, 3, 6, 3, 8, 3, 3, 2, 3, 2, 3, 5, 8, 0, 7, 0, 8,\n",
            "        9, 0, 2, 1, 4, 5, 1, 3]), tensor([4, 7, 6, 4, 9, 9, 1, 4, 3, 1, 0, 8, 0, 3, 0, 6, 2, 0, 2, 3, 6, 7, 2, 3,\n",
            "        4, 0, 8, 5, 4, 0, 1, 0]), tensor([2, 2, 6, 7, 9, 6, 2, 3, 3, 6, 8, 5, 4, 4, 0, 3, 3, 5, 2, 5, 1, 5, 5, 1,\n",
            "        7, 5, 2, 3, 8, 8, 0, 9]), tensor([0, 0, 0, 3, 2, 1, 8, 3, 4, 2, 1, 2, 0, 3, 0, 8, 5, 1, 5, 0, 2, 6, 3, 9,\n",
            "        8, 2, 8, 1, 0, 2, 2, 2]), tensor([3, 3, 7, 5, 0, 6, 2, 0, 8, 2, 4, 1, 8, 4, 8, 2, 9, 2, 4, 8, 5, 6, 7, 3,\n",
            "        2, 2, 6, 6, 6, 8, 5, 4]), tensor([1, 5, 2, 8, 2, 9, 3, 6, 3, 6, 4, 2, 7, 7, 9, 3, 4, 9, 8, 3, 5, 8, 7, 7,\n",
            "        0, 7, 7, 0, 7, 7, 2, 9]), tensor([5, 4, 2, 2, 4, 8, 0, 1, 9, 8, 0, 2, 4, 2, 3, 8, 0, 7, 6, 4, 3, 8, 1, 3,\n",
            "        8, 7, 3, 0, 3, 4, 8, 8]), tensor([9, 1, 3, 2, 1, 4, 8, 3, 4, 6, 7, 3, 9, 2, 9, 0, 4, 6, 5, 7, 0, 8, 1, 7,\n",
            "        5, 4, 9, 5, 7, 3, 2, 0]), tensor([9, 8, 7, 3, 7, 7, 4, 7, 5, 8, 8, 2, 4, 6, 2, 3, 8, 9, 7, 1, 3, 4, 2, 9,\n",
            "        7, 1, 4, 2, 6, 0, 5, 5]), tensor([4, 5, 2, 8, 9, 2, 9, 9, 0, 4, 0, 1, 5, 5, 0, 6, 8, 1, 5, 7, 7, 7, 9, 8,\n",
            "        0, 1, 3, 4, 6, 6, 9, 3]), tensor([4, 4, 4, 8, 2, 5, 4, 9, 0, 2, 8, 4, 8, 6, 3, 6, 1, 4, 3, 3, 8, 2, 9, 9,\n",
            "        0, 7, 9, 5, 3, 1, 7, 2]), tensor([8, 4, 7, 2, 1, 6, 0, 7, 8, 1, 9, 3, 2, 8, 1, 8, 4, 2, 5, 6, 7, 6, 1, 2,\n",
            "        6, 7, 9, 0, 1, 3, 7, 5]), tensor([3, 2, 1, 1, 3, 8, 3, 9, 5, 4, 6, 3, 7, 7, 7, 2, 3, 9, 3, 9, 2, 6, 0, 7,\n",
            "        6, 6, 7, 9, 6, 3, 2, 9]), tensor([6, 4, 6, 2, 7, 9, 6, 1, 3, 2, 0, 8, 8, 7, 3, 6, 7, 5, 7, 6, 1, 8, 1, 4,\n",
            "        9, 8, 9, 3, 1, 0, 3, 3]), tensor([3, 0, 6, 6, 1, 5, 7, 1, 2, 2, 5, 3, 4, 1, 7, 6, 7, 0, 2, 8, 8, 1, 4, 9,\n",
            "        7, 6, 0, 4, 9, 3, 9, 8]), tensor([5, 3, 8, 4, 7, 1, 4, 1, 9, 4, 8, 3, 2, 4, 8, 1, 1, 5, 8, 6, 1, 6, 2, 9,\n",
            "        0, 9, 5, 3, 5, 0, 6, 5]), tensor([6, 8, 3, 8, 0, 2, 9, 9, 1, 5, 3, 2, 6, 5, 3, 6, 3, 6, 7, 4, 0, 4, 1, 9,\n",
            "        5, 1, 7, 5, 5, 5, 9, 4]), tensor([8, 2, 6, 6, 4, 6, 2, 1, 1, 4, 2, 8, 4, 9, 0, 5, 8, 1, 3, 8, 3, 2, 3, 8,\n",
            "        3, 6, 9, 3, 2, 9, 7, 2]), tensor([2, 2, 6, 8, 9, 6, 6, 4, 7, 7, 9, 9, 3, 6, 9, 6, 7, 3, 0, 2, 0, 9, 4, 3,\n",
            "        3, 1, 9, 5, 8, 2, 3, 5]), tensor([0, 6, 4, 5, 2, 3, 5, 2, 7, 7, 6, 0, 9, 5, 1, 4, 4, 5, 3, 0, 6, 1, 4, 0,\n",
            "        5, 4, 8, 5, 7, 2, 0, 8]), tensor([3, 5, 2, 6, 9, 8, 9, 9, 2, 1, 7, 5, 0, 1, 5, 3, 3, 3, 3, 4, 6, 3, 6, 7,\n",
            "        8, 0, 9, 3, 3, 0, 4, 2]), tensor([9, 3, 5, 7, 3, 9, 8, 6, 6, 6, 2, 3, 1, 0, 7, 5, 6, 6, 4, 1, 1, 4, 7, 2,\n",
            "        3, 5, 5, 6, 4, 4, 3, 8]), tensor([9, 9, 2, 6, 9, 6, 3, 5, 3, 1, 4, 5, 0, 1, 8, 5, 8, 4, 6, 7, 8, 9, 2, 4,\n",
            "        6, 3, 2, 6, 4, 7, 9, 1]), tensor([9, 7, 4, 5, 6, 3, 2, 4, 5, 6, 1, 5, 8, 6, 4, 2, 9, 4, 7, 8, 3, 0, 2, 7,\n",
            "        7, 5, 9, 5, 7, 3, 8, 7]), tensor([5, 9, 7, 8, 2, 1, 3, 8, 6, 2, 6, 7, 9, 2, 4, 5, 2, 3, 4, 1, 1, 7, 0, 5,\n",
            "        5, 4, 7, 8, 9, 3, 7, 4]), tensor([6, 6, 5, 7, 8, 4, 8, 8, 7, 4, 9, 4, 9, 6, 9, 7, 3, 9, 7, 3, 2, 4, 2, 8,\n",
            "        7, 9, 2, 0, 2, 4, 1, 0]), tensor([3, 8, 6, 8, 4, 4, 6, 3, 5, 7, 7, 8, 5, 6, 3, 2, 1, 8, 3, 2, 5, 4, 2, 3,\n",
            "        0, 8, 3, 3, 4, 9, 0, 9]), tensor([7, 0, 1, 6, 3, 6, 3, 8, 6, 8, 5, 1, 3, 4, 1, 9, 3, 7, 0, 4, 2, 6, 1, 5,\n",
            "        3, 4, 8, 5, 7, 8, 6, 4]), tensor([1, 6, 6, 2, 5, 9, 6, 7, 2, 3, 6, 4, 6, 3, 3, 9, 4, 9, 0, 8, 6, 5, 6, 2,\n",
            "        0, 1, 3, 9, 4, 2, 5, 6]), tensor([5, 3, 2, 5, 2, 0, 6, 0, 6, 9, 1, 3, 3, 2, 5, 8, 6, 6, 1, 4, 9, 7, 2, 4,\n",
            "        7, 5, 7, 1, 4, 8, 7, 9]), tensor([8, 7, 0, 2, 9, 2, 5, 6, 7, 8, 4, 5, 2, 7, 4, 1, 4, 5, 9, 6, 5, 7, 7, 3,\n",
            "        8, 1, 9, 4, 5, 3, 6, 7]), tensor([6, 9, 5, 1, 3, 6, 9, 1, 4, 2, 5, 3, 4, 9, 9, 1, 2, 2, 2, 4, 6, 8, 7, 9,\n",
            "        9, 4, 8, 8, 9, 0, 7, 6]), tensor([4, 2, 8, 8, 4, 2, 0, 1, 2, 0, 2, 1, 5, 4, 6, 0, 0, 3, 4, 5, 6, 3, 7, 6,\n",
            "        0, 3, 1, 8, 4, 8, 9, 9]), tensor([5, 5, 8, 2, 5, 4, 4, 2, 5, 6, 9, 2, 7, 1, 0, 2, 4, 6, 7, 8, 6, 2, 9, 1,\n",
            "        9, 2, 7, 3, 5, 2, 3, 4]), tensor([2, 1, 6, 2, 4, 3, 7, 8, 4, 9, 5, 9, 0, 6, 3, 4, 5, 5, 5, 7, 6, 1, 3, 3,\n",
            "        7, 0, 9, 7, 6, 8, 3, 5]), tensor([5, 8, 1, 9, 4, 2, 2, 2, 1, 6, 3, 3, 2, 5, 0, 8, 1, 3, 7, 8, 2, 5, 9, 0,\n",
            "        8, 3, 4, 4, 2, 7, 0, 7]), tensor([3, 3, 2, 3, 7, 1, 2, 2, 3, 3, 0, 6, 6, 4, 8, 5, 0, 3, 3, 4, 7, 3, 3, 6,\n",
            "        0, 2, 4, 4, 1, 8, 1, 9]), tensor([3, 2, 6, 4, 2, 3, 3, 3, 5, 3, 5, 8, 3, 9, 7, 3, 0, 6, 1, 6, 1, 0, 7, 7,\n",
            "        2, 8, 9, 6, 1, 5, 6, 9]), tensor([4, 7, 9, 9, 9, 0, 1, 0, 9, 9, 5, 1, 7, 2, 9, 3, 2, 6, 8, 1, 7, 4, 3, 8,\n",
            "        4, 7, 8, 8, 9, 6, 8, 4]), tensor([5, 6, 4, 5, 9, 6, 0, 5, 3, 1, 7, 4, 6, 7, 1, 5, 8, 3, 7, 2, 7, 1, 8, 8,\n",
            "        8, 7, 8, 6, 0, 5, 7, 9]), tensor([8, 5, 6, 0, 6, 2, 3, 2, 3, 9, 9, 1, 9, 5, 8, 4, 4, 2, 4, 2, 7, 2, 8, 3,\n",
            "        0, 7, 8, 8, 3, 9, 9, 5]), tensor([9, 2, 6, 9, 7, 0, 7, 4, 7, 9, 2, 3, 9, 5, 3, 5, 3, 1, 2, 9, 1, 2, 8, 5,\n",
            "        1, 7, 9, 0, 3, 3, 6, 9]), tensor([3, 4, 3, 0, 0, 6, 9, 7, 3, 9, 6, 5, 3, 8, 5, 9, 5, 6, 4, 6, 5, 2, 2, 5,\n",
            "        4, 2, 7, 1, 6, 6, 3, 6]), tensor([5, 6, 4, 6, 7, 8, 5, 1, 5, 2, 3, 4, 2, 4, 1, 8, 0, 7, 2, 7, 3, 2, 9, 8,\n",
            "        4, 6, 6, 1, 7, 1, 4, 7]), tensor([6, 1, 7, 3, 0, 3, 8, 6, 8, 0, 4, 1, 7, 9, 6, 2, 9, 2, 6, 7, 1, 9, 5, 2,\n",
            "        9, 8, 6, 4, 0, 3, 3, 2]), tensor([2, 8, 3, 6, 8, 1, 8, 1, 0, 1, 6, 7, 3, 7, 7, 3, 3, 9, 9, 6, 2, 2, 5, 8,\n",
            "        9, 6, 3, 5, 4, 1, 6, 9]), tensor([4, 3, 2, 6, 1, 8, 9, 3, 4, 0, 2, 1, 9, 0, 5, 3, 9, 3, 6, 2, 1, 4, 0, 7,\n",
            "        3, 6, 4, 3, 4, 4, 5, 2]), tensor([9, 6, 8, 0, 4, 6, 0, 1, 7, 8, 2, 3, 3, 2, 0, 3, 8, 2, 6, 2, 5, 1, 4, 2,\n",
            "        2, 1, 9, 3, 4, 6, 9, 8]), tensor([8, 0, 6, 3, 6, 6, 8, 1, 2, 3, 3, 1, 9, 5, 3, 2, 6, 7, 1, 9, 2, 9, 0, 3,\n",
            "        2, 4, 8, 6, 9, 4, 7, 0]), tensor([3, 2, 3, 8, 3, 4, 1, 2, 6, 0, 6, 7, 7, 8, 3, 2, 9, 5, 4, 6, 9, 5, 2, 3,\n",
            "        8, 5, 3, 8, 3, 7, 9, 0]), tensor([2, 5, 1, 0, 5, 6, 3, 9, 7, 9, 6, 0, 7, 1, 2, 0, 8, 6, 2, 2, 7, 8, 3, 6,\n",
            "        4, 6, 9, 7, 3, 2, 5, 4]), tensor([5, 1, 9, 5, 0, 5, 6, 4, 1, 7, 9, 3, 3, 3, 4, 9, 1, 3, 3, 9, 5, 6, 8, 2,\n",
            "        4, 1, 4, 0, 6, 7, 9, 0]), tensor([6, 3, 2, 3, 0, 9, 8, 1, 3, 7, 3, 9, 9, 5, 4, 2, 3, 2, 8, 8, 5, 5, 1, 8,\n",
            "        8, 5, 7, 9, 9, 0, 4, 4]), tensor([2, 8, 9, 4, 6, 7, 5, 4, 7, 6, 1, 4, 2, 2, 0, 9, 6, 3, 5, 1, 1, 7, 8, 3,\n",
            "        2, 6, 2, 0, 6, 4, 9, 5]), tensor([2, 4, 4, 4, 6, 1, 5, 2, 7, 8, 6, 7, 7, 0, 8, 4, 3, 6, 9, 1, 2, 1, 7, 4,\n",
            "        3, 4, 9, 9, 2, 6, 4, 3]), tensor([3, 3, 7, 5, 2, 7, 8, 9, 9, 2, 7, 8, 7, 7, 5, 8, 7, 4, 6, 9, 0, 1, 8, 7,\n",
            "        5, 4, 5, 3, 7, 4, 6, 5]), tensor([5, 6, 7, 9, 0, 9, 5, 9, 4, 0, 1, 7, 8, 3, 0, 1, 0, 6, 5, 0, 2, 3, 7, 1,\n",
            "        1, 1, 0, 7, 7, 4, 0, 4]), tensor([7, 0, 0, 5, 3, 4, 8, 1, 5, 2, 7, 3, 2, 3, 4, 7, 8, 0, 9, 6, 9, 5, 8, 6,\n",
            "        7, 3, 5, 0, 9, 7, 1, 0]), tensor([6, 5, 7, 8, 4, 3, 1, 9, 0, 2, 9, 1, 3, 4, 6, 3, 3, 6, 2, 4, 8, 6, 2, 9,\n",
            "        5, 0, 1, 8, 2, 2, 3, 4]), tensor([2, 9, 4, 3, 7, 9, 6, 3, 5, 4, 5, 9, 8, 5, 3, 0, 1, 2, 2, 4, 1, 9, 6, 4,\n",
            "        0, 5, 5, 4, 6, 2, 6, 1]), tensor([4, 9, 9, 7, 0, 1, 2, 6, 0, 2, 6, 2, 5, 9, 4, 8, 4, 6, 1, 5, 6, 4, 1, 8,\n",
            "        9, 3, 1, 7, 1, 1, 1, 9]), tensor([1, 3, 8, 9, 9, 1, 9, 6, 0, 5, 8, 5, 5, 5, 3, 8, 9, 4, 7, 8, 4, 5, 2, 6,\n",
            "        1, 5, 0, 7, 3, 4, 6, 7]), tensor([3, 1, 8, 2, 8, 9, 2, 0, 7, 2, 0, 0, 5, 1, 6, 8, 2, 3, 9, 6, 3, 9, 7, 6,\n",
            "        1, 3, 9, 2, 4, 0, 3, 7]), tensor([8, 1, 1, 9, 5, 3, 5, 4, 6, 6, 1, 5, 2, 3, 6, 2, 5, 9, 9, 4, 3, 4, 3, 7,\n",
            "        9, 0, 8, 7, 3, 3, 8, 4]), tensor([1, 8, 2, 7, 4, 6, 8, 9, 2, 9, 3, 2, 6, 1, 1, 0, 4, 1, 6, 7, 8, 5, 9, 1,\n",
            "        5, 0, 9, 4, 2, 1, 7, 6]), tensor([9, 8, 8, 9, 5, 5, 3, 8, 2, 0, 3, 6, 1, 1, 9, 6, 9, 7, 5, 3, 2, 9, 5, 5,\n",
            "        4, 2, 9, 9, 3, 0, 6, 4]), tensor([1, 7, 4, 7, 2, 8, 5, 8, 6, 0, 1, 3, 2, 2, 3, 6, 6, 0, 2, 8, 3, 2, 8, 0,\n",
            "        1, 8, 4, 5, 4, 2, 3, 9]), tensor([0, 4, 3, 4, 5, 4, 2, 7, 3, 7, 3, 3, 6, 9, 6, 8, 5, 6, 0, 3, 6, 7, 2, 5,\n",
            "        3, 1, 1, 9, 9, 5, 4, 2]), tensor([1, 6, 4, 8, 9, 2, 5, 8, 8, 3, 0, 9, 6, 8, 6, 3, 2, 4, 7, 6, 3, 6, 6, 2,\n",
            "        8, 4, 1, 3, 7, 2, 4, 2]), tensor([2, 3, 2, 4, 0, 8, 4, 5, 1, 4, 3, 8, 2, 1, 4, 1, 1, 9, 6, 5, 9, 6, 8, 0,\n",
            "        3, 4, 3, 8, 4, 7, 5, 4]), tensor([1, 1, 2, 6, 7, 8, 0, 1, 0, 5, 2, 8, 9, 7, 9, 1, 1, 3, 3, 8, 6, 7, 2, 9,\n",
            "        4, 9, 3, 6, 6, 2, 8, 7]), tensor([2, 5, 9, 8, 3, 8, 1, 3, 3, 4, 5, 2, 5, 4, 4, 9, 2, 7, 1, 4, 8, 3, 7, 7,\n",
            "        6, 7, 9, 4, 7, 7, 0, 1]), tensor([2, 1, 2, 8, 2, 2, 7, 6, 7, 1, 8, 7, 5, 1, 3, 1, 0, 3, 6, 5, 3, 8, 6, 3,\n",
            "        4, 9, 6, 1, 5, 3, 0, 7]), tensor([0, 6, 4, 5, 1, 6, 6, 2, 8, 3, 9, 8, 6, 7, 2, 4, 2, 5, 1, 9, 3, 3, 8, 7,\n",
            "        1, 8, 1, 2, 0, 9, 2, 4]), tensor([3, 4, 6, 1, 3, 5, 2, 9, 7, 5, 3, 9, 5, 5, 6, 4, 8, 0, 7, 6, 8, 6, 2, 1,\n",
            "        9, 7, 7, 3, 8, 0, 3, 0]), tensor([9, 8, 5, 6, 4, 8, 1, 5, 5, 9, 0, 1, 6, 1, 3, 4, 4, 2, 2, 1, 7, 6, 2, 2,\n",
            "        6, 1, 8, 2, 4, 6, 3, 0]), tensor([8, 8, 4, 6, 2, 0, 5, 0, 8, 9, 1, 4, 6, 7, 6, 8, 1, 8, 2, 6, 6, 7, 5, 7,\n",
            "        9, 9, 3, 9, 4, 4, 2, 6]), tensor([1, 4, 8, 4, 4, 5, 2, 2, 2, 9, 1, 8, 0, 6, 2, 2, 0, 6, 6, 6, 1, 3, 6, 3,\n",
            "        4, 1, 5, 5, 1, 0, 7, 6]), tensor([5, 0, 3, 2, 8, 9, 8, 7, 8, 4, 5, 9, 5, 5, 1, 2, 4, 7, 2, 9, 7, 8, 3, 7,\n",
            "        4, 6, 3, 8, 8, 4, 5, 1]), tensor([8, 2, 4, 2, 2, 7, 8, 9, 0, 2, 7, 9, 1, 5, 7, 8, 4, 3, 9, 5, 7, 1, 0, 8,\n",
            "        6, 1, 6, 1, 5, 8, 6, 0]), tensor([1, 8, 2, 9, 0, 0, 5, 6, 6, 2, 7, 4, 8, 8, 2, 6, 3, 6, 7, 1, 4, 7, 4, 3,\n",
            "        7, 1, 6, 5, 2, 3, 7, 9]), tensor([6, 2, 8, 2, 1, 1, 8, 8, 3, 5, 7, 5, 6, 9, 4, 3, 9, 3, 8, 9, 6, 6, 2, 4,\n",
            "        5, 7, 0, 2, 3, 9, 5, 7]), tensor([2, 6, 5, 8, 3, 1, 3, 7, 4, 9, 6, 3, 9, 7, 2, 0, 8, 6, 9, 1, 9, 9, 6, 7,\n",
            "        1, 4, 5, 0, 3, 8, 7, 2]), tensor([8, 5, 9, 4, 2, 0, 6, 9, 4, 5, 0, 4, 3, 7, 9, 1, 8, 9, 4, 0, 9, 7, 4, 8,\n",
            "        2, 1, 2, 7, 5, 4, 0, 8]), tensor([4, 4, 7, 2, 4, 6, 8, 5, 7, 9, 5, 7, 2, 2, 3, 9, 3, 4, 1, 5, 6, 9, 7, 4,\n",
            "        2, 2, 5, 8, 0, 7, 7, 2]), tensor([2, 6, 4, 8, 4, 0, 6, 9, 8, 9, 2, 5, 0, 6, 0, 2, 6, 3, 1, 8, 7, 4, 3, 9,\n",
            "        1, 2, 6, 5, 2, 3, 2, 0]), tensor([2, 6, 0, 7, 2, 1, 8, 2, 8, 7, 9, 4, 1, 3, 5, 7, 7, 3, 2, 5, 9, 4, 6, 5,\n",
            "        3, 2, 2, 9, 6, 7, 3, 9]), tensor([1, 2, 1, 9, 7, 2, 3, 4, 8, 1, 8, 3, 5, 0, 5, 3, 8, 2, 7, 4, 9, 0, 6, 8,\n",
            "        4, 2, 4, 4, 4, 3, 7, 8]), tensor([7, 1, 3, 7, 8, 9, 5, 5, 2, 2, 4, 5, 0, 8, 6, 3, 4, 0, 8, 8, 9, 6, 9, 1,\n",
            "        5, 1, 2, 1, 3, 2, 2, 2]), tensor([4, 5, 7, 5, 9, 2, 0, 5, 7, 0, 5, 6, 5, 3, 3, 4, 3, 7, 1, 5, 2, 9, 8, 1,\n",
            "        7, 3, 2, 6, 3, 7, 1, 8]), tensor([5, 7, 8, 3, 8, 3, 8, 3, 7, 7, 7, 6, 5, 2, 6, 1, 2, 3, 4, 1, 0, 3, 9, 1,\n",
            "        8, 2, 3, 7, 4, 9, 5, 8]), tensor([4, 3, 9, 5, 6, 8, 2, 7, 3, 9, 3, 0, 8, 8, 0, 9, 6, 6, 4, 5, 7, 1, 4, 8,\n",
            "        2, 0, 2, 3, 1, 1, 1, 7]), tensor([6, 2, 6, 5, 9, 8, 5, 5, 3, 4, 7, 9, 2, 0, 1, 1, 1, 4, 8, 6, 8, 0, 5, 5,\n",
            "        6, 7, 6, 8, 2, 3, 6, 2]), tensor([6, 2, 5, 7, 4, 9, 7, 2, 2, 2, 0, 7, 4, 5, 2, 3, 3, 1, 9, 8, 1, 8, 6, 6,\n",
            "        3, 9, 1, 9, 7, 6, 9, 6]), tensor([9, 3, 0, 2, 8, 3, 4, 6, 6, 9, 2, 1, 1, 0, 5, 6, 7, 0, 4, 1, 1, 7, 0, 0,\n",
            "        1, 9, 8, 7, 3, 5, 4, 8]), tensor([2, 6, 4, 0, 4, 6, 2, 3, 5, 9, 5, 8, 9, 3, 1, 7, 8, 9, 4, 1, 1, 7, 0, 7,\n",
            "        0, 6, 7, 6, 0, 2, 9, 2]), tensor([8, 5, 5, 9, 3, 3, 2, 7, 1, 2, 3, 3, 5, 6, 6, 4, 1, 1, 9, 1, 4, 0, 6, 2,\n",
            "        2, 6, 6, 0, 6, 5, 0, 3]), tensor([0, 5, 1, 1, 8, 2, 5, 3, 5, 1, 6, 6, 3, 1, 2, 9, 9, 6, 3, 8, 5, 6, 6, 9,\n",
            "        1, 5, 7, 7, 6, 2, 2, 7]), tensor([5, 6, 1, 5, 7, 7, 8, 2, 8, 3, 9, 6, 6, 2, 9, 9, 0, 2, 7, 3, 1, 0, 8, 2,\n",
            "        4, 4, 4, 7, 1, 8, 2, 0]), tensor([3, 4, 4, 6, 9, 8, 0, 6, 8, 3, 9, 2, 1, 5, 4, 5, 6, 8, 4, 2, 5, 9, 3, 6,\n",
            "        4, 7, 8, 5, 9, 5, 0, 0]), tensor([6, 8, 7, 2, 9, 2, 2, 6, 4, 6, 1, 6, 3, 9, 4, 0, 3, 8, 2, 6, 8, 4, 7, 2,\n",
            "        5, 6, 3, 6, 8, 7, 6, 2]), tensor([1, 1, 8, 7, 3, 2, 0, 5, 4, 3, 8, 8, 8, 9, 3, 6, 9, 4, 3, 3, 6, 4, 2, 8,\n",
            "        8, 5, 9, 6, 7, 1, 9, 0]), tensor([3, 3, 6, 2, 3, 9, 9, 5, 3, 0, 2, 2, 4, 6, 4, 5, 3, 6, 9, 8, 5, 8, 0, 4,\n",
            "        1, 4, 8, 7, 2, 6, 2, 3]), tensor([5, 6, 3, 5, 2, 5, 3, 7, 1, 2, 9, 8, 7, 6, 8, 8, 5, 5, 8, 4, 4, 0, 8, 3,\n",
            "        6, 4, 9, 6, 1, 0, 5, 1]), tensor([2, 0, 9, 2, 6, 3, 6, 7, 4, 4, 4, 3, 8, 5, 1, 8, 3, 4, 4, 5, 6, 0, 5, 8,\n",
            "        7, 4, 2, 2, 2, 9, 3, 5]), tensor([0, 9, 9, 0, 1, 3, 7, 1, 9, 4, 5, 2, 6, 9, 5, 7, 7, 4, 2, 8, 3, 4, 7, 8,\n",
            "        4, 6, 8, 0, 5, 5, 7, 1]), tensor([7, 6, 2, 1, 5, 1, 9, 0, 1, 2, 3, 2, 7, 3, 9, 3, 5, 4, 0, 6, 9, 7, 4, 2,\n",
            "        3, 8, 7, 8, 3, 0, 4, 1]), tensor([2, 9, 5, 8, 9, 0, 3, 2, 0, 5, 9, 3, 1, 0, 8, 4, 1, 4, 6, 9, 9, 8, 9, 7,\n",
            "        2, 0, 1, 9, 9, 3, 9, 3]), tensor([2, 3, 7, 3, 1, 4, 6, 8, 3, 4, 3, 3, 8, 3, 7, 1, 6, 3, 8, 4, 7, 9, 8, 6,\n",
            "        3, 0, 4, 5, 7, 6, 7, 2]), tensor([5, 0, 2, 3, 3, 3, 0, 0, 4, 2, 4, 3, 6, 9, 9, 6, 7, 4, 3, 2, 2, 1, 9, 5,\n",
            "        9, 9, 0, 5, 8, 2, 7, 3]), tensor([9, 5, 2, 8, 9, 5, 8, 0, 0, 3, 0, 6, 3, 7, 8, 0, 1, 2, 2, 6, 1, 1, 2, 2,\n",
            "        2, 5, 4, 3, 9, 3, 4, 2]), tensor([3, 7, 2, 9, 2, 1, 6, 7, 5, 5, 9, 4, 6, 9, 7, 9, 7, 4, 1, 8, 3, 3, 8, 0,\n",
            "        8, 7, 6, 7, 7, 9, 6, 4]), tensor([6, 3, 9, 2, 1, 5, 2, 0, 5, 8, 6, 7, 0, 1, 0, 5, 6, 2, 1, 4, 1, 8, 7, 9,\n",
            "        9, 7, 3, 2, 2, 2, 7, 2]), tensor([3, 9, 6, 3, 9, 5, 1, 0, 9, 2, 7, 4, 3, 5, 7, 2, 7, 6, 8, 7, 5, 4, 5, 9,\n",
            "        6, 3, 5, 0, 2, 7, 5, 3]), tensor([1, 9, 3, 7, 1, 6, 3, 4, 4, 2, 5, 9, 2, 1, 1, 9, 7, 9, 0, 1, 6, 8, 5, 2,\n",
            "        5, 3, 7, 8, 7, 7, 0, 8]), tensor([5, 6, 0, 3, 5, 2, 9, 7, 9, 7, 1, 0, 0, 8, 6, 4, 0, 3, 4, 5, 5, 6, 3, 3,\n",
            "        2, 4, 5, 6, 7, 1, 8, 7]), tensor([1, 2, 2, 0, 4, 7, 3, 7, 4, 6, 6, 3, 9, 4, 6, 0, 6, 8, 7, 3, 3, 0, 5, 6,\n",
            "        1, 5, 0, 9, 9, 1, 3, 0]), tensor([6, 1, 6, 6, 5, 5, 2, 2, 0, 9, 2, 6, 8, 2, 8, 3, 7, 7, 3, 3, 9, 5, 7, 3,\n",
            "        0, 9, 4, 5, 6, 7, 2, 9]), tensor([5, 5, 8, 8, 4, 9, 6, 6, 3, 6, 3, 0, 4, 7, 2, 4, 2, 2, 4, 1, 5, 7, 9, 7,\n",
            "        3, 9, 8, 8, 5, 1, 9, 6]), tensor([1, 0, 4, 8, 0, 5, 6, 9, 8, 8, 4, 4, 4, 1, 7, 5, 1, 2, 6, 5, 0, 3, 2, 8,\n",
            "        7, 8, 5, 9, 1, 1, 3, 5]), tensor([9, 9, 9, 1, 0, 6, 3, 4, 4, 4, 7, 1, 2, 0, 1, 5, 3, 4, 9, 2, 4, 2, 2, 6,\n",
            "        7, 9, 6, 7, 1, 4, 0, 8]), tensor([3, 3, 5, 6, 0, 8, 3, 3, 4, 0, 1, 8, 2, 3, 2, 9, 5, 4, 3, 5, 2, 1, 6, 4,\n",
            "        4, 5, 8, 6, 7, 3, 6, 6]), tensor([7, 4, 2, 3, 6, 6, 2, 6, 3, 4, 8, 1, 7, 8, 4, 8, 7, 8, 9, 9, 8, 2, 6, 9,\n",
            "        4, 0, 8, 8, 8, 0, 5, 6]), tensor([6, 6, 6, 2, 9, 9, 2, 3, 5, 2, 0, 1, 0, 8, 9, 5, 7, 3, 3, 2, 4, 1, 2, 8,\n",
            "        1, 8, 2, 6, 6, 9, 8, 5]), tensor([1, 2, 4, 0, 9, 2, 5, 5, 0, 7, 1, 6, 9, 8, 9, 9, 4, 9, 4, 3, 1, 2, 5, 0,\n",
            "        8, 0, 4, 2, 3, 0, 0, 0]), tensor([0, 3, 5, 9, 4, 7, 1, 5, 0, 1, 6, 1, 7, 9, 4, 0, 4, 5, 2, 9, 4, 9, 8, 8,\n",
            "        7, 6, 2, 3, 9, 3, 6, 7]), tensor([3, 2, 7, 0, 2, 1, 0, 5, 7, 3, 5, 9, 2, 3, 4, 8, 5, 8, 1, 9, 6, 7, 6, 7,\n",
            "        3, 6, 4, 5, 6, 8, 2, 6]), tensor([7, 4, 0, 5, 1, 5, 9, 6, 0, 9, 5, 8, 5, 7, 3, 9, 8, 3, 2, 6, 5, 7, 5, 1,\n",
            "        1, 5, 4, 1, 2, 5, 8, 2]), tensor([9, 6, 3, 3, 4, 6, 2, 4, 1, 1, 4, 7, 2, 5, 0, 2, 8, 8, 8, 8, 7, 7, 1, 2,\n",
            "        6, 4, 1, 4, 0, 2, 5, 8]), tensor([2, 4, 8, 3, 1, 8, 8, 4, 4, 0, 8, 4, 8, 0, 3, 2, 5, 8, 7, 5, 7, 0, 1, 1,\n",
            "        9, 7, 8, 6, 1, 9, 6, 3]), tensor([6, 9, 4, 0, 4, 9, 7, 2, 2, 2, 0, 5, 6, 6, 3, 7, 8, 6, 2, 6, 1, 1, 9, 9,\n",
            "        4, 5, 3, 6, 8, 5, 0, 6]), tensor([6, 1, 2, 3, 7, 6, 9, 0, 4, 8, 2, 3, 6, 9, 5, 5, 9, 4, 0, 4, 1, 1, 8, 9,\n",
            "        6, 4, 2, 3, 3, 0, 7, 1]), tensor([8, 8, 5, 3, 3, 7, 7, 1, 2, 1, 4, 1, 9, 0, 4, 1, 1, 6, 7, 3, 7, 3, 6, 0,\n",
            "        1, 8, 9, 2, 6, 6, 0, 9]), tensor([3, 6, 1, 4, 7, 8, 0, 2, 6, 8, 2, 5, 5, 3, 5, 9, 1, 8, 5, 3, 1, 2, 4, 3,\n",
            "        7, 3, 5, 4, 8, 0, 7, 1]), tensor([2, 3, 9, 8, 3, 8, 7, 7, 9, 7, 0, 9, 4, 0, 9, 6, 1, 9, 8, 6, 4, 7, 6, 9,\n",
            "        5, 4, 7, 1, 2, 1, 2, 6]), tensor([9, 6, 0, 5, 2, 0, 5, 6, 4, 6, 9, 9, 1, 2, 7, 7, 7, 4, 5, 1, 2, 0, 6, 3,\n",
            "        8, 9, 8, 4, 1, 0, 8, 3]), tensor([9, 8, 8, 7, 8, 3, 2, 0, 7, 4, 8, 6, 9, 9, 4, 7, 7, 2, 2, 1, 5, 3, 4, 3,\n",
            "        5, 5, 0, 8, 2, 7, 8, 9]), tensor([4, 2, 1, 7, 4, 6, 4, 9, 4, 3, 6, 0, 7, 7, 8, 0, 9, 1, 2, 6, 2, 9, 7, 1,\n",
            "        9, 7, 3, 3, 1, 4, 3, 5]), tensor([3, 3, 9, 4, 1, 4, 4, 6, 7, 5, 4, 6, 9, 9, 8, 1, 8, 1, 2, 2, 3, 5, 3, 1,\n",
            "        4, 6, 0, 1, 2, 0, 7, 6]), tensor([8, 8, 2, 8, 4, 5, 0, 6, 1, 7, 9, 7, 3, 9, 4, 6, 2, 8, 7, 1, 3, 8, 7, 6,\n",
            "        2, 4, 8, 2, 8, 0, 1, 5]), tensor([3, 8, 1, 7, 4, 9, 3, 7, 9, 3, 1, 8, 3, 0, 9, 3, 6, 2, 4, 2, 7, 6, 0, 9,\n",
            "        8, 8, 1, 5, 7, 7, 4, 9]), tensor([5, 4, 1, 0, 9, 8, 7, 3, 7, 3, 2, 5, 5, 1, 6, 9, 2, 6, 3, 2, 0, 4, 7, 2,\n",
            "        6, 6, 6, 1, 9, 3, 8, 3]), tensor([9, 7, 1, 7, 1, 3, 4, 6, 5, 6, 0, 6, 4, 1, 1, 2, 9, 6, 3, 2, 1, 3, 2, 7,\n",
            "        6, 1, 8, 5, 7, 3, 0, 5]), tensor([0, 4, 6, 2, 2, 5, 2, 1, 8, 2, 1, 5, 3, 8, 8, 9, 5, 0, 1, 2, 1, 4, 9, 6,\n",
            "        3, 1, 1, 4, 7, 8, 3, 6]), tensor([9, 3, 2, 8, 3, 8, 4, 9, 4, 7, 7, 6, 3, 6, 4, 5, 7, 3, 7, 6, 6, 6, 9, 3,\n",
            "        0, 5, 4, 1, 2, 1, 8, 1]), tensor([9, 4, 8, 9, 9, 3, 3, 7, 0, 6, 6, 1, 6, 4, 6, 4, 2, 2, 9, 3, 6, 3, 4, 0,\n",
            "        0, 1, 3, 6, 6, 5, 7, 9]), tensor([6, 6, 3, 7, 5, 1, 2, 7, 7, 5, 8, 0, 9, 1, 2, 1, 4, 9, 1, 6, 5, 2, 3, 6,\n",
            "        7, 1, 2, 7, 9, 3, 7, 4]), tensor([4, 6, 6, 7, 2, 7, 3, 1, 9, 8, 8, 7, 0, 1, 6, 0, 9, 7, 9, 9, 1, 2, 3, 4,\n",
            "        7, 4, 3, 3, 1, 7, 5, 7]), tensor([8, 5, 2, 0, 3, 1, 4, 7, 5, 3, 2, 5, 8, 4, 7, 4, 0, 8, 3, 0, 1, 7, 9, 2,\n",
            "        9, 1, 6, 6, 5, 1, 0, 6]), tensor([3, 8, 3, 1, 8, 2, 5, 9, 8, 8, 1, 0, 9, 6, 6, 6, 1, 1, 4, 7, 3, 0, 7, 9,\n",
            "        8, 9, 5, 2, 6, 4, 7, 2]), tensor([3, 8, 3, 8, 1, 1, 2, 4, 8, 1, 0, 8, 1, 8, 5, 3, 2, 5, 0, 2, 4, 9, 6, 2,\n",
            "        4, 5, 9, 6, 9, 9, 6, 7]), tensor([3, 4, 3, 3, 9, 6, 7, 7, 8, 1, 1, 6, 6, 5, 7, 9, 4, 7, 4, 7, 0, 6, 2, 9,\n",
            "        9, 7, 7, 5, 0, 1, 6, 3]), tensor([4, 6, 2, 0, 9, 8, 7, 8, 4, 2, 8, 9, 7, 1, 6, 7, 9, 9, 0, 1, 5, 1, 6, 3,\n",
            "        6, 7, 9, 8, 3, 3, 8, 5]), tensor([2, 4, 3, 6, 8, 0, 5, 2, 6, 9, 0, 1, 2, 5, 1, 8, 2, 1, 8, 1, 7, 1, 9, 1,\n",
            "        8, 3, 5, 4, 1, 0, 2, 4]), tensor([6, 6, 8, 2, 2, 5, 5, 0, 2, 6, 9, 8, 0, 1, 0, 6, 6, 8, 3, 4, 7, 7, 5, 9,\n",
            "        2, 5, 6, 4, 9, 9, 4, 8]), tensor([5, 6, 9, 3, 4, 0, 2, 8, 3, 1, 9, 2, 1, 6, 7, 3, 8, 5, 0, 4, 6, 4, 1, 1,\n",
            "        9, 8, 3, 9, 3, 2, 6, 0]), tensor([5, 2, 7, 6, 8, 3, 2, 4, 8, 4, 4, 5, 0, 3, 3, 1, 9, 2, 8, 7, 8, 2, 3, 6,\n",
            "        2, 5, 6, 9, 0, 7, 1, 1]), tensor([7, 9, 6, 1, 6, 7, 5, 4, 6, 3, 3, 2, 1, 0, 0, 9, 9, 8, 2, 9, 6, 2, 5, 4,\n",
            "        7, 2, 6, 5, 2, 6, 9, 3]), tensor([7, 0, 6, 3, 5, 3, 4, 3, 4, 6, 9, 8, 8, 3, 2, 0, 6, 3, 9, 4, 2, 8, 1, 7,\n",
            "        2, 4, 9, 3, 6, 2, 0, 6]), tensor([7, 3, 5, 0, 6, 3, 1, 3, 0, 9, 5, 4, 3, 9, 6, 2, 2, 9, 0, 7, 6, 5, 6, 8,\n",
            "        2, 1, 6, 2, 6, 5, 9, 3]), tensor([5, 0, 2, 0, 7, 4, 4, 8, 3, 3, 8, 2, 3, 8, 9, 4, 0, 6, 8, 4, 8, 2, 5, 7,\n",
            "        0, 3, 6, 8, 1, 5, 9, 2]), tensor([2, 8, 9, 4, 1, 0, 5, 5, 2, 2, 8, 2, 2, 6, 7, 2, 5, 3, 7, 4, 5, 8, 8, 3,\n",
            "        9, 8, 0, 6, 2, 0, 3, 6]), tensor([4, 9, 2, 5, 6, 5, 6, 3, 1, 7, 8, 6, 4, 7, 3, 3, 8, 0, 0, 9, 2, 8, 5, 4,\n",
            "        9, 6, 3, 2, 2, 0, 1, 1]), tensor([7, 3, 8, 2, 1, 9, 3, 8, 2, 8, 2, 3, 7, 3, 6, 4, 9, 2, 6, 2, 9, 8, 0, 5,\n",
            "        7, 2, 6, 5, 2, 1, 0, 7]), tensor([2, 4, 2, 7, 2, 6, 3, 3, 1, 5, 4, 0, 1, 7, 7, 5, 6, 5, 2, 7, 2, 6, 3, 5,\n",
            "        4, 8, 9, 0, 9, 7, 5, 7]), tensor([7, 9, 3, 3, 8, 4, 3, 9, 3, 1, 0, 2, 5, 2, 8, 7, 9, 7, 7, 7, 9, 2, 6, 0,\n",
            "        6, 7, 6, 1, 8, 0, 3, 8]), tensor([5, 0, 5, 6, 9, 1, 1, 2, 2, 8, 9, 7, 7, 5, 8, 6, 1, 4, 0, 1, 8, 4, 3, 4,\n",
            "        7, 9, 3, 7, 5, 5, 3, 9]), tensor([1, 2, 1, 2, 7, 4, 6, 9, 3, 4, 4, 1, 7, 8, 1, 6, 5, 9, 0, 0, 9, 5, 3, 8,\n",
            "        8, 2, 8, 5, 5, 0, 7, 0]), tensor([9, 6, 9, 2, 9, 4, 8, 5, 4, 0, 3, 4, 6, 4, 7, 3, 1, 7, 7, 8, 5, 7, 0, 6,\n",
            "        4, 2, 1, 3, 8, 3, 3, 2]), tensor([7, 5, 9, 1, 0, 4, 3, 7, 6, 6, 3, 1, 8, 4, 7, 2, 5, 9, 3, 1, 5, 1, 9, 2,\n",
            "        9, 6, 2, 6, 1, 8, 6, 9]), tensor([6, 4, 0, 3, 8, 4, 5, 1, 2, 4, 6, 4, 4, 8, 5, 7, 7, 7, 6, 5, 5, 7, 9, 9,\n",
            "        8, 2, 8, 2, 1, 3, 3, 2]), tensor([8, 9, 4, 0, 7, 3, 6, 8, 1, 2, 6, 1, 6, 5, 2, 9, 7, 2, 8, 7, 3, 7, 2, 3,\n",
            "        2, 1, 7, 4, 2, 8, 5, 0]), tensor([2, 3, 0, 1, 6, 6, 5, 0, 1, 5, 5, 4, 5, 1, 7, 8, 7, 3, 2, 7, 0, 9, 3, 1,\n",
            "        9, 0, 4, 6, 6, 5, 9, 9]), tensor([4, 2, 7, 1, 8, 1, 4, 2, 3, 7, 8, 4, 0, 4, 8, 1, 2, 9, 3, 5, 8, 0, 1, 9,\n",
            "        2, 7, 3, 7, 4, 4, 6, 6]), tensor([2, 1, 3, 3, 6, 7, 0, 5, 9, 8, 9, 3, 7, 9, 9, 6, 8, 3, 0, 1, 4, 4, 0, 2,\n",
            "        8, 1, 6, 1, 3, 3, 2, 7]), tensor([8, 7, 0, 4, 3, 4, 4, 5, 7, 9, 2, 5, 2, 4, 5, 6, 1, 7, 6, 7, 6, 6, 0, 3,\n",
            "        5, 1, 1, 2, 3, 6, 9, 8]), tensor([1, 0, 1, 6, 8, 5, 4, 0, 4, 0, 4, 9, 3, 7, 5, 4, 8, 6, 2, 8, 6, 4, 4, 0,\n",
            "        8, 7, 5, 2, 8, 7, 2, 9]), tensor([5, 9, 2, 1, 6, 4, 1, 9, 7, 1, 7, 3, 5, 8, 7, 2, 5, 1, 5, 2, 0, 6, 0, 3,\n",
            "        6, 4, 4, 8, 0, 3, 2, 2]), tensor([3, 5, 1, 6, 3, 6, 5, 1, 8, 3, 1, 6, 7, 8, 4, 2, 0, 3, 7, 8, 1, 3, 9, 0,\n",
            "        6, 8, 1, 4, 6, 8, 3, 0]), tensor([8, 5, 7, 2, 4, 7, 7, 6, 1, 8, 1, 7, 7, 0, 3, 1, 6, 5, 5, 3, 8, 9, 2, 0,\n",
            "        9, 5, 1, 7, 2, 1, 5, 2]), tensor([8, 3, 2, 0, 7, 1, 3, 4, 4, 5, 7, 0, 6, 7, 3, 3, 7, 8, 8, 2, 5, 6, 9, 7,\n",
            "        1, 2, 9, 3, 0, 5, 5, 0]), tensor([9, 1, 4, 2, 5, 2, 4, 1, 4, 6, 3, 3, 6, 3, 0, 8, 6, 7, 5, 5, 7, 0, 7, 9,\n",
            "        4, 3, 2, 9, 4, 7, 1, 8]), tensor([8, 8, 5, 8, 3, 8, 9, 3, 2, 0, 2, 1, 8, 4, 4, 2, 6, 9, 5, 3, 1, 5, 1, 3,\n",
            "        5, 6, 6, 2, 1, 7, 3, 0]), tensor([8, 2, 9, 3, 9, 6, 0, 4, 1, 2, 6, 2, 3, 1, 4, 9, 7, 3, 2, 6, 2, 9, 7, 8,\n",
            "        5, 6, 9, 6, 0, 3, 8, 1]), tensor([3, 2, 7, 5, 6, 4, 5, 6, 8, 9, 1, 9, 1, 8, 1, 8])]\n"
          ]
        },
        {
          "output_type": "execute_result",
          "data": {
            "text/plain": [
              "tensor([9, 2, 1, 1, 6, 1, 4, 6, 5, 7])"
            ]
          },
          "metadata": {},
          "execution_count": 111
        }
      ]
    },
    {
      "cell_type": "code",
      "source": [
        "try:\n",
        "    import torchmetrics, mlextend\n",
        "    print(\"torchmetrics and mlxtend already installed\")\n",
        "except:\n",
        "    !pip install -q torchmetrics -U mlxtend\n",
        "    import torchmetrics, mlxtend"
      ],
      "metadata": {
        "id": "JPLS1cMl2tEC"
      },
      "execution_count": null,
      "outputs": []
    },
    {
      "cell_type": "code",
      "source": [
        "from torchmetrics import ConfusionMatrix\n",
        "from mlxtend.plotting import plot_confusion_matrix\n",
        "\n",
        "confmat = ConfusionMatrix(task=\"multiclass\", num_classes=len(class_name))\n",
        "confmat_tensor = confmat(preds=y_pred_tensor, target=test_data.targets)\n",
        "\n",
        "fig, ax = plot_confusion_matrix(conf_mat = confmat_tensor.numpy(),\n",
        "                                class_names=class_name,\n",
        "                                figsize=(10,7))\n"
      ],
      "metadata": {
        "colab": {
          "base_uri": "https://localhost:8080/",
          "height": 667
        },
        "id": "4qDg5ukLOL-S",
        "outputId": "e63ff3e9-4af7-417f-8b79-64acfee2108f"
      },
      "execution_count": null,
      "outputs": [
        {
          "output_type": "display_data",
          "data": {
            "text/plain": [
              "<Figure size 1000x700 with 1 Axes>"
            ],
            "image/png": "[encoded data removed]"
          },
          "metadata": {}
        }
      ]
    },
    {
      "cell_type": "code",
      "source": [
        "from pathlib import Path\n",
        "\n",
        "MODEL_PATH = Path(\"models\")\n",
        "MODEL_PATH.mkdir(parents=True, exist_ok=True)\n",
        "\n",
        "MODEL_NAME = \"03_model_fashion_MNIST_CNN.pth\"\n",
        "MODEL_SAVE_PATH = MODEL_PATH / MODEL_NAME\n",
        "\n",
        "torch.save(obj=model_2.state_dict(), f=MODEL_SAVE_PATH)"
      ],
      "metadata": {
        "id": "kP5-j6PW3Lf_"
      },
      "execution_count": null,
      "outputs": []
    },
    {
      "cell_type": "code",
      "source": [
        "loaded_model_2 = FasihionMNISTModelV2(input_shape=1,\n",
        "                                      hidden_units=10,\n",
        "                                      output_shape=len(class_name))\n",
        "loaded_model_2.load_state_dict(torch.load(f=MODEL_SAVE_PATH))\n",
        "loaded_model_2"
      ],
      "metadata": {
        "colab": {
          "base_uri": "https://localhost:8080/"
        },
        "id": "DsySxLJjR5lw",
        "outputId": "ba9db611-afeb-4ae3-9dfb-1fc6b6cdf2ff"
      },
      "execution_count": null,
      "outputs": [
        {
          "output_type": "execute_result",
          "data": {
            "text/plain": [
              "FasihionMNISTModelV2(\n",
              "  (conv_block_1): Sequential(\n",
              "    (0): Conv2d(1, 10, kernel_size=(3, 3), stride=(1, 1), padding=(1, 1))\n",
              "    (1): ReLU()\n",
              "    (2): Conv2d(10, 10, kernel_size=(3, 3), stride=(1, 1), padding=(1, 1))\n",
              "    (3): ReLU()\n",
              "    (4): MaxPool2d(kernel_size=2, stride=2, padding=0, dilation=1, ceil_mode=False)\n",
              "  )\n",
              "  (conv_block_2): Sequential(\n",
              "    (0): Conv2d(10, 10, kernel_size=(3, 3), stride=(1, 1), padding=(1, 1))\n",
              "    (1): ReLU()\n",
              "    (2): Conv2d(10, 10, kernel_size=(3, 3), stride=(1, 1), padding=(1, 1))\n",
              "    (3): ReLU()\n",
              "    (4): MaxPool2d(kernel_size=2, stride=2, padding=0, dilation=1, ceil_mode=False)\n",
              "  )\n",
              "  (classifier): Sequential(\n",
              "    (0): Flatten(start_dim=1, end_dim=-1)\n",
              "    (1): Linear(in_features=490, out_features=10, bias=True)\n",
              "  )\n",
              ")"
            ]
          },
          "metadata": {},
          "execution_count": 120
        }
      ]
    },
    {
      "cell_type": "code",
      "source": [],
      "metadata": {
        "id": "1Eq3lvarSLYn"
      },
      "execution_count": null,
      "outputs": []
    },
    {
      "cell_type": "code",
      "source": [],
      "metadata": {
        "id": "oP1kCLQjSLV3"
      },
      "execution_count": null,
      "outputs": []
    },
    {
      "cell_type": "code",
      "source": [],
      "metadata": {
        "id": "0WwLvEkzSLTX"
      },
      "execution_count": null,
      "outputs": []
    },
    {
      "cell_type": "code",
      "source": [],
      "metadata": {
        "id": "B1OFo_cNSLQ3"
      },
      "execution_count": null,
      "outputs": []
    },
    {
      "cell_type": "code",
      "source": [],
      "metadata": {
        "id": "VOami4ZOSLN4"
      },
      "execution_count": null,
      "outputs": []
    }
  ]
}