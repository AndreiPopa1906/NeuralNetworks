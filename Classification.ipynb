{
  "nbformat": 4,
  "nbformat_minor": 0,
  "metadata": {
    "colab": {
      "provenance": [],
      "authorship_tag": "ABX9TyPuMgtmWOzYTku2xdFRMFTV",
      "include_colab_link": true
    },
    "kernelspec": {
      "name": "python3",
      "display_name": "Python 3"
    },
    "language_info": {
      "name": "python"
    }
  },
  "cells": [
    {
      "cell_type": "markdown",
      "metadata": {
        "id": "view-in-github",
        "colab_type": "text"
      },
      "source": [
        "<a href=\"https://colab.research.google.com/github/AndreiPopa1906/NeuralNetworks/blob/main/Classification.ipynb\" target=\"_parent\"><img src=\"https://colab.research.google.com/assets/colab-badge.svg\" alt=\"Open In Colab\"/></a>"
      ]
    },
    {
      "cell_type": "markdown",
      "source": [
        "# Neural Network Classification"
      ],
      "metadata": {
        "id": "ADl6gyddudXh"
      }
    },
    {
      "cell_type": "markdown",
      "source": [
        "## Data"
      ],
      "metadata": {
        "id": "QjJM6M1nureM"
      }
    },
    {
      "cell_type": "code",
      "execution_count": null,
      "metadata": {
        "id": "QkokBVlAuazq"
      },
      "outputs": [],
      "source": [
        "import sklearn"
      ]
    },
    {
      "cell_type": "code",
      "source": [
        "from sklearn.datasets import make_circles\n",
        "\n",
        "n_samples = 1000\n",
        "\n",
        "X, y = make_circles(n_samples=n_samples,\n",
        "                    noise=0.03,\n",
        "                    random_state=42)"
      ],
      "metadata": {
        "id": "sLLJCgjvuvrm"
      },
      "execution_count": null,
      "outputs": []
    },
    {
      "cell_type": "code",
      "source": [
        "len(X), len(y)"
      ],
      "metadata": {
        "colab": {
          "base_uri": "https://localhost:8080/"
        },
        "id": "diCnsi2vu7Q1",
        "outputId": "1d6e4c65-cd7a-4eff-9968-4408ac276998"
      },
      "execution_count": null,
      "outputs": [
        {
          "output_type": "execute_result",
          "data": {
            "text/plain": [
              "(1000, 1000)"
            ]
          },
          "metadata": {},
          "execution_count": 44
        }
      ]
    },
    {
      "cell_type": "code",
      "source": [
        "# <aka dataFrame using pandas\n",
        "\n",
        "import pandas as pd\n",
        "circles = pd.DataFrame({\"X1\": X[:, 0],\n",
        "                        \"X2\": X[:, 1],\n",
        "                        \"label\": y})\n",
        "\n",
        "circles.head(10)"
      ],
      "metadata": {
        "colab": {
          "base_uri": "https://localhost:8080/",
          "height": 362
        },
        "id": "QVHewdS-u-ld",
        "outputId": "e6880905-58ea-4a3d-bc82-9f457e98595a"
      },
      "execution_count": null,
      "outputs": [
        {
          "output_type": "execute_result",
          "data": {
            "text/plain": [
              "         X1        X2  label\n",
              "0  0.754246  0.231481      1\n",
              "1 -0.756159  0.153259      1\n",
              "2 -0.815392  0.173282      1\n",
              "3 -0.393731  0.692883      1\n",
              "4  0.442208 -0.896723      0\n",
              "5 -0.479646  0.676435      1\n",
              "6 -0.013648  0.803349      1\n",
              "7  0.771513  0.147760      1\n",
              "8 -0.169322 -0.793456      1\n",
              "9 -0.121486  1.021509      0"
            ],
            "text/html": [
              "\n",
              "  <div id=\"df-cbf8d4a2-6365-4f7d-a391-1df1072b8de6\" class=\"colab-df-container\">\n",
              "    <div>\n",
              "<style scoped>\n",
              "    .dataframe tbody tr th:only-of-type {\n",
              "        vertical-align: middle;\n",
              "    }\n",
              "\n",
              "    .dataframe tbody tr th {\n",
              "        vertical-align: top;\n",
              "    }\n",
              "\n",
              "    .dataframe thead th {\n",
              "        text-align: right;\n",
              "    }\n",
              "</style>\n",
              "<table border=\"1\" class=\"dataframe\">\n",
              "  <thead>\n",
              "    <tr style=\"text-align: right;\">\n",
              "      <th></th>\n",
              "      <th>X1</th>\n",
              "      <th>X2</th>\n",
              "      <th>label</th>\n",
              "    </tr>\n",
              "  </thead>\n",
              "  <tbody>\n",
              "    <tr>\n",
              "      <th>0</th>\n",
              "      <td>0.754246</td>\n",
              "      <td>0.231481</td>\n",
              "      <td>1</td>\n",
              "    </tr>\n",
              "    <tr>\n",
              "      <th>1</th>\n",
              "      <td>-0.756159</td>\n",
              "      <td>0.153259</td>\n",
              "      <td>1</td>\n",
              "    </tr>\n",
              "    <tr>\n",
              "      <th>2</th>\n",
              "      <td>-0.815392</td>\n",
              "      <td>0.173282</td>\n",
              "      <td>1</td>\n",
              "    </tr>\n",
              "    <tr>\n",
              "      <th>3</th>\n",
              "      <td>-0.393731</td>\n",
              "      <td>0.692883</td>\n",
              "      <td>1</td>\n",
              "    </tr>\n",
              "    <tr>\n",
              "      <th>4</th>\n",
              "      <td>0.442208</td>\n",
              "      <td>-0.896723</td>\n",
              "      <td>0</td>\n",
              "    </tr>\n",
              "    <tr>\n",
              "      <th>5</th>\n",
              "      <td>-0.479646</td>\n",
              "      <td>0.676435</td>\n",
              "      <td>1</td>\n",
              "    </tr>\n",
              "    <tr>\n",
              "      <th>6</th>\n",
              "      <td>-0.013648</td>\n",
              "      <td>0.803349</td>\n",
              "      <td>1</td>\n",
              "    </tr>\n",
              "    <tr>\n",
              "      <th>7</th>\n",
              "      <td>0.771513</td>\n",
              "      <td>0.147760</td>\n",
              "      <td>1</td>\n",
              "    </tr>\n",
              "    <tr>\n",
              "      <th>8</th>\n",
              "      <td>-0.169322</td>\n",
              "      <td>-0.793456</td>\n",
              "      <td>1</td>\n",
              "    </tr>\n",
              "    <tr>\n",
              "      <th>9</th>\n",
              "      <td>-0.121486</td>\n",
              "      <td>1.021509</td>\n",
              "      <td>0</td>\n",
              "    </tr>\n",
              "  </tbody>\n",
              "</table>\n",
              "</div>\n",
              "    <div class=\"colab-df-buttons\">\n",
              "\n",
              "  <div class=\"colab-df-container\">\n",
              "    <button class=\"colab-df-convert\" onclick=\"convertToInteractive('df-cbf8d4a2-6365-4f7d-a391-1df1072b8de6')\"\n",
              "            title=\"Convert this dataframe to an interactive table.\"\n",
              "            style=\"display:none;\">\n",
              "\n",
              "  <svg xmlns=\"http://www.w3.org/2000/svg\" height=\"24px\" viewBox=\"0 -960 960 960\">\n",
              "    <path d=\"M120-120v-720h720v720H120Zm60-500h600v-160H180v160Zm220 220h160v-160H400v160Zm0 220h160v-160H400v160ZM180-400h160v-160H180v160Zm440 0h160v-160H620v160ZM180-180h160v-160H180v160Zm440 0h160v-160H620v160Z\"/>\n",
              "  </svg>\n",
              "    </button>\n",
              "\n",
              "  <style>\n",
              "    .colab-df-container {\n",
              "      display:flex;\n",
              "      gap: 12px;\n",
              "    }\n",
              "\n",
              "    .colab-df-convert {\n",
              "      background-color: #E8F0FE;\n",
              "      border: none;\n",
              "      border-radius: 50%;\n",
              "      cursor: pointer;\n",
              "      display: none;\n",
              "      fill: #1967D2;\n",
              "      height: 32px;\n",
              "      padding: 0 0 0 0;\n",
              "      width: 32px;\n",
              "    }\n",
              "\n",
              "    .colab-df-convert:hover {\n",
              "      background-color: #E2EBFA;\n",
              "      box-shadow: 0px 1px 2px rgba(60, 64, 67, 0.3), 0px 1px 3px 1px rgba(60, 64, 67, 0.15);\n",
              "      fill: #174EA6;\n",
              "    }\n",
              "\n",
              "    .colab-df-buttons div {\n",
              "      margin-bottom: 4px;\n",
              "    }\n",
              "\n",
              "    [theme=dark] .colab-df-convert {\n",
              "      background-color: #3B4455;\n",
              "      fill: #D2E3FC;\n",
              "    }\n",
              "\n",
              "    [theme=dark] .colab-df-convert:hover {\n",
              "      background-color: #434B5C;\n",
              "      box-shadow: 0px 1px 3px 1px rgba(0, 0, 0, 0.15);\n",
              "      filter: drop-shadow(0px 1px 2px rgba(0, 0, 0, 0.3));\n",
              "      fill: #FFFFFF;\n",
              "    }\n",
              "  </style>\n",
              "\n",
              "    <script>\n",
              "      const buttonEl =\n",
              "        document.querySelector('#df-cbf8d4a2-6365-4f7d-a391-1df1072b8de6 button.colab-df-convert');\n",
              "      buttonEl.style.display =\n",
              "        google.colab.kernel.accessAllowed ? 'block' : 'none';\n",
              "\n",
              "      async function convertToInteractive(key) {\n",
              "        const element = document.querySelector('#df-cbf8d4a2-6365-4f7d-a391-1df1072b8de6');\n",
              "        const dataTable =\n",
              "          await google.colab.kernel.invokeFunction('convertToInteractive',\n",
              "                                                    [key], {});\n",
              "        if (!dataTable) return;\n",
              "\n",
              "        const docLinkHtml = 'Like what you see? Visit the ' +\n",
              "          '<a target=\"_blank\" href=https://colab.research.google.com/notebooks/data_table.ipynb>data table notebook</a>'\n",
              "          + ' to learn more about interactive tables.';\n",
              "        element.innerHTML = '';\n",
              "        dataTable['output_type'] = 'display_data';\n",
              "        await google.colab.output.renderOutput(dataTable, element);\n",
              "        const docLink = document.createElement('div');\n",
              "        docLink.innerHTML = docLinkHtml;\n",
              "        element.appendChild(docLink);\n",
              "      }\n",
              "    </script>\n",
              "  </div>\n",
              "\n",
              "\n",
              "<div id=\"df-8f12f81e-4d21-4613-b5b6-335c5d2b32fd\">\n",
              "  <button class=\"colab-df-quickchart\" onclick=\"quickchart('df-8f12f81e-4d21-4613-b5b6-335c5d2b32fd')\"\n",
              "            title=\"Suggest charts\"\n",
              "            style=\"display:none;\">\n",
              "\n",
              "<svg xmlns=\"http://www.w3.org/2000/svg\" height=\"24px\"viewBox=\"0 0 24 24\"\n",
              "     width=\"24px\">\n",
              "    <g>\n",
              "        <path d=\"M19 3H5c-1.1 0-2 .9-2 2v14c0 1.1.9 2 2 2h14c1.1 0 2-.9 2-2V5c0-1.1-.9-2-2-2zM9 17H7v-7h2v7zm4 0h-2V7h2v10zm4 0h-2v-4h2v4z\"/>\n",
              "    </g>\n",
              "</svg>\n",
              "  </button>\n",
              "\n",
              "<style>\n",
              "  .colab-df-quickchart {\n",
              "      --bg-color: #E8F0FE;\n",
              "      --fill-color: #1967D2;\n",
              "      --hover-bg-color: #E2EBFA;\n",
              "      --hover-fill-color: #174EA6;\n",
              "      --disabled-fill-color: #AAA;\n",
              "      --disabled-bg-color: #DDD;\n",
              "  }\n",
              "\n",
              "  [theme=dark] .colab-df-quickchart {\n",
              "      --bg-color: #3B4455;\n",
              "      --fill-color: #D2E3FC;\n",
              "      --hover-bg-color: #434B5C;\n",
              "      --hover-fill-color: #FFFFFF;\n",
              "      --disabled-bg-color: #3B4455;\n",
              "      --disabled-fill-color: #666;\n",
              "  }\n",
              "\n",
              "  .colab-df-quickchart {\n",
              "    background-color: var(--bg-color);\n",
              "    border: none;\n",
              "    border-radius: 50%;\n",
              "    cursor: pointer;\n",
              "    display: none;\n",
              "    fill: var(--fill-color);\n",
              "    height: 32px;\n",
              "    padding: 0;\n",
              "    width: 32px;\n",
              "  }\n",
              "\n",
              "  .colab-df-quickchart:hover {\n",
              "    background-color: var(--hover-bg-color);\n",
              "    box-shadow: 0 1px 2px rgba(60, 64, 67, 0.3), 0 1px 3px 1px rgba(60, 64, 67, 0.15);\n",
              "    fill: var(--button-hover-fill-color);\n",
              "  }\n",
              "\n",
              "  .colab-df-quickchart-complete:disabled,\n",
              "  .colab-df-quickchart-complete:disabled:hover {\n",
              "    background-color: var(--disabled-bg-color);\n",
              "    fill: var(--disabled-fill-color);\n",
              "    box-shadow: none;\n",
              "  }\n",
              "\n",
              "  .colab-df-spinner {\n",
              "    border: 2px solid var(--fill-color);\n",
              "    border-color: transparent;\n",
              "    border-bottom-color: var(--fill-color);\n",
              "    animation:\n",
              "      spin 1s steps(1) infinite;\n",
              "  }\n",
              "\n",
              "  @keyframes spin {\n",
              "    0% {\n",
              "      border-color: transparent;\n",
              "      border-bottom-color: var(--fill-color);\n",
              "      border-left-color: var(--fill-color);\n",
              "    }\n",
              "    20% {\n",
              "      border-color: transparent;\n",
              "      border-left-color: var(--fill-color);\n",
              "      border-top-color: var(--fill-color);\n",
              "    }\n",
              "    30% {\n",
              "      border-color: transparent;\n",
              "      border-left-color: var(--fill-color);\n",
              "      border-top-color: var(--fill-color);\n",
              "      border-right-color: var(--fill-color);\n",
              "    }\n",
              "    40% {\n",
              "      border-color: transparent;\n",
              "      border-right-color: var(--fill-color);\n",
              "      border-top-color: var(--fill-color);\n",
              "    }\n",
              "    60% {\n",
              "      border-color: transparent;\n",
              "      border-right-color: var(--fill-color);\n",
              "    }\n",
              "    80% {\n",
              "      border-color: transparent;\n",
              "      border-right-color: var(--fill-color);\n",
              "      border-bottom-color: var(--fill-color);\n",
              "    }\n",
              "    90% {\n",
              "      border-color: transparent;\n",
              "      border-bottom-color: var(--fill-color);\n",
              "    }\n",
              "  }\n",
              "</style>\n",
              "\n",
              "  <script>\n",
              "    async function quickchart(key) {\n",
              "      const quickchartButtonEl =\n",
              "        document.querySelector('#' + key + ' button');\n",
              "      quickchartButtonEl.disabled = true;  // To prevent multiple clicks.\n",
              "      quickchartButtonEl.classList.add('colab-df-spinner');\n",
              "      try {\n",
              "        const charts = await google.colab.kernel.invokeFunction(\n",
              "            'suggestCharts', [key], {});\n",
              "      } catch (error) {\n",
              "        console.error('Error during call to suggestCharts:', error);\n",
              "      }\n",
              "      quickchartButtonEl.classList.remove('colab-df-spinner');\n",
              "      quickchartButtonEl.classList.add('colab-df-quickchart-complete');\n",
              "    }\n",
              "    (() => {\n",
              "      let quickchartButtonEl =\n",
              "        document.querySelector('#df-8f12f81e-4d21-4613-b5b6-335c5d2b32fd button');\n",
              "      quickchartButtonEl.style.display =\n",
              "        google.colab.kernel.accessAllowed ? 'block' : 'none';\n",
              "    })();\n",
              "  </script>\n",
              "</div>\n",
              "\n",
              "    </div>\n",
              "  </div>\n"
            ],
            "application/vnd.google.colaboratory.intrinsic+json": {
              "type": "dataframe",
              "variable_name": "circles",
              "summary": "{\n  \"name\": \"circles\",\n  \"rows\": 1000,\n  \"fields\": [\n    {\n      \"column\": \"X1\",\n      \"properties\": {\n        \"dtype\": \"number\",\n        \"std\": 0.6398365674574613,\n        \"min\": -1.0595024599098635,\n        \"max\": 1.0337117525463373,\n        \"num_unique_values\": 1000,\n        \"samples\": [\n          -0.3751930206933384,\n          0.015380346701456493,\n          -0.7027835978832848\n        ],\n        \"semantic_type\": \"\",\n        \"description\": \"\"\n      }\n    },\n    {\n      \"column\": \"X2\",\n      \"properties\": {\n        \"dtype\": \"number\",\n        \"std\": 0.6411559581015384,\n        \"min\": -1.0677683182718436,\n        \"max\": 1.0360036756154805,\n        \"num_unique_values\": 1000,\n        \"samples\": [\n          0.6826597225888621,\n          0.9600260220697324,\n          -0.3147169925147762\n        ],\n        \"semantic_type\": \"\",\n        \"description\": \"\"\n      }\n    },\n    {\n      \"column\": \"label\",\n      \"properties\": {\n        \"dtype\": \"number\",\n        \"std\": 0,\n        \"min\": 0,\n        \"max\": 1,\n        \"num_unique_values\": 2,\n        \"samples\": [\n          0,\n          1\n        ],\n        \"semantic_type\": \"\",\n        \"description\": \"\"\n      }\n    }\n  ]\n}"
            }
          },
          "metadata": {},
          "execution_count": 45
        }
      ]
    },
    {
      "cell_type": "code",
      "source": [
        "import matplotlib.pylab as plt\n",
        "\n",
        "plt.scatter(X[:, 0], X[:, 1], c=y, cmap=plt.cm.RdYlBu)\n"
      ],
      "metadata": {
        "colab": {
          "base_uri": "https://localhost:8080/",
          "height": 448
        },
        "id": "CwiEaYsXvhdn",
        "outputId": "f87f5bc1-d4b5-47f8-c6a7-a6fd572a7550"
      },
      "execution_count": null,
      "outputs": [
        {
          "output_type": "execute_result",
          "data": {
            "text/plain": [
              "<matplotlib.collections.PathCollection at 0x7b5b272bc2b0>"
            ]
          },
          "metadata": {},
          "execution_count": 46
        },
        {
          "output_type": "display_data",
          "data": {
            "text/plain": [
              "<Figure size 640x480 with 1 Axes>"
            ],
            "image/png": "[encoded data removed]"
          },
          "metadata": {}
        }
      ]
    },
    {
      "cell_type": "code",
      "source": [
        "import torch\n",
        "import numpy as np\n",
        "torch.__version__"
      ],
      "metadata": {
        "colab": {
          "base_uri": "https://localhost:8080/",
          "height": 36
        },
        "id": "jup5ZkgnzZiO",
        "outputId": "392eb64c-6f17-4cbf-efce-abc5b7df0690"
      },
      "execution_count": null,
      "outputs": [
        {
          "output_type": "execute_result",
          "data": {
            "text/plain": [
              "'2.3.1+cu121'"
            ],
            "application/vnd.google.colaboratory.intrinsic+json": {
              "type": "string"
            }
          },
          "metadata": {},
          "execution_count": 47
        }
      ]
    },
    {
      "cell_type": "code",
      "source": [
        "X.dtype"
      ],
      "metadata": {
        "colab": {
          "base_uri": "https://localhost:8080/"
        },
        "id": "PfozEO_U0jWF",
        "outputId": "b98253f4-8ae8-4edb-85ea-b8bd9221bcf4"
      },
      "execution_count": null,
      "outputs": [
        {
          "output_type": "execute_result",
          "data": {
            "text/plain": [
              "dtype('float64')"
            ]
          },
          "metadata": {},
          "execution_count": 48
        }
      ]
    },
    {
      "cell_type": "code",
      "source": [
        "# Split the data\n",
        "from sklearn.model_selection import train_test_split\n",
        "\n",
        "X_train, X_test, y_train, y_test = train_test_split(X, y, test_size=0.2, random_state=42)"
      ],
      "metadata": {
        "id": "RzYvJg1QzcY9"
      },
      "execution_count": null,
      "outputs": []
    },
    {
      "cell_type": "code",
      "source": [
        "len(X_train), len(X_test)"
      ],
      "metadata": {
        "colab": {
          "base_uri": "https://localhost:8080/"
        },
        "id": "QPuLqEtB7RAv",
        "outputId": "9b43a36a-0ba4-4a48-e359-eb0105c19478"
      },
      "execution_count": null,
      "outputs": [
        {
          "output_type": "execute_result",
          "data": {
            "text/plain": [
              "(800, 200)"
            ]
          },
          "metadata": {},
          "execution_count": 50
        }
      ]
    },
    {
      "cell_type": "markdown",
      "source": [
        "## Build a model"
      ],
      "metadata": {
        "id": "VbtsP25l7jEl"
      }
    },
    {
      "cell_type": "code",
      "source": [
        "device = \"cuda\" if torch.cuda.is_available() else \"cpu\"\n",
        "device"
      ],
      "metadata": {
        "colab": {
          "base_uri": "https://localhost:8080/",
          "height": 36
        },
        "id": "Nlb4E4Mt7UOd",
        "outputId": "72b6b740-b2cc-40c0-e8fb-6ff71a8a660d"
      },
      "execution_count": null,
      "outputs": [
        {
          "output_type": "execute_result",
          "data": {
            "text/plain": [
              "'cpu'"
            ],
            "application/vnd.google.colaboratory.intrinsic+json": {
              "type": "string"
            }
          },
          "metadata": {},
          "execution_count": 51
        }
      ]
    },
    {
      "cell_type": "code",
      "source": [
        "from torch import nn"
      ],
      "metadata": {
        "id": "E8yMVgCe7vJG"
      },
      "execution_count": null,
      "outputs": []
    },
    {
      "cell_type": "code",
      "source": [
        "class CircleModelV1(nn.Module):\n",
        "    def __init__(self):\n",
        "        super().__init__()\n",
        "        self.layer_1 = nn.Linear(in_features=2, out_features=5)\n",
        "        self.layer_2 = nn.Linear(in_features=5, out_features=1)\n",
        "        self.sigmoid = nn.Sigmoid()\n",
        "\n",
        "    def forward(self, x):\n",
        "        return self.sigmoid(self.layer_2(self.layer_1(x)))\n",
        "\n",
        "model_0 = CircleModelV1().to(device)\n",
        "model_0"
      ],
      "metadata": {
        "colab": {
          "base_uri": "https://localhost:8080/"
        },
        "id": "ScDHczeY75fO",
        "outputId": "73ec6138-b2cb-4fab-f7ae-941b024b8abe"
      },
      "execution_count": null,
      "outputs": [
        {
          "output_type": "execute_result",
          "data": {
            "text/plain": [
              "CircleModelV1(\n",
              "  (layer_1): Linear(in_features=2, out_features=5, bias=True)\n",
              "  (layer_2): Linear(in_features=5, out_features=1, bias=True)\n",
              "  (sigmoid): Sigmoid()\n",
              ")"
            ]
          },
          "metadata": {},
          "execution_count": 53
        }
      ]
    },
    {
      "cell_type": "code",
      "source": [
        "# Replicating the model in less code\n",
        "model_0 = nn.Sequential(\n",
        "    nn.Linear(in_features=2, out_features=128, bias=True),\n",
        "    nn.ReLU(),\n",
        "    nn.Linear(in_features=128, out_features=256, bias=True),\n",
        "    nn.ReLU(),\n",
        "    nn.Linear(in_features=256, out_features=128, bias=True),\n",
        "    nn.ReLU(),\n",
        "    nn.Linear(in_features=128, out_features=1, bias=True),\n",
        ").to(device)\n",
        "\n",
        "model_0"
      ],
      "metadata": {
        "colab": {
          "base_uri": "https://localhost:8080/"
        },
        "id": "NcHFvRyt_jl3",
        "outputId": "96211e0e-5ff0-4d2f-d04b-4066f3bdfb7d"
      },
      "execution_count": null,
      "outputs": [
        {
          "output_type": "execute_result",
          "data": {
            "text/plain": [
              "Sequential(\n",
              "  (0): Linear(in_features=2, out_features=128, bias=True)\n",
              "  (1): ReLU()\n",
              "  (2): Linear(in_features=128, out_features=256, bias=True)\n",
              "  (3): ReLU()\n",
              "  (4): Linear(in_features=256, out_features=128, bias=True)\n",
              "  (5): ReLU()\n",
              "  (6): Linear(in_features=128, out_features=1, bias=True)\n",
              ")"
            ]
          },
          "metadata": {},
          "execution_count": 54
        }
      ]
    },
    {
      "cell_type": "code",
      "source": [
        "# Make predictions\n",
        "\n",
        "model_0.state_dict()"
      ],
      "metadata": {
        "colab": {
          "base_uri": "https://localhost:8080/"
        },
        "id": "TBKkWDkoBXcO",
        "outputId": "fcf3247f-863d-4412-d8c9-1870f9217cff"
      },
      "execution_count": null,
      "outputs": [
        {
          "output_type": "execute_result",
          "data": {
            "text/plain": [
              "OrderedDict([('0.weight',\n",
              "              tensor([[-0.0368, -0.3417],\n",
              "                      [ 0.4036,  0.3438],\n",
              "                      [-0.1776, -0.3313],\n",
              "                      [-0.0106,  0.3831],\n",
              "                      [-0.5190, -0.1288],\n",
              "                      [-0.6520, -0.2259],\n",
              "                      [ 0.0558,  0.3672],\n",
              "                      [-0.5746,  0.1334],\n",
              "                      [ 0.0025,  0.0750],\n",
              "                      [ 0.0267, -0.6598],\n",
              "                      [-0.5348, -0.4456],\n",
              "                      [-0.5210,  0.4824],\n",
              "                      [ 0.1564, -0.3363],\n",
              "                      [-0.5364, -0.4312],\n",
              "                      [ 0.3911, -0.3719],\n",
              "                      [-0.0616, -0.2671],\n",
              "                      [-0.2409,  0.2275],\n",
              "                      [ 0.5891, -0.1156],\n",
              "                      [-0.0441,  0.6017],\n",
              "                      [ 0.3067, -0.2833],\n",
              "                      [-0.5885, -0.3598],\n",
              "                      [-0.3516,  0.2486],\n",
              "                      [ 0.1130, -0.0736],\n",
              "                      [-0.2434, -0.4484],\n",
              "                      [ 0.6488, -0.6965],\n",
              "                      [-0.5113, -0.0291],\n",
              "                      [ 0.5928, -0.0623],\n",
              "                      [ 0.1444,  0.1550],\n",
              "                      [-0.6808,  0.4516],\n",
              "                      [-0.0049,  0.4107],\n",
              "                      [ 0.1402,  0.5347],\n",
              "                      [-0.3277,  0.6065],\n",
              "                      [-0.3015, -0.0796],\n",
              "                      [ 0.5329,  0.0744],\n",
              "                      [-0.2128,  0.4043],\n",
              "                      [ 0.5660,  0.1360],\n",
              "                      [-0.6887, -0.0415],\n",
              "                      [ 0.2548, -0.1705],\n",
              "                      [-0.2485,  0.3954],\n",
              "                      [ 0.0141,  0.6824],\n",
              "                      [ 0.2937, -0.6168],\n",
              "                      [-0.2151,  0.0843],\n",
              "                      [-0.6763,  0.3517],\n",
              "                      [ 0.1992, -0.3400],\n",
              "                      [ 0.1597, -0.0533],\n",
              "                      [ 0.1482, -0.6406],\n",
              "                      [ 0.3416,  0.1832],\n",
              "                      [ 0.2252,  0.5152],\n",
              "                      [-0.2796, -0.0406],\n",
              "                      [ 0.4025,  0.2375],\n",
              "                      [ 0.2589, -0.6033],\n",
              "                      [-0.0260, -0.0331],\n",
              "                      [ 0.6334,  0.6534],\n",
              "                      [ 0.4835, -0.5986],\n",
              "                      [ 0.2662,  0.6165],\n",
              "                      [-0.3848, -0.1579],\n",
              "                      [-0.0586, -0.1057],\n",
              "                      [-0.2404,  0.6794],\n",
              "                      [-0.5163,  0.3950],\n",
              "                      [-0.6352,  0.5174],\n",
              "                      [-0.0185,  0.5723],\n",
              "                      [-0.1820,  0.1929],\n",
              "                      [-0.5963, -0.0734],\n",
              "                      [-0.6478, -0.0842],\n",
              "                      [-0.5219,  0.1362],\n",
              "                      [-0.4912,  0.6063],\n",
              "                      [ 0.3925, -0.5170],\n",
              "                      [ 0.6029, -0.5109],\n",
              "                      [-0.0234, -0.4440],\n",
              "                      [-0.4082, -0.6630],\n",
              "                      [-0.0821, -0.6253],\n",
              "                      [-0.5215, -0.2508],\n",
              "                      [-0.0456,  0.0449],\n",
              "                      [ 0.2538,  0.5559],\n",
              "                      [-0.3305,  0.1388],\n",
              "                      [ 0.5440, -0.3441],\n",
              "                      [ 0.4415,  0.6425],\n",
              "                      [-0.1258, -0.5199],\n",
              "                      [ 0.2938,  0.3374],\n",
              "                      [-0.2916,  0.1973],\n",
              "                      [ 0.4253, -0.5307],\n",
              "                      [ 0.0051,  0.5921],\n",
              "                      [-0.2395, -0.0824],\n",
              "                      [ 0.6134,  0.5900],\n",
              "                      [ 0.6712,  0.1107],\n",
              "                      [ 0.6723,  0.6263],\n",
              "                      [-0.3816, -0.5976],\n",
              "                      [-0.5836,  0.0917],\n",
              "                      [ 0.4333,  0.5693],\n",
              "                      [-0.1563,  0.3790],\n",
              "                      [-0.4513,  0.2165],\n",
              "                      [-0.1786, -0.6446],\n",
              "                      [ 0.3831, -0.2838],\n",
              "                      [ 0.4944, -0.1095],\n",
              "                      [-0.2717,  0.2326],\n",
              "                      [-0.1310,  0.3438],\n",
              "                      [-0.1080, -0.0783],\n",
              "                      [ 0.2713,  0.5467],\n",
              "                      [ 0.0196, -0.0181],\n",
              "                      [ 0.2254, -0.2365],\n",
              "                      [-0.1250,  0.1953],\n",
              "                      [-0.2722,  0.3916],\n",
              "                      [ 0.6481, -0.4039],\n",
              "                      [ 0.5098, -0.6279],\n",
              "                      [-0.5626,  0.6069],\n",
              "                      [-0.5977, -0.3891],\n",
              "                      [ 0.1941, -0.5660],\n",
              "                      [ 0.3622, -0.4299],\n",
              "                      [ 0.2333, -0.5883],\n",
              "                      [-0.0064,  0.1732],\n",
              "                      [-0.4602, -0.5250],\n",
              "                      [ 0.6586,  0.1031],\n",
              "                      [-0.1928,  0.2693],\n",
              "                      [ 0.5978, -0.0592],\n",
              "                      [ 0.5466,  0.0204],\n",
              "                      [-0.0453,  0.5598],\n",
              "                      [-0.0938,  0.4694],\n",
              "                      [-0.5193, -0.6784],\n",
              "                      [ 0.2627,  0.4033],\n",
              "                      [-0.1613, -0.0282],\n",
              "                      [-0.0891,  0.2928],\n",
              "                      [ 0.6861, -0.1923],\n",
              "                      [-0.3287,  0.2804],\n",
              "                      [-0.5916,  0.3472],\n",
              "                      [-0.3853, -0.6988],\n",
              "                      [-0.5417, -0.4543],\n",
              "                      [ 0.1593, -0.1456],\n",
              "                      [-0.4963, -0.1605]])),\n",
              "             ('0.bias',\n",
              "              tensor([-0.2432, -0.1342,  0.3842,  0.4171,  0.3831, -0.2399, -0.1470,  0.3508,\n",
              "                      -0.5836,  0.1218,  0.1113,  0.4312,  0.5816,  0.2349, -0.3442,  0.2519,\n",
              "                       0.1801, -0.2436,  0.6957, -0.0535, -0.6378,  0.5467,  0.1480, -0.5229,\n",
              "                      -0.6835, -0.5972,  0.4817, -0.2981, -0.1541, -0.6706, -0.0731, -0.0031,\n",
              "                       0.3241,  0.6954,  0.0762, -0.4325, -0.5019,  0.1046, -0.5792,  0.6383,\n",
              "                       0.6509, -0.3640, -0.5624,  0.1631,  0.5537, -0.3890,  0.5574, -0.2656,\n",
              "                       0.3602, -0.4457,  0.2925,  0.3696,  0.5875,  0.3677, -0.5584, -0.1120,\n",
              "                      -0.1308, -0.4411,  0.2929,  0.3677,  0.2565, -0.6274, -0.2117,  0.7030,\n",
              "                      -0.6333, -0.6213, -0.2256, -0.5738,  0.5104, -0.6247,  0.1439, -0.0607,\n",
              "                      -0.0479, -0.1076, -0.3709, -0.1483,  0.4130,  0.0178, -0.3934, -0.0823,\n",
              "                      -0.5639, -0.4748,  0.3947, -0.6474,  0.6827, -0.1341, -0.2810, -0.4138,\n",
              "                       0.1781, -0.2664, -0.2012,  0.5016,  0.0075,  0.1625, -0.5520, -0.3391,\n",
              "                      -0.1451,  0.0946, -0.5762, -0.1240, -0.4766,  0.4842,  0.0366,  0.1369,\n",
              "                      -0.2338,  0.5639, -0.0420,  0.5376,  0.6697, -0.6416,  0.6588,  0.6318,\n",
              "                       0.7062,  0.6755, -0.2086, -0.6955,  0.5945, -0.0464, -0.4291,  0.3088,\n",
              "                      -0.4703,  0.1556,  0.6543,  0.5414, -0.3936, -0.1356,  0.6635,  0.2867])),\n",
              "             ('2.weight',\n",
              "              tensor([[-0.0402,  0.0837,  0.0855,  ...,  0.0032,  0.0781,  0.0622],\n",
              "                      [-0.0660,  0.0633,  0.0336,  ..., -0.0387, -0.0388, -0.0426],\n",
              "                      [-0.0660,  0.0880, -0.0301,  ...,  0.0072, -0.0715,  0.0749],\n",
              "                      ...,\n",
              "                      [-0.0641,  0.0454,  0.0803,  ...,  0.0155, -0.0752, -0.0552],\n",
              "                      [ 0.0764, -0.0024,  0.0100,  ..., -0.0869, -0.0504,  0.0227],\n",
              "                      [ 0.0301, -0.0002, -0.0332,  ...,  0.0244,  0.0695,  0.0779]])),\n",
              "             ('2.bias',\n",
              "              tensor([-0.0682, -0.0850,  0.0859,  0.0468, -0.0050, -0.0045,  0.0418,  0.0870,\n",
              "                       0.0248, -0.0084, -0.0401,  0.0387, -0.0693,  0.0462,  0.0624,  0.0436,\n",
              "                      -0.0069,  0.0142, -0.0532,  0.0025,  0.0878,  0.0257, -0.0182, -0.0706,\n",
              "                      -0.0362, -0.0500, -0.0574, -0.0092, -0.0691, -0.0700, -0.0166,  0.0275,\n",
              "                      -0.0284,  0.0341, -0.0309, -0.0534,  0.0653, -0.0754,  0.0478,  0.0499,\n",
              "                       0.0057,  0.0197, -0.0430, -0.0554,  0.0040, -0.0373,  0.0605,  0.0513,\n",
              "                       0.0437,  0.0262, -0.0859, -0.0854,  0.0479,  0.0369,  0.0251, -0.0720,\n",
              "                       0.0402, -0.0417, -0.0456,  0.0799, -0.0112,  0.0682, -0.0347, -0.0326,\n",
              "                      -0.0169, -0.0081, -0.0092,  0.0566, -0.0522, -0.0651,  0.0702, -0.0055,\n",
              "                       0.0574, -0.0848,  0.0351, -0.0153,  0.0357, -0.0289,  0.0088, -0.0224,\n",
              "                       0.0358, -0.0476,  0.0619,  0.0450,  0.0444, -0.0269, -0.0268,  0.0410,\n",
              "                      -0.0132, -0.0454, -0.0842, -0.0045, -0.0186,  0.0486,  0.0287,  0.0236,\n",
              "                      -0.0660,  0.0773, -0.0696,  0.0107,  0.0630,  0.0732,  0.0360,  0.0156,\n",
              "                       0.0691,  0.0851,  0.0751,  0.0318,  0.0457,  0.0453, -0.0121, -0.0849,\n",
              "                       0.0055, -0.0610,  0.0219,  0.0353, -0.0358, -0.0231,  0.0141, -0.0246,\n",
              "                       0.0517, -0.0174,  0.0224,  0.0291, -0.0079,  0.0792, -0.0568,  0.0735,\n",
              "                       0.0587,  0.0842, -0.0706, -0.0307,  0.0080, -0.0274,  0.0383,  0.0708,\n",
              "                       0.0268, -0.0881,  0.0709,  0.0713, -0.0739,  0.0130, -0.0063, -0.0004,\n",
              "                       0.0654,  0.0325, -0.0624,  0.0660,  0.0098,  0.0307,  0.0209, -0.0797,\n",
              "                       0.0428, -0.0567,  0.0430,  0.0062, -0.0873,  0.0811,  0.0299, -0.0801,\n",
              "                      -0.0862,  0.0455, -0.0717, -0.0280,  0.0239,  0.0315,  0.0640,  0.0778,\n",
              "                      -0.0071, -0.0655, -0.0589,  0.0766,  0.0112, -0.0882, -0.0330, -0.0327,\n",
              "                       0.0353,  0.0601, -0.0329, -0.0248,  0.0170, -0.0486,  0.0323, -0.0101,\n",
              "                      -0.0389, -0.0618, -0.0336, -0.0068, -0.0095,  0.0308,  0.0570,  0.0833,\n",
              "                      -0.0285, -0.0790, -0.0418,  0.0393, -0.0662,  0.0566, -0.0099,  0.0487,\n",
              "                       0.0227,  0.0158, -0.0527,  0.0841, -0.0352,  0.0372, -0.0687, -0.0085,\n",
              "                       0.0215,  0.0255,  0.0323,  0.0493,  0.0126, -0.0143,  0.0624, -0.0258,\n",
              "                       0.0293, -0.0661, -0.0774,  0.0559,  0.0586,  0.0699,  0.0522, -0.0783,\n",
              "                       0.0450, -0.0258, -0.0160, -0.0482,  0.0413,  0.0155,  0.0111,  0.0476,\n",
              "                      -0.0516, -0.0231, -0.0536, -0.0320,  0.0107,  0.0870,  0.0777, -0.0444,\n",
              "                      -0.0603, -0.0169, -0.0734, -0.0502, -0.0856, -0.0696, -0.0773, -0.0672,\n",
              "                      -0.0640,  0.0584,  0.0660, -0.0787, -0.0477, -0.0884,  0.0757, -0.0177])),\n",
              "             ('4.weight',\n",
              "              tensor([[-0.0441, -0.0593, -0.0273,  ...,  0.0255,  0.0346, -0.0246],\n",
              "                      [ 0.0473, -0.0131, -0.0125,  ...,  0.0622,  0.0326,  0.0322],\n",
              "                      [-0.0224,  0.0556,  0.0139,  ...,  0.0320,  0.0177,  0.0477],\n",
              "                      ...,\n",
              "                      [ 0.0229, -0.0586,  0.0107,  ...,  0.0493, -0.0376, -0.0013],\n",
              "                      [-0.0080, -0.0471, -0.0443,  ...,  0.0536, -0.0001,  0.0480],\n",
              "                      [-0.0271, -0.0009,  0.0451,  ...,  0.0368, -0.0585, -0.0367]])),\n",
              "             ('4.bias',\n",
              "              tensor([-0.0514, -0.0037, -0.0316, -0.0509,  0.0067, -0.0172,  0.0385,  0.0110,\n",
              "                       0.0209, -0.0080, -0.0430,  0.0450,  0.0189, -0.0380, -0.0137, -0.0272,\n",
              "                      -0.0165,  0.0499, -0.0541, -0.0029,  0.0184,  0.0274, -0.0314, -0.0328,\n",
              "                      -0.0174,  0.0463,  0.0582, -0.0426,  0.0170, -0.0098, -0.0181, -0.0341,\n",
              "                      -0.0596, -0.0160,  0.0486,  0.0447, -0.0095,  0.0126, -0.0111, -0.0564,\n",
              "                       0.0385, -0.0471,  0.0436, -0.0078,  0.0021,  0.0302, -0.0080, -0.0501,\n",
              "                       0.0468, -0.0236,  0.0292, -0.0167,  0.0178,  0.0197,  0.0035, -0.0367,\n",
              "                      -0.0215,  0.0610,  0.0262,  0.0366, -0.0223,  0.0071,  0.0555, -0.0329,\n",
              "                      -0.0544,  0.0365, -0.0415,  0.0029,  0.0245,  0.0178,  0.0464, -0.0521,\n",
              "                       0.0258,  0.0592,  0.0443, -0.0064, -0.0047,  0.0290, -0.0564, -0.0533,\n",
              "                       0.0493,  0.0220, -0.0199,  0.0505, -0.0395, -0.0251,  0.0336, -0.0044,\n",
              "                       0.0068,  0.0446,  0.0068,  0.0061, -0.0193,  0.0248, -0.0285,  0.0295,\n",
              "                       0.0580, -0.0521,  0.0494, -0.0423,  0.0263, -0.0142, -0.0582, -0.0098,\n",
              "                      -0.0284,  0.0080, -0.0104, -0.0408,  0.0051,  0.0126,  0.0624,  0.0163,\n",
              "                       0.0605, -0.0300,  0.0161,  0.0622, -0.0562, -0.0035,  0.0165, -0.0543,\n",
              "                      -0.0330,  0.0463, -0.0431, -0.0178,  0.0140, -0.0510, -0.0011, -0.0052])),\n",
              "             ('6.weight',\n",
              "              tensor([[-0.0744,  0.0403, -0.0365, -0.0194, -0.0845, -0.0086, -0.0489,  0.0805,\n",
              "                        0.0844,  0.0279, -0.0231, -0.0497,  0.0223,  0.0732, -0.0587, -0.0706,\n",
              "                       -0.0743,  0.0014, -0.0523, -0.0710,  0.0108,  0.0849, -0.0155, -0.0830,\n",
              "                       -0.0487, -0.0630,  0.0848, -0.0662,  0.0864,  0.0307, -0.0549, -0.0336,\n",
              "                        0.0224,  0.0545,  0.0626,  0.0524, -0.0060, -0.0289, -0.0048,  0.0121,\n",
              "                       -0.0795, -0.0417, -0.0695,  0.0509, -0.0598, -0.0703, -0.0019,  0.0087,\n",
              "                       -0.0034,  0.0363, -0.0211,  0.0848,  0.0497,  0.0226, -0.0361,  0.0345,\n",
              "                        0.0831,  0.0808,  0.0552,  0.0353, -0.0154,  0.0022,  0.0352,  0.0623,\n",
              "                       -0.0148, -0.0637,  0.0435,  0.0332, -0.0719, -0.0102,  0.0078,  0.0013,\n",
              "                        0.0682,  0.0881,  0.0767,  0.0250, -0.0325, -0.0146, -0.0567, -0.0209,\n",
              "                        0.0479,  0.0014,  0.0461, -0.0135, -0.0094, -0.0121,  0.0241,  0.0696,\n",
              "                        0.0473,  0.0537, -0.0792,  0.0838,  0.0765, -0.0211,  0.0783,  0.0317,\n",
              "                       -0.0593,  0.0575,  0.0077, -0.0320,  0.0176, -0.0698, -0.0484, -0.0276,\n",
              "                        0.0597,  0.0025, -0.0362, -0.0085,  0.0509, -0.0071, -0.0601, -0.0426,\n",
              "                        0.0124, -0.0146,  0.0600, -0.0157,  0.0307, -0.0584,  0.0019,  0.0245,\n",
              "                        0.0714,  0.0278, -0.0488, -0.0164,  0.0236, -0.0269, -0.0244, -0.0143]])),\n",
              "             ('6.bias', tensor([-0.0684]))])"
            ]
          },
          "metadata": {},
          "execution_count": 55
        }
      ]
    },
    {
      "cell_type": "code",
      "source": [
        "with torch.inference_mode():\n",
        "    untrained_preds = model_0(torch.from_numpy(X_test).type(torch.float).to(device))\n",
        "print(f\"Length of predictions:  {len(untrained_preds)}, SHape: {untrained_preds.shape}\")\n",
        "print(f\"Predictions: {untrained_preds[:10]}\")\n",
        "print(f\"Actual values: {torch.tensor(y_test[:10])}\")"
      ],
      "metadata": {
        "colab": {
          "base_uri": "https://localhost:8080/"
        },
        "id": "cVE0u2aMB8Vv",
        "outputId": "7ddaf3fd-9040-4267-8701-617652bc2877"
      },
      "execution_count": null,
      "outputs": [
        {
          "output_type": "stream",
          "name": "stdout",
          "text": [
            "Length of predictions:  200, SHape: torch.Size([200, 1])\n",
            "Predictions: tensor([[-0.0532],\n",
            "        [-0.0393],\n",
            "        [-0.0698],\n",
            "        [-0.0443],\n",
            "        [-0.0516],\n",
            "        [-0.0365],\n",
            "        [-0.0191],\n",
            "        [-0.0092],\n",
            "        [-0.0692],\n",
            "        [-0.0386]])\n",
            "Actual values: tensor([1, 0, 1, 0, 1, 1, 0, 0, 1, 0])\n"
          ]
        }
      ]
    },
    {
      "cell_type": "code",
      "source": [
        "# Loss function and optimizer\n",
        "\n",
        "loss_fn = nn.BCEWithLogitsLoss()\n",
        "optimizer = torch.optim.Adam(params=model_0.parameters(), lr=0.0001)\n"
      ],
      "metadata": {
        "id": "xKBL_iFLDAFA"
      },
      "execution_count": null,
      "outputs": []
    },
    {
      "cell_type": "code",
      "source": [
        "def accuracy_fn(y_true, y_pred):\n",
        "    correct = torch.eq(y_true, y_pred).sum().item()\n",
        "    acc = (correct / len(y_pred)) * 100\n",
        "    return acc"
      ],
      "metadata": {
        "id": "DK1Fun0-DguW"
      },
      "execution_count": null,
      "outputs": []
    },
    {
      "cell_type": "code",
      "source": [
        "model_0.eval()\n",
        "with torch.inference_mode():\n",
        "    y_logits = model_0(torch.from_numpy(X_test).type(torch.float).to(device))\n",
        "# y_pred = torch.round(y_logits)\n",
        "y_logits"
      ],
      "metadata": {
        "colab": {
          "base_uri": "https://localhost:8080/"
        },
        "collapsed": true,
        "id": "abydchKx9IXq",
        "outputId": "17dff77a-7a55-4662-c72d-f2b9929087a0"
      },
      "execution_count": null,
      "outputs": [
        {
          "output_type": "execute_result",
          "data": {
            "text/plain": [
              "tensor([[-0.0532],\n",
              "        [-0.0393],\n",
              "        [-0.0698],\n",
              "        [-0.0443],\n",
              "        [-0.0516],\n",
              "        [-0.0365],\n",
              "        [-0.0191],\n",
              "        [-0.0092],\n",
              "        [-0.0692],\n",
              "        [-0.0386],\n",
              "        [-0.0529],\n",
              "        [-0.0478],\n",
              "        [-0.0125],\n",
              "        [-0.0734],\n",
              "        [-0.0696],\n",
              "        [-0.0241],\n",
              "        [-0.0386],\n",
              "        [-0.0592],\n",
              "        [-0.0612],\n",
              "        [-0.0666],\n",
              "        [-0.0388],\n",
              "        [-0.0082],\n",
              "        [-0.0649],\n",
              "        [-0.0638],\n",
              "        [-0.0298],\n",
              "        [-0.0170],\n",
              "        [-0.0672],\n",
              "        [-0.0219],\n",
              "        [-0.0698],\n",
              "        [-0.0719],\n",
              "        [-0.0343],\n",
              "        [-0.0300],\n",
              "        [-0.0498],\n",
              "        [-0.0640],\n",
              "        [-0.0528],\n",
              "        [-0.0419],\n",
              "        [-0.0460],\n",
              "        [-0.0727],\n",
              "        [-0.0644],\n",
              "        [-0.0729],\n",
              "        [-0.0653],\n",
              "        [-0.0681],\n",
              "        [-0.0392],\n",
              "        [-0.0531],\n",
              "        [-0.0492],\n",
              "        [-0.0404],\n",
              "        [-0.0460],\n",
              "        [-0.0383],\n",
              "        [-0.0449],\n",
              "        [-0.0438],\n",
              "        [-0.0455],\n",
              "        [-0.0477],\n",
              "        [-0.0155],\n",
              "        [-0.0587],\n",
              "        [-0.0275],\n",
              "        [-0.0689],\n",
              "        [-0.0243],\n",
              "        [-0.0732],\n",
              "        [-0.0645],\n",
              "        [-0.0656],\n",
              "        [-0.0450],\n",
              "        [-0.0150],\n",
              "        [-0.0655],\n",
              "        [-0.0730],\n",
              "        [-0.0507],\n",
              "        [-0.0431],\n",
              "        [-0.0220],\n",
              "        [-0.0089],\n",
              "        [-0.0359],\n",
              "        [-0.0121],\n",
              "        [-0.0270],\n",
              "        [-0.0331],\n",
              "        [-0.0671],\n",
              "        [-0.0684],\n",
              "        [-0.0210],\n",
              "        [-0.0301],\n",
              "        [-0.0651],\n",
              "        [-0.0251],\n",
              "        [-0.0557],\n",
              "        [-0.0347],\n",
              "        [-0.0666],\n",
              "        [-0.0527],\n",
              "        [-0.0145],\n",
              "        [-0.0647],\n",
              "        [-0.0646],\n",
              "        [-0.0378],\n",
              "        [-0.0405],\n",
              "        [-0.0743],\n",
              "        [-0.0624],\n",
              "        [-0.0076],\n",
              "        [-0.0700],\n",
              "        [-0.0643],\n",
              "        [-0.0660],\n",
              "        [-0.0553],\n",
              "        [-0.0736],\n",
              "        [-0.0580],\n",
              "        [-0.0429],\n",
              "        [-0.0670],\n",
              "        [-0.0662],\n",
              "        [-0.0626],\n",
              "        [-0.0373],\n",
              "        [-0.0697],\n",
              "        [-0.0394],\n",
              "        [-0.0247],\n",
              "        [-0.0660],\n",
              "        [-0.0631],\n",
              "        [-0.0656],\n",
              "        [-0.0235],\n",
              "        [-0.0742],\n",
              "        [-0.0254],\n",
              "        [-0.0442],\n",
              "        [-0.0597],\n",
              "        [-0.0310],\n",
              "        [-0.0383],\n",
              "        [-0.0183],\n",
              "        [-0.0676],\n",
              "        [-0.0707],\n",
              "        [-0.0724],\n",
              "        [-0.0687],\n",
              "        [-0.0645],\n",
              "        [-0.0646],\n",
              "        [-0.0640],\n",
              "        [-0.0173],\n",
              "        [-0.0649],\n",
              "        [-0.0202],\n",
              "        [-0.0697],\n",
              "        [-0.0706],\n",
              "        [-0.0378],\n",
              "        [-0.0413],\n",
              "        [-0.0341],\n",
              "        [-0.0654],\n",
              "        [-0.0199],\n",
              "        [-0.0641],\n",
              "        [-0.0351],\n",
              "        [-0.0321],\n",
              "        [-0.0164],\n",
              "        [-0.0615],\n",
              "        [-0.0732],\n",
              "        [-0.0656],\n",
              "        [-0.0391],\n",
              "        [-0.0703],\n",
              "        [-0.0292],\n",
              "        [-0.0641],\n",
              "        [-0.0709],\n",
              "        [-0.0695],\n",
              "        [-0.0621],\n",
              "        [-0.0285],\n",
              "        [-0.0710],\n",
              "        [-0.0374],\n",
              "        [-0.0435],\n",
              "        [-0.0238],\n",
              "        [-0.0271],\n",
              "        [-0.0682],\n",
              "        [-0.0695],\n",
              "        [-0.0231],\n",
              "        [-0.0408],\n",
              "        [-0.0363],\n",
              "        [-0.0700],\n",
              "        [-0.0718],\n",
              "        [-0.0687],\n",
              "        [-0.0466],\n",
              "        [-0.0234],\n",
              "        [-0.0713],\n",
              "        [-0.0617],\n",
              "        [-0.0380],\n",
              "        [-0.0489],\n",
              "        [-0.0125],\n",
              "        [-0.0724],\n",
              "        [-0.0315],\n",
              "        [-0.0391],\n",
              "        [-0.0368],\n",
              "        [-0.0382],\n",
              "        [-0.0255],\n",
              "        [-0.0180],\n",
              "        [-0.0183],\n",
              "        [-0.0279],\n",
              "        [-0.0608],\n",
              "        [-0.0122],\n",
              "        [-0.0378],\n",
              "        [-0.0583],\n",
              "        [-0.0473],\n",
              "        [-0.0670],\n",
              "        [-0.0293],\n",
              "        [-0.0725],\n",
              "        [-0.0646],\n",
              "        [-0.0661],\n",
              "        [-0.0393],\n",
              "        [-0.0163],\n",
              "        [-0.0450],\n",
              "        [-0.0505],\n",
              "        [-0.0664],\n",
              "        [-0.0710],\n",
              "        [-0.0368],\n",
              "        [-0.0296],\n",
              "        [-0.0727],\n",
              "        [-0.0243],\n",
              "        [-0.0641],\n",
              "        [-0.0107],\n",
              "        [-0.0650],\n",
              "        [-0.0386]])"
            ]
          },
          "metadata": {},
          "execution_count": 59
        }
      ]
    },
    {
      "cell_type": "code",
      "source": [
        "X_test[:5]"
      ],
      "metadata": {
        "colab": {
          "base_uri": "https://localhost:8080/"
        },
        "id": "4aymaEXouoX_",
        "outputId": "89d63416-388f-4a0b-9214-bcb33c797b8c"
      },
      "execution_count": null,
      "outputs": [
        {
          "output_type": "execute_result",
          "data": {
            "text/plain": [
              "array([[-0.37519302,  0.68265972],\n",
              "       [ 0.01538035,  0.96002602],\n",
              "       [-0.7027836 , -0.31471699],\n",
              "       [-0.28525015,  0.96637754],\n",
              "       [ 0.40241682, -0.74375355]])"
            ]
          },
          "metadata": {},
          "execution_count": 60
        }
      ]
    },
    {
      "cell_type": "code",
      "source": [
        "y_pred_probs = torch.sigmoid(y_logits)\n",
        "y_pred_probs"
      ],
      "metadata": {
        "colab": {
          "base_uri": "https://localhost:8080/"
        },
        "collapsed": true,
        "id": "sjU21GvypBXl",
        "outputId": "ed1fec15-d355-40bb-a8e0-0657ecd20425"
      },
      "execution_count": null,
      "outputs": [
        {
          "output_type": "execute_result",
          "data": {
            "text/plain": [
              "tensor([[0.4867],\n",
              "        [0.4902],\n",
              "        [0.4825],\n",
              "        [0.4889],\n",
              "        [0.4871],\n",
              "        [0.4909],\n",
              "        [0.4952],\n",
              "        [0.4977],\n",
              "        [0.4827],\n",
              "        [0.4903],\n",
              "        [0.4868],\n",
              "        [0.4881],\n",
              "        [0.4969],\n",
              "        [0.4817],\n",
              "        [0.4826],\n",
              "        [0.4940],\n",
              "        [0.4903],\n",
              "        [0.4852],\n",
              "        [0.4847],\n",
              "        [0.4834],\n",
              "        [0.4903],\n",
              "        [0.4980],\n",
              "        [0.4838],\n",
              "        [0.4840],\n",
              "        [0.4925],\n",
              "        [0.4958],\n",
              "        [0.4832],\n",
              "        [0.4945],\n",
              "        [0.4826],\n",
              "        [0.4820],\n",
              "        [0.4914],\n",
              "        [0.4925],\n",
              "        [0.4876],\n",
              "        [0.4840],\n",
              "        [0.4868],\n",
              "        [0.4895],\n",
              "        [0.4885],\n",
              "        [0.4818],\n",
              "        [0.4839],\n",
              "        [0.4818],\n",
              "        [0.4837],\n",
              "        [0.4830],\n",
              "        [0.4902],\n",
              "        [0.4867],\n",
              "        [0.4877],\n",
              "        [0.4899],\n",
              "        [0.4885],\n",
              "        [0.4904],\n",
              "        [0.4888],\n",
              "        [0.4890],\n",
              "        [0.4886],\n",
              "        [0.4881],\n",
              "        [0.4961],\n",
              "        [0.4853],\n",
              "        [0.4931],\n",
              "        [0.4828],\n",
              "        [0.4939],\n",
              "        [0.4817],\n",
              "        [0.4839],\n",
              "        [0.4836],\n",
              "        [0.4887],\n",
              "        [0.4963],\n",
              "        [0.4836],\n",
              "        [0.4818],\n",
              "        [0.4873],\n",
              "        [0.4892],\n",
              "        [0.4945],\n",
              "        [0.4978],\n",
              "        [0.4910],\n",
              "        [0.4970],\n",
              "        [0.4933],\n",
              "        [0.4917],\n",
              "        [0.4832],\n",
              "        [0.4829],\n",
              "        [0.4948],\n",
              "        [0.4925],\n",
              "        [0.4837],\n",
              "        [0.4937],\n",
              "        [0.4861],\n",
              "        [0.4913],\n",
              "        [0.4834],\n",
              "        [0.4868],\n",
              "        [0.4964],\n",
              "        [0.4838],\n",
              "        [0.4839],\n",
              "        [0.4906],\n",
              "        [0.4899],\n",
              "        [0.4814],\n",
              "        [0.4844],\n",
              "        [0.4981],\n",
              "        [0.4825],\n",
              "        [0.4839],\n",
              "        [0.4835],\n",
              "        [0.4862],\n",
              "        [0.4816],\n",
              "        [0.4855],\n",
              "        [0.4893],\n",
              "        [0.4832],\n",
              "        [0.4835],\n",
              "        [0.4844],\n",
              "        [0.4907],\n",
              "        [0.4826],\n",
              "        [0.4902],\n",
              "        [0.4938],\n",
              "        [0.4835],\n",
              "        [0.4842],\n",
              "        [0.4836],\n",
              "        [0.4941],\n",
              "        [0.4815],\n",
              "        [0.4936],\n",
              "        [0.4890],\n",
              "        [0.4851],\n",
              "        [0.4922],\n",
              "        [0.4904],\n",
              "        [0.4954],\n",
              "        [0.4831],\n",
              "        [0.4823],\n",
              "        [0.4819],\n",
              "        [0.4828],\n",
              "        [0.4839],\n",
              "        [0.4839],\n",
              "        [0.4840],\n",
              "        [0.4957],\n",
              "        [0.4838],\n",
              "        [0.4949],\n",
              "        [0.4826],\n",
              "        [0.4823],\n",
              "        [0.4905],\n",
              "        [0.4897],\n",
              "        [0.4915],\n",
              "        [0.4837],\n",
              "        [0.4950],\n",
              "        [0.4840],\n",
              "        [0.4912],\n",
              "        [0.4920],\n",
              "        [0.4959],\n",
              "        [0.4846],\n",
              "        [0.4817],\n",
              "        [0.4836],\n",
              "        [0.4902],\n",
              "        [0.4824],\n",
              "        [0.4927],\n",
              "        [0.4840],\n",
              "        [0.4823],\n",
              "        [0.4826],\n",
              "        [0.4845],\n",
              "        [0.4929],\n",
              "        [0.4823],\n",
              "        [0.4907],\n",
              "        [0.4891],\n",
              "        [0.4941],\n",
              "        [0.4932],\n",
              "        [0.4830],\n",
              "        [0.4826],\n",
              "        [0.4942],\n",
              "        [0.4898],\n",
              "        [0.4909],\n",
              "        [0.4825],\n",
              "        [0.4821],\n",
              "        [0.4828],\n",
              "        [0.4884],\n",
              "        [0.4942],\n",
              "        [0.4822],\n",
              "        [0.4846],\n",
              "        [0.4905],\n",
              "        [0.4878],\n",
              "        [0.4969],\n",
              "        [0.4819],\n",
              "        [0.4921],\n",
              "        [0.4902],\n",
              "        [0.4908],\n",
              "        [0.4905],\n",
              "        [0.4936],\n",
              "        [0.4955],\n",
              "        [0.4954],\n",
              "        [0.4930],\n",
              "        [0.4848],\n",
              "        [0.4970],\n",
              "        [0.4905],\n",
              "        [0.4854],\n",
              "        [0.4882],\n",
              "        [0.4832],\n",
              "        [0.4927],\n",
              "        [0.4819],\n",
              "        [0.4839],\n",
              "        [0.4835],\n",
              "        [0.4902],\n",
              "        [0.4959],\n",
              "        [0.4888],\n",
              "        [0.4874],\n",
              "        [0.4834],\n",
              "        [0.4823],\n",
              "        [0.4908],\n",
              "        [0.4926],\n",
              "        [0.4818],\n",
              "        [0.4939],\n",
              "        [0.4840],\n",
              "        [0.4973],\n",
              "        [0.4838],\n",
              "        [0.4904]])"
            ]
          },
          "metadata": {},
          "execution_count": 61
        }
      ]
    },
    {
      "cell_type": "code",
      "source": [
        "y_preds = torch.round(y_pred_probs)\n",
        "\n",
        "y_pred_labels = torch.round(torch.sigmoid(model_0(torch.from_numpy(X_test).type(torch.float).to(device))))\n",
        "\n",
        "print(torch.eq(y_preds.squeeze(), y_pred_labels.squeeze()))\n",
        "\n",
        "y_preds.squeeze()"
      ],
      "metadata": {
        "colab": {
          "base_uri": "https://localhost:8080/"
        },
        "collapsed": true,
        "id": "hyXyINlApDKQ",
        "outputId": "9c18ccdf-6305-4b52-b6f6-7e5c0107306d"
      },
      "execution_count": null,
      "outputs": [
        {
          "output_type": "stream",
          "name": "stdout",
          "text": [
            "tensor([True, True, True, True, True, True, True, True, True, True, True, True,\n",
            "        True, True, True, True, True, True, True, True, True, True, True, True,\n",
            "        True, True, True, True, True, True, True, True, True, True, True, True,\n",
            "        True, True, True, True, True, True, True, True, True, True, True, True,\n",
            "        True, True, True, True, True, True, True, True, True, True, True, True,\n",
            "        True, True, True, True, True, True, True, True, True, True, True, True,\n",
            "        True, True, True, True, True, True, True, True, True, True, True, True,\n",
            "        True, True, True, True, True, True, True, True, True, True, True, True,\n",
            "        True, True, True, True, True, True, True, True, True, True, True, True,\n",
            "        True, True, True, True, True, True, True, True, True, True, True, True,\n",
            "        True, True, True, True, True, True, True, True, True, True, True, True,\n",
            "        True, True, True, True, True, True, True, True, True, True, True, True,\n",
            "        True, True, True, True, True, True, True, True, True, True, True, True,\n",
            "        True, True, True, True, True, True, True, True, True, True, True, True,\n",
            "        True, True, True, True, True, True, True, True, True, True, True, True,\n",
            "        True, True, True, True, True, True, True, True, True, True, True, True,\n",
            "        True, True, True, True, True, True, True, True])\n"
          ]
        },
        {
          "output_type": "execute_result",
          "data": {
            "text/plain": [
              "tensor([0., 0., 0., 0., 0., 0., 0., 0., 0., 0., 0., 0., 0., 0., 0., 0., 0., 0., 0., 0., 0., 0., 0., 0.,\n",
              "        0., 0., 0., 0., 0., 0., 0., 0., 0., 0., 0., 0., 0., 0., 0., 0., 0., 0., 0., 0., 0., 0., 0., 0.,\n",
              "        0., 0., 0., 0., 0., 0., 0., 0., 0., 0., 0., 0., 0., 0., 0., 0., 0., 0., 0., 0., 0., 0., 0., 0.,\n",
              "        0., 0., 0., 0., 0., 0., 0., 0., 0., 0., 0., 0., 0., 0., 0., 0., 0., 0., 0., 0., 0., 0., 0., 0.,\n",
              "        0., 0., 0., 0., 0., 0., 0., 0., 0., 0., 0., 0., 0., 0., 0., 0., 0., 0., 0., 0., 0., 0., 0., 0.,\n",
              "        0., 0., 0., 0., 0., 0., 0., 0., 0., 0., 0., 0., 0., 0., 0., 0., 0., 0., 0., 0., 0., 0., 0., 0.,\n",
              "        0., 0., 0., 0., 0., 0., 0., 0., 0., 0., 0., 0., 0., 0., 0., 0., 0., 0., 0., 0., 0., 0., 0., 0.,\n",
              "        0., 0., 0., 0., 0., 0., 0., 0., 0., 0., 0., 0., 0., 0., 0., 0., 0., 0., 0., 0., 0., 0., 0., 0.,\n",
              "        0., 0., 0., 0., 0., 0., 0., 0.])"
            ]
          },
          "metadata": {},
          "execution_count": 62
        }
      ]
    },
    {
      "cell_type": "code",
      "source": [
        "epochs = 200\n",
        "\n",
        "X_train = torch.from_numpy(X_train).type(torch.float).to(device) if torch.is_tensor(X_train) == False else X_train\n",
        "X_test = torch.from_numpy(X_test).type(torch.float).to(device) if torch.is_tensor(X_test) == False else X_test\n",
        "y_train = torch.from_numpy(y_train).type(torch.float).to(device) if torch.is_tensor(y_train) == False else y_train\n",
        "y_test = torch.from_numpy(y_test).type(torch.float).to(device) if torch.is_tensor(y_test) == False else y_test\n",
        "\n",
        "for epoch in range(epochs):\n",
        "    model_0.train()\n",
        "\n",
        "    y_logits = model_0(X_train).squeeze()\n",
        "    loss = loss_fn(y_logits, y_train).to(device)\n",
        "\n",
        "\n",
        "    y_pred = torch.round(torch.sigmoid(y_logits).to(device))\n",
        "    acc = accuracy_fn(y_train, y_pred)\n",
        "\n",
        "    optimizer.zero_grad()\n",
        "\n",
        "    loss.backward()\n",
        "\n",
        "    optimizer.step()\n",
        "\n",
        "    model_0.eval()\n",
        "    with torch.inference_mode():\n",
        "        test_logits = model_0(X_test).squeeze()\n",
        "        test_loss = loss_fn(test_logits, y_test)\n",
        "        test_pred = torch.round(torch.sigmoid(test_logits))\n",
        "        test_acc = accuracy_fn(y_test, test_pred)\n",
        "\n",
        "        if epoch % 20 == 0:\n",
        "            test_loss = loss_fn(test_logits, y_test)\n",
        "            print(f\"Epoch: {epoch} | Loss: {loss} | Accuracy: {acc} | Test loss: {test_loss} | Test accuracy: {accuracy_fn(y_test, test_pred)}\")"
      ],
      "metadata": {
        "colab": {
          "base_uri": "https://localhost:8080/"
        },
        "id": "2Ftb1O01vgsR",
        "outputId": "caeb4ab5-ad84-4434-cb70-53f9e7bca780"
      },
      "execution_count": null,
      "outputs": [
        {
          "output_type": "stream",
          "name": "stdout",
          "text": [
            "Epoch: 0 | Loss: 0.6942698955535889 | Accuracy: 50.0 | Test loss: 0.6945340633392334 | Test accuracy: 50.0\n",
            "Epoch: 20 | Loss: 0.6879714131355286 | Accuracy: 50.0 | Test loss: 0.6896142363548279 | Test accuracy: 50.0\n",
            "Epoch: 40 | Loss: 0.6807340383529663 | Accuracy: 55.25 | Test loss: 0.6836514472961426 | Test accuracy: 54.0\n",
            "Epoch: 60 | Loss: 0.6690908670425415 | Accuracy: 73.25 | Test loss: 0.6737111806869507 | Test accuracy: 70.5\n",
            "Epoch: 80 | Loss: 0.6496798992156982 | Accuracy: 84.875 | Test loss: 0.6562818884849548 | Test accuracy: 81.0\n",
            "Epoch: 100 | Loss: 0.619048535823822 | Accuracy: 96.375 | Test loss: 0.6286041736602783 | Test accuracy: 95.0\n",
            "Epoch: 120 | Loss: 0.5734485387802124 | Accuracy: 99.375 | Test loss: 0.5869112610816956 | Test accuracy: 98.0\n",
            "Epoch: 140 | Loss: 0.5119275450706482 | Accuracy: 99.75 | Test loss: 0.530447244644165 | Test accuracy: 99.0\n",
            "Epoch: 160 | Loss: 0.43781909346580505 | Accuracy: 99.875 | Test loss: 0.4622351825237274 | Test accuracy: 99.5\n",
            "Epoch: 180 | Loss: 0.3586612939834595 | Accuracy: 100.0 | Test loss: 0.3879855275154114 | Test accuracy: 100.0\n"
          ]
        }
      ]
    },
    {
      "cell_type": "code",
      "source": [
        "import requests\n",
        "from pathlib import Path\n",
        "\n",
        "if Path(\"helper_functions.py\").is_file():\n",
        "    print(\"helper_functions.py already exists\")\n",
        "else:\n",
        "    print(\"Downloading helper_functions.py\")\n",
        "    request = requests.get(\"https://raw.githubusercontent.com/mrdbourke/pytorch-deep-learning/main/helper_functions.py\")\n",
        "    with open(\"helper_functions.py\", \"wb\") as f:\n",
        "        f.write(request.content)\n",
        "\n",
        "from helper_functions import plot_predictions, plot_decision_boundary"
      ],
      "metadata": {
        "id": "A5Kp-F6HxdAI",
        "colab": {
          "base_uri": "https://localhost:8080/"
        },
        "outputId": "784593c8-3cf4-494c-be07-bc85c1c05551"
      },
      "execution_count": null,
      "outputs": [
        {
          "output_type": "stream",
          "name": "stdout",
          "text": [
            "helper_functions.py already exists\n"
          ]
        }
      ]
    },
    {
      "cell_type": "code",
      "source": [
        "plt.figure(figsize=(12, 6))\n",
        "plt.subplot(1, 2, 1)\n",
        "plt.title(\"Train\")\n",
        "plot_decision_boundary(model_0, X_train, y_train)\n",
        "plt.subplot(1, 2, 2)\n",
        "plt.title(\"Test\")\n",
        "plot_decision_boundary(model_0, X_test, y_test)\n",
        "\n"
      ],
      "metadata": {
        "colab": {
          "base_uri": "https://localhost:8080/",
          "height": 545
        },
        "id": "J5E77oPLMvmO",
        "outputId": "4f0e805c-525c-411e-9836-d74bae1460b8"
      },
      "execution_count": null,
      "outputs": [
        {
          "output_type": "display_data",
          "data": {
            "text/plain": [
              "<Figure size 1200x600 with 2 Axes>"
            ],
            "image/png": "[encoded data removed]"
          },
          "metadata": {}
        }
      ]
    }
  ]
}